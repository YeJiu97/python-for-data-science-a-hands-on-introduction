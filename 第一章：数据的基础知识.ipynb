{
 "cells": [
  {
   "cell_type": "markdown",
   "id": "a23812e9-f583-41ae-8977-f7c5bc242e2e",
   "metadata": {},
   "source": [
    "# 数据的类型"
   ]
  },
  {
   "cell_type": "markdown",
   "id": "248b7798-0234-4bd8-9fea-b47fad6986b6",
   "metadata": {},
   "source": [
    "**数据类型**"
   ]
  },
  {
   "cell_type": "markdown",
   "id": "5882dbef-772d-4618-bf7b-d4257412c23e",
   "metadata": {},
   "source": [
    "数据有三种类别：\n",
    "\n",
    "1. 非结构化数据：灭有预先定义的结构或者模式的数据\n",
    "2. 结构化数据：没有预定义的格式，用于明确数据的组织形式\n",
    "3. 半结构化数据：信息的格式无法满足严格的格式化要求的时候，需要使用到半结构化数据结构"
   ]
  },
  {
   "cell_type": "markdown",
   "id": "6405b763-d111-4f0d-8bb1-529f37c234be",
   "metadata": {},
   "source": [
    "**结构化数据结构**"
   ]
  },
  {
   "cell_type": "markdown",
   "id": "041964e9-6a60-4776-ab76-b94615e43338",
   "metadata": {},
   "source": [
    "结构化数据，也称为行数据，是由二维表结构来逻辑表达和实现的数据。这种数据严格遵循数据格式与长度规范，主要通过关系型数据库进行存储和管理。结构化数据的基本特征包括：\n",
    "\n",
    "数据组织结构清晰：每个数据元素都有明确的标识和属性，这使得结构化数据易于被计算机处理。\n",
    "\n",
    "存储在数据库中：结构化数据通常存储在定义明确的模式中，例如数据库。它可以以表格的形式存在，具有行和列的清晰定义。\n",
    "\n",
    "遵循一致的顺序：数据遵循一致的顺序，有助于提高数据的可访问性和易用性。\n",
    "\n",
    "数据易于访问和使用：结构化数据的特点使其易于被个人或计算机程序访问和使用。\n",
    "\n",
    "此外，结构化数据还涉及到高速存储应用需求、数据备份需求、数据共享需求以及数据容灾需求等基本需求。\n",
    "\n",
    "结构化数据有两种类型：\n",
    "\n",
    "- 数值数据：数值数据（或定量数据）是指可以通过数字表示和测量得到的结果，主要用于描述事物的数量属性。数值数据可以分为连续型和离散型两种类型。连续型数据可以测量任意两个数值之间的差异，例如身高、体重、年龄等；离散型数据只能表示一定数量单位的数量，例如人数、考试分数等。\n",
    "- 分类数据：按照现象的某种属性对其进行分类或分组而得到的反映事物类型的数据，又称定类数据。这种数据表现为类别，用文字来描述。例如，按照性别将人口分为男、女两类；按照经济性质将企业分为国有、集体、私营、其他经济等。分类数据通常用数字代码来表示各个类别，但这些数字代码只是用于标识不同的类别，并不代表数量上的差异或顺序关系。\n",
    "\n",
    "判断一个数据是数值数据还是分类数据主要依据数据的属性和特征。\r\n",
    "\r\n",
    "数值数据是可以进行数学运算的数据，通常表示事物的数量属性，具有大小、正负、零值和单位等特性。数值数据可以分为连续型和离散型两种类型，连续型数据可以测量任意两个数值之间的差异，例如身高、体重、年龄等；离散型数据只能表示一定数量单位的数量，例如人数、考试分数等。\r\n",
    "\r\n",
    "分类数据则是按照现象的某种属性对其进行分类或分组而得到的反映事物类型的数据，又称定类数据。这种数据表现为类别，用文字来描述。例如，按照性别将人口分为男、女两类；按照经济性质将企业分为国有、集体、私营、其他经济等。分类数据通常用数字代码来表示各个类别，但这些数字代码只是用于标识不同的类别，并不代表数量上的差异或顺序关系。\r\n",
    "\r\n",
    "在实际应用中，有时数据的类型并不是那么明显，可能存在一些混合型数据，例如年龄可以分为儿童、少年、青年、中年和老年等类别，这种数据既有分类的特性又有数值的特性。对于这种混合型数据，需要根据具体的应用场景和数据的上下文来判定其类型，并选择合适的方法进行分析和处理。\r\n",
    "\r\n",
    "总之，判断一个数据是数值数据还是分类数据需要依据数据的属性和特征，分类数据主要用于描述事物的类型属性，而数值数据主要用于描述事物的数量属性。在具体应用中，需要根据实际情况进行判定和处理。\n",
    "\n"
   ]
  },
  {
   "cell_type": "markdown",
   "id": "cf7ae16c-dff2-42c9-96af-7b53ed7959af",
   "metadata": {},
   "source": [
    "**非结构化数据**"
   ]
  },
  {
   "cell_type": "markdown",
   "id": "4f7a6b42-a9d6-41c2-8ad9-df0c9543fcbb",
   "metadata": {},
   "source": [
    "非结构化数据是数据结构不规则或不完整，没有预定义的数据模型，不方便用数据库二维逻辑表来表现的数据。它包括所有格式的办公文档、文本、图片、HTML、各类报表、图像和音频/视频信息等。此外，用户在论坛、微博、微信或其他渠道发表的关于产品的各种评价或吐槽也是非结构化数据的一部分。\r\n",
    "\r\n",
    "非结构化数据的特点在于其格式非常多样，标准也是多样性的，因此在技术上比结构化数据更难标准化和理解。为了更好地存储、检索、发布以及利用非结构化数据，需要使用更加智能化的IT技术，例如海量存储、智能检索、知识挖掘、内容保护和信息的增值开发利用等。\r\n",
    "\r\n",
    "非结构化数据在任何地方都可以得到，并且有大量的数据需要处理。与结构化数据相比，非结构化数据的处理过程可能涉及到数据的挖掘、提取、分析、管理和存储等多的专业人士。"
   ]
  },
  {
   "cell_type": "markdown",
   "id": "a9128beb-6eee-4335-9472-063928c86d30",
   "metadata": {},
   "source": [
    "**半结构化数据**"
   ]
  },
  {
   "cell_type": "markdown",
   "id": "8f173db7-d6e4-4a89-a958-e7d13256ff8d",
   "metadata": {},
   "source": [
    "半结构化数据（semi-structured data）是介于结构化和非结构化之间的数据。它具有一定的结构性，但结构变化较大，无法完全符合关系型数据库或其他数据表的形式关联起来的数据模型结构。半结构化数据的特点包括自描述性、复杂性和动态性。与普通纯文本相比，半结构化数据具有一定的结构性，如XML和JSON等，其中包含相关标记，用来分隔语义元素以及对记录和字段进行分层。\r\n",
    "\r\n",
    "常见的半结构化数据包括邮件系统、Web集群、教学资源库、数据挖掘系统、档案系统等应用中的数据，这些数据对于数据存储、备份、共享和归档等基本存储需求具有重要意义。在日常工作中，个人简历也是半结构化数据的典型例子。\r\n",
    "\r\n",
    "半结构化数据模型在数据库系统中有着独特的地位，它是一种适于数据库集成的数据模型，可以描述包含在两个或多个数据库中的数据。此外，它也是一种标记服务的基础模型，用于Web上共享信息。\r\n",
    "\r\n",
    "总之，半结构化数据是介于结构化和非结构化之间的数据，具有自描述性、复杂性和动态性等特点，常见于各种应用中。半结构化数据模型在数据库系统中有着重要地位，可应用于数据库集成和Web信息共享等领域。"
   ]
  },
  {
   "cell_type": "markdown",
   "id": "80171682-0c73-44cd-98f8-018333b3bff4",
   "metadata": {},
   "source": [
    "**关系数据库**"
   ]
  },
  {
   "cell_type": "markdown",
   "id": "18c2b623-a770-4843-a446-fa4563ce8ed1",
   "metadata": {},
   "source": [
    "关系数据库无法在同一表格中容纳不同结构的记录，主要是因为关系数据库有固定的数据模型和结构，每个表都有预先定义的列和数据类型。这种设计是为了保持数据的完整性和一致性，确保数据的准确性和可靠性。\r\n",
    "\r\n",
    "如果允许在同一表格中容纳不同结构的记录，会导致数据混乱和难以管理，也容易出现数据冗余和数据不一致的问题。例如，如果一个表中有多个列，但不同记录的列数和数据类型不同，那么数据库就无法确定如何正确地存储和处理这些数据。\r\n",
    "\r\n",
    "为了解决这个问题，关系数据库采用模式（schema）的概念来定义表的结构和数据类型。每个表都有固定的列名和对应的数据类型，确保每个记录都有相同数量的列和相同的数据类型。此外，关系数据库还提供了一系列的数据完整性约束，例如主键约束、外键约束和唯一性约束等，来保证数据的准确性和一致性。\r\n",
    "\r\n",
    "总之，关系数据库无法在同一表格中容纳不同结构的记录是为了保持数据的完整性和一致性，确保数据的准确性和可靠性。通过定义固定的数据模型和结构，关系数据库能够提供高效、可靠和安全的数据存储和处理服务。"
   ]
  },
  {
   "cell_type": "markdown",
   "id": "9d57d79e-a25a-4828-8f15-53d731cd5c6c",
   "metadata": {},
   "source": [
    "**时间序列数据**"
   ]
  },
  {
   "cell_type": "markdown",
   "id": "58cb951e-f9c3-4750-922c-387063cbb6e6",
   "metadata": {},
   "source": [
    "时间序列数据是在不同时间点上收集到的数据，用于描述现象随时间变化的情况。这种数据反映了某一事物、现象等随时间的变化状态或程度。时间序列数据可以是连续的或离散的，通常用于统计分析和预测。\n",
    "\n",
    "时间序列数据的结构通常包括以下组成部分：\n",
    "\n",
    "- 时间戳：记录数据对应的时间点，通常是日期和时间。\n",
    "- 指标或变量：描述所观察对象在特定时间点的特征或状态。\n",
    "- 观测值：指标或变量的具体值。\n",
    "\n",
    "时间序列数据的结构也可以用图表来表示，常用图表包括折线图、柱状图、散点图等。在图表中，横轴表示时间，纵轴表示观测值。通过图表可以直观地观察到数据随时间的变化趋势。\n",
    "\n",
    "时间序列数据的特征包括趋势性、季节性和周期性。趋势性是指数据随时间的推移而呈现上升或下降的趋势；季节性是指数据在一定周期内呈现规律性的变化；周期性是指数据在一定时间内重复出现的规律性变化。这些特征在分析时间序列数据时具有重要的意义。\n",
    "\n",
    "总之，时间序列数据是在不同时间点上收集到的数据，用于描述现象随时间变化的情况。其结构包括时间戳、指标或变量和观测值等组成部分，常用图表来表示数据随时间的变化趋势。时间序列数据的特征包括趋势性、季节性和周期性，这些特征对于数据分析具有重要的意义。"
   ]
  },
  {
   "cell_type": "markdown",
   "id": "b6db8e4b-009d-4b99-a0ee-db2f8c0351b3",
   "metadata": {},
   "source": [
    "# 数据来源"
   ]
  },
  {
   "cell_type": "markdown",
   "id": "20524c99-5ac7-4ae8-ac65-8bcb9c854cb8",
   "metadata": {},
   "source": [
    "数据来源常见的有以下4种：\n",
    "\n",
    "1. 应用程序接口（API）\n",
    "2. 网页\n",
    "3. 数据库\n",
    "4. 文件"
   ]
  },
  {
   "cell_type": "markdown",
   "id": "0cc65c9a-e487-4797-ab49-03d5629edc8b",
   "metadata": {},
   "source": [
    "**API**"
   ]
  },
  {
   "cell_type": "markdown",
   "id": "722b6691-6937-4bdd-8c34-e1ad85fa36bc",
   "metadata": {},
   "source": [
    "API（Application Programming Interface）是一种应用程序编程接口，是一种提供特定功能和数据访问方式的软件接口。通过API，开发人员可以创建具有不同功能和架构的应用程序之间的关联性，使不同的应用程序能够相互通信、共享数据，并以一种有序的方式进行整合。\r\n",
    "\r\n",
    "API的作用是将特定应用程序的功能和数据集合封装在一起，以使其他应用程序能够轻松地使用它们。API的工作方式包括请求方法（如GET、POST、PUT、DELETE等）、URL、参数和返回数据等。\r\n",
    "\r\n",
    "API提供数据的方式是通过网络、软件或硬件实现，使应用程序能够彼此交互。在编写代码调用API之前，你需要了解API的工作方式，包括请求方法、URL、参数和返回数据等。获取API接口的认证信息（如API Key或Access Token等），用于识别调用方的身份。然后，根据API文档中的参数说明，构建出符合规范的请求，使用HTTP或其他网络协议发送请求，等待API接口返回响应数据。\r\n",
    "\r\n",
    "API具有多种优点，如减少代码冗余性、加强软件重用性、支持分布式系统和微服务架构等。在现代软件开发中，API已经成为不可或缺的一部分。不同类型的API可以实现不同的功能和应用，如Web API、REST API、SOAP API等。通过了解和掌握API的使用方法和技术，开发人员可以更加高效地开发应用程序，提高软件开发的效率和可靠性。"
   ]
  },
  {
   "cell_type": "markdown",
   "id": "d98db1ce-5c00-40ad-a612-c45eaa2b2ad3",
   "metadata": {},
   "source": [
    "**网页数据**"
   ]
  },
  {
   "cell_type": "markdown",
   "id": "2eebdf51-2697-4cb5-924c-3a8514a6db5d",
   "metadata": {},
   "source": [
    "网页数据是指在网络上进行采集的、具有特定价值的信息。这些信息可以是文本、图片、视频、音频等多种形式的数据，通常来自于特定的网站或网页。\r\n",
    "\r\n",
    "网页数据的结构通常包括以下组成部分：\r\n",
    "\r\n",
    "数据源：数据源是指网页数据的来源，可以是网站、API、数据库等。\r\n",
    "数据格式：数据格式是指网页数据的展现方式，包括HTML、XML、JSON等。\r\n",
    "数据采集方式：数据采集方式是指如何从数据源中获取数据，可以通过爬虫程序、API调用等方式进行。\r\n",
    "数据存储：数据存储是指将采集到的数据存储在数据库或文件中，以便后续处理和分析。\r\n",
    "数据处理和分析：数据处理和分析是指对采集到的数据进行清洗、去重、分类等处理，并运用统计分析、机器学习等方法进行数据分析，以提取有价值的信息。\r\n",
    "网页数据的结构可以用树状图来表示，其中根节点表示整个网页，子节点表示各个组成部分，如标题、正文、图片等。通过分析网页的结构和内容，可以提取出有价值的信息，并用于市场调研、竞争情报分析、舆情监测等应用场景。\r\n",
    "\r\n",
    "总之，网页数据是一种具有特定价值的信息，其结构包括数据源、数据格式、数据采集方式、数据存储和数据处理和分析等组成部分。通过分析网页的结构和内容，可以提取出有价值的信息，并应用于各种应用场景中。"
   ]
  },
  {
   "cell_type": "markdown",
   "id": "fc5bed1c-abbd-4f9f-a379-a5f693c91bf4",
   "metadata": {},
   "source": [
    "**数据框**"
   ]
  },
  {
   "cell_type": "markdown",
   "id": "87dbc8f6-716f-4fb4-84a6-1915a5052cc0",
   "metadata": {},
   "source": [
    "数据框（data frame）是统计分析中使用的一种表格型数据结构，以行和列的形式组织数据，类似于Excel表格。在R语言、Python的Pandas库以及SAS等统计分析软件中都有数据框这种数据结构。数据框中的每一列表示一个变量，每一行表示一个观测值。\r\n",
    "\r\n",
    "SQL（Structured Query Language）是一种用于管理关系型数据库的标准编程语言，包括查询数据、更新数据、添加数据、删除数据等操作。数据框与SQL有一定的关系，因为在实际的数据分析中，数据框常常来源于SQL查询操作。例如，在R语言中，可以使用dbplyr包将SQL查询结果转换为数据框。\r\n",
    "\r\n",
    "SQLite 是一个轻量级的数据库系统，以单个文件存储数据，不需要独立的服务器进程或操作系统。SQLite常用于小型应用程序或桌面应用程序中。\r\n",
    "\r\n",
    "NoSQL（Not Only SQL）泛指非关系型数据库，主要代表有MongoDB、Redis等。与传统的关系型数据库不同，NoSQL数据库不使用固定的表格形式进行数据的组织和存储，而是使用更加灵活的数据模型和查询语言。NoSQL数据库适用于大规模数据的存储和查询，尤其是对于非结构化数据的处理具有很好的效果。"
   ]
  },
  {
   "cell_type": "markdown",
   "id": "ccd1be53-85e1-4c8e-b7d8-62d6a3b824f1",
   "metadata": {},
   "source": [
    "# 数据处理流程"
   ]
  },
  {
   "cell_type": "markdown",
   "id": "a5b790d5-ce94-46ac-b8d3-0e72e8760ba9",
   "metadata": {},
   "source": [
    "数据处理流程如下所示：\n",
    "\n",
    "1. 数据获取\n",
    "2. 数据清洗\n",
    "3. 数据变换\n",
    "4. 数据分析\n",
    "5. 数据存储\n",
    "\n",
    "这些步骤不是泾渭分明的。"
   ]
  },
  {
   "cell_type": "markdown",
   "id": "83f47c5c-45de-4048-af20-5c12a54a2e97",
   "metadata": {},
   "source": [
    "# Python风格的代码"
   ]
  },
  {
   "cell_type": "code",
   "execution_count": 1,
   "id": "ef9972ba-f166-4913-852e-930e5e742bbd",
   "metadata": {},
   "outputs": [
    {
     "name": "stdout",
     "output_type": "stream",
     "text": [
      "The Zen of Python, by Tim Peters\n",
      "\n",
      "Beautiful is better than ugly.\n",
      "Explicit is better than implicit.\n",
      "Simple is better than complex.\n",
      "Complex is better than complicated.\n",
      "Flat is better than nested.\n",
      "Sparse is better than dense.\n",
      "Readability counts.\n",
      "Special cases aren't special enough to break the rules.\n",
      "Although practicality beats purity.\n",
      "Errors should never pass silently.\n",
      "Unless explicitly silenced.\n",
      "In the face of ambiguity, refuse the temptation to guess.\n",
      "There should be one-- and preferably only one --obvious way to do it.\n",
      "Although that way may not be obvious at first unless you're Dutch.\n",
      "Now is better than never.\n",
      "Although never is often better than *right* now.\n",
      "If the implementation is hard to explain, it's a bad idea.\n",
      "If the implementation is easy to explain, it may be a good idea.\n",
      "Namespaces are one honking great idea -- let's do more of those!\n"
     ]
    }
   ],
   "source": [
    "import this"
   ]
  },
  {
   "cell_type": "markdown",
   "id": "0dd6a66d-00f4-4595-a4db-450375f51e84",
   "metadata": {},
   "source": [
    "假设有一段文本如下所示："
   ]
  },
  {
   "cell_type": "code",
   "execution_count": 6,
   "id": "b64a53f7-4ae3-4069-afcc-f84fb226e0ae",
   "metadata": {},
   "outputs": [],
   "source": [
    "text = ''' Engish dollars a week or a million a year - what is the difference? A mathematician or a wait would give you the wrong answer. The magi brought valuable figts, but that was not among them. - The Gift of the Magi, 0'Henry '''"
   ]
  },
  {
   "cell_type": "markdown",
   "id": "f095cf39-18be-426d-a245-e6cef0b03a97",
   "metadata": {},
   "source": [
    "将上述文本按照句子来进行分割，并且去除标点符号，然后为每个句子创建单个单词的列表。"
   ]
  },
  {
   "cell_type": "code",
   "execution_count": 7,
   "id": "297862a1-b9f8-42b4-93d9-80ab26d58709",
   "metadata": {},
   "outputs": [],
   "source": [
    "word_lists = [[w.replace(',','') for w in line.split() if w not in ['-']]\n",
    "             for line in text.replace('?', '').split('.')]"
   ]
  },
  {
   "cell_type": "code",
   "execution_count": 8,
   "id": "c6061613-a25c-4c36-80bd-40e0e9e6e3d6",
   "metadata": {},
   "outputs": [
    {
     "data": {
      "text/plain": [
       "[['Engish',\n",
       "  'dollars',\n",
       "  'a',\n",
       "  'week',\n",
       "  'or',\n",
       "  'a',\n",
       "  'million',\n",
       "  'a',\n",
       "  'year',\n",
       "  'what',\n",
       "  'is',\n",
       "  'the',\n",
       "  'difference',\n",
       "  'A',\n",
       "  'mathematician',\n",
       "  'or',\n",
       "  'a',\n",
       "  'wait',\n",
       "  'would',\n",
       "  'give',\n",
       "  'you',\n",
       "  'the',\n",
       "  'wrong',\n",
       "  'answer'],\n",
       " ['The',\n",
       "  'magi',\n",
       "  'brought',\n",
       "  'valuable',\n",
       "  'figts',\n",
       "  'but',\n",
       "  'that',\n",
       "  'was',\n",
       "  'not',\n",
       "  'among',\n",
       "  'them'],\n",
       " ['The', 'Gift', 'of', 'the', 'Magi', \"0'Henry\"]]"
      ]
     },
     "execution_count": 8,
     "metadata": {},
     "output_type": "execute_result"
    }
   ],
   "source": [
    "word_lists"
   ]
  },
  {
   "cell_type": "markdown",
   "id": "e8784318-9021-48ad-92f4-b05d01a7b7ea",
   "metadata": {},
   "source": [
    "这段代码是Python中的列表解析（list comprehension），用于从一个给定的文本中提取并处理某些单词。我会一步一步地解释这段代码。\n",
    "\n",
    "首先，让我们看整体的结构：\n",
    "\n",
    "```python\n",
    "word_lists = [[w.replace(',','') for w in line.split() if w not in ['-']]  \n",
    "             for line in text.replace('?', '').split('.')]\n",
    "```\n",
    "\n",
    "这是一个嵌套的列表解析。外部的解析针对text中的每一行（通过.分割），而内部的解析处理每一行中的每个单词。\n",
    "\n",
    "1. 外部列表解析:\n",
    "\n",
    "```python\n",
    "for line in text.replace('?', '').split('.')\n",
    "```\n",
    "\n",
    "这部分代码首先将text中的所有?替换为空字符串（即删除它们），然后按.分割文本，得到一个包含所有句子的列表。\n",
    "\n",
    "2. 内部列表解析:\n",
    "\n",
    "```python\n",
    "[w.replace(',','') for w in line.split()] if w not in ['-']]\n",
    "```\n",
    "\n",
    "这部分代码对每行中的每个单词进行操作：\n",
    "\n",
    "1. line.split()：将当前行分割成一个单词列表。\n",
    "2. w.replace(',','')：对于每个单词w，将其中的,替换为空字符串（即删除它们）。\n",
    "3. if w not in ['-']：这是一个条件判断，确保单词列表中不包含-。如果包含，该单词将被忽略。\n",
    "\n",
    "总结：\n",
    "\n",
    "整个代码的目的是从给定的文本text中提取所有的单词（去掉,并忽略单词中的-），然后按照句号（.）分割成多行，每一行形成一个新的列表，最终这些列表组成了word_lists。\n",
    "\n",
    "例如，考虑以下文本：\n",
    "\n",
    "```css\n",
    "hello, world! This is a test - example sentence? One more sentence. Another sentence without - in it.\n",
    "```\n",
    "该代码将生成以下输出：\n",
    "\n",
    "```css\n",
    "[['hello', 'world', 'This', 'is', 'a', 'test', 'example', 'sentence', 'One', 'more', 'Another'],   \n",
    " ['sentence', 'without']]\n",
    "```"
   ]
  }
 ],
 "metadata": {
  "kernelspec": {
   "display_name": "Python 3 (ipykernel)",
   "language": "python",
   "name": "python3"
  },
  "language_info": {
   "codemirror_mode": {
    "name": "ipython",
    "version": 3
   },
   "file_extension": ".py",
   "mimetype": "text/x-python",
   "name": "python",
   "nbconvert_exporter": "python",
   "pygments_lexer": "ipython3",
   "version": "3.10.11"
  }
 },
 "nbformat": 4,
 "nbformat_minor": 5
}
