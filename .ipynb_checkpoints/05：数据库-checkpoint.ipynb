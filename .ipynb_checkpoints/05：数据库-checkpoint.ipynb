{
 "cells": [
  {
   "cell_type": "markdown",
   "id": "fa2df7fa-2ba1-4b93-98d1-d1b94c90994a",
   "metadata": {},
   "source": [
    "MySQL和NoSQL，具体的内容由专门SQL教程来实现，本书关于这部分的内容太浅，不在这里复述。"
   ]
  }
 ],
 "metadata": {
  "kernelspec": {
   "display_name": "Python 3 (ipykernel)",
   "language": "python",
   "name": "python3"
  },
  "language_info": {
   "codemirror_mode": {
    "name": "ipython",
    "version": 3
   },
   "file_extension": ".py",
   "mimetype": "text/x-python",
   "name": "python",
   "nbconvert_exporter": "python",
   "pygments_lexer": "ipython3",
   "version": "3.10.11"
  }
 },
 "nbformat": 4,
 "nbformat_minor": 5
}
