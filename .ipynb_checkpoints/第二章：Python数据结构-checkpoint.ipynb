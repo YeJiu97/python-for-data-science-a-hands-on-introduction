{
 "cells": [
  {
   "cell_type": "markdown",
   "id": "a955ec30-865e-4529-962d-b12d013aa0a9",
   "metadata": {},
   "source": [
    "# 列表"
   ]
  },
  {
   "cell_type": "markdown",
   "id": "5fe7239a-f155-451a-9ed4-d0325ee29d94",
   "metadata": {},
   "source": [
    "## 列表操作"
   ]
  },
  {
   "cell_type": "markdown",
   "id": "cb8dd557-fd87-410c-b3da-d4b8003fd22a",
   "metadata": {},
   "source": [
    "Python列表是对象的有序集合。列表的元素用逗号分隔开来，整个列表则使用方括号括起来："
   ]
  },
  {
   "cell_type": "code",
   "execution_count": 68,
   "id": "2530732f-1a5f-4cb9-af93-7a4b8629e439",
   "metadata": {},
   "outputs": [
    {
     "data": {
      "text/plain": [
       "list"
      ]
     },
     "execution_count": 68,
     "metadata": {},
     "output_type": "execute_result"
    }
   ],
   "source": [
    "num_list = [1, 2, 3, 4]\n",
    "type(num_list)"
   ]
  },
  {
   "cell_type": "markdown",
   "id": "06ff2afd-6d84-4234-8d40-ce8dd3a0f366",
   "metadata": {},
   "source": [
    "列表是可变的，并且也可以有重复的元素。"
   ]
  },
  {
   "cell_type": "markdown",
   "id": "8d76b951-aecf-41aa-9b89-5a08ceb716b7",
   "metadata": {},
   "source": [
    "列表中的对象类型并不需要是完全一致的："
   ]
  },
  {
   "cell_type": "code",
   "execution_count": 69,
   "id": "72538178-e4d0-48e6-8fd7-bb87ce861d8e",
   "metadata": {},
   "outputs": [],
   "source": [
    "name = ['yejiu', '1997-03-02', 'master', 26, ['anoter list']]"
   ]
  },
  {
   "cell_type": "markdown",
   "id": "706a7ce5-9ba9-4fbe-abf4-a95b5f8bd1ca",
   "metadata": {},
   "source": [
    "但是通常来啊经一个列表中所存储的对象是具有一定的关系的。"
   ]
  },
  {
   "cell_type": "markdown",
   "id": "4a144416-117c-4159-a781-54efb666d192",
   "metadata": {},
   "source": [
    "列表可以被创建，并且不包含任何的对象。"
   ]
  },
  {
   "cell_type": "code",
   "execution_count": 70,
   "id": "551efef1-b9a8-4560-a03a-eba0f7a4cd73",
   "metadata": {},
   "outputs": [],
   "source": [
    "empty_list = []"
   ]
  },
  {
   "cell_type": "markdown",
   "id": "e69b0680-4f9c-4a41-b63b-d65f07817f74",
   "metadata": {},
   "source": [
    "列表可以使用 append() 函数来添加新的元素，并且这个元素会被添加在列表的末尾："
   ]
  },
  {
   "cell_type": "code",
   "execution_count": 71,
   "id": "9e9e71b6-1a36-4169-878b-bf54b12615bc",
   "metadata": {},
   "outputs": [
    {
     "data": {
      "text/plain": [
       "[]"
      ]
     },
     "execution_count": 71,
     "metadata": {},
     "output_type": "execute_result"
    }
   ],
   "source": [
    "empty_list"
   ]
  },
  {
   "cell_type": "code",
   "execution_count": 72,
   "id": "aa69fe9e-0849-45e1-b258-6264646b00d3",
   "metadata": {},
   "outputs": [
    {
     "data": {
      "text/plain": [
       "['no empty now']"
      ]
     },
     "execution_count": 72,
     "metadata": {},
     "output_type": "execute_result"
    }
   ],
   "source": [
    "# append()\n",
    "empty_list.append(\"no empty now\")\n",
    "empty_list"
   ]
  },
  {
   "cell_type": "code",
   "execution_count": 73,
   "id": "ef7e3a1f-e686-4a37-b47f-2927f86d8a54",
   "metadata": {},
   "outputs": [
    {
     "data": {
      "text/plain": [
       "['no empty now', 'add a new object at the end of that list']"
      ]
     },
     "execution_count": 73,
     "metadata": {},
     "output_type": "execute_result"
    }
   ],
   "source": [
    "# 在末尾进行添加\n",
    "empty_list.append(\"add a new object at the end of that list\")\n",
    "empty_list"
   ]
  },
  {
   "cell_type": "markdown",
   "id": "3e968a66-614d-4530-b0b5-9e11d8c1d54f",
   "metadata": {},
   "source": [
    "我们可以使用索引来对列表中的对象进行访问："
   ]
  },
  {
   "cell_type": "code",
   "execution_count": 74,
   "id": "079789b1-f1eb-4e86-91aa-14c815b188fa",
   "metadata": {},
   "outputs": [
    {
     "data": {
      "text/plain": [
       "0"
      ]
     },
     "execution_count": 74,
     "metadata": {},
     "output_type": "execute_result"
    }
   ],
   "source": [
    "# python的索引从0开始\n",
    "num_list = [0, 1, 2, 3, 4, 5]\n",
    "num_list[0]"
   ]
  },
  {
   "cell_type": "code",
   "execution_count": 75,
   "id": "cb87b39e-d150-4c20-a5b7-f42ab68661f6",
   "metadata": {},
   "outputs": [
    {
     "data": {
      "text/plain": [
       "5"
      ]
     },
     "execution_count": 75,
     "metadata": {},
     "output_type": "execute_result"
    }
   ],
   "source": [
    "# 可以从后往前索引\n",
    "num_list[-1]"
   ]
  },
  {
   "cell_type": "code",
   "execution_count": 76,
   "id": "66e71977-4a07-47a2-8a24-e7c29e1ffccf",
   "metadata": {},
   "outputs": [
    {
     "data": {
      "text/plain": [
       "4"
      ]
     },
     "execution_count": 76,
     "metadata": {},
     "output_type": "execute_result"
    }
   ],
   "source": [
    "# 从后往前的第二个元素\n",
    "num_list[-2]"
   ]
  },
  {
   "cell_type": "markdown",
   "id": "a534f8e3-8df9-4db3-93b1-787f575187a7",
   "metadata": {},
   "source": [
    "我们可以使用index()来进行索引，这个函数会返回对象中第一个符合要求的对象的索引位置："
   ]
  },
  {
   "cell_type": "code",
   "execution_count": 77,
   "id": "8abc6c5c-407b-44f3-98f1-a67f11ad7546",
   "metadata": {},
   "outputs": [
    {
     "data": {
      "text/plain": [
       "5"
      ]
     },
     "execution_count": 77,
     "metadata": {},
     "output_type": "execute_result"
    }
   ],
   "source": [
    "num_list_with_same_elemtns = [0, 1, 2, 3, 4, 5, 5, 5]\n",
    "num_list_with_same_elemtns.index(5)  # 返回第一个5的index"
   ]
  },
  {
   "cell_type": "markdown",
   "id": "b71907dc-a99f-4232-8df8-51af87fc9d93",
   "metadata": {},
   "source": [
    "insert()函数可以在置顶的位置插入一个新的元素："
   ]
  },
  {
   "cell_type": "code",
   "execution_count": 78,
   "id": "b784d603-5041-4466-9cdb-3bdf83a82ce8",
   "metadata": {},
   "outputs": [
    {
     "data": {
      "text/plain": [
       "[1, 2, 3, 'insert number: 4', 5]"
      ]
     },
     "execution_count": 78,
     "metadata": {},
     "output_type": "execute_result"
    }
   ],
   "source": [
    "num_list_insert = [1, 2, 3, 5]\n",
    "num_list_insert.insert(3, 'insert number: 4')\n",
    "num_list_insert"
   ]
  },
  {
   "cell_type": "markdown",
   "id": "75329d59-b307-45ea-b3a4-7c59772f81cb",
   "metadata": {},
   "source": [
    "从结果可以来看，index为3的位置的元素和之后的元素都会被往后平移，而index为3的位置被插入的元素填充。"
   ]
  },
  {
   "cell_type": "markdown",
   "id": "81c6fbd4-bead-4d46-bc18-61b01603035a",
   "metadata": {},
   "source": [
    "count()函数可以用来统计列表中的某一个元素的数量："
   ]
  },
  {
   "cell_type": "code",
   "execution_count": 79,
   "id": "770950b8-dfff-454e-acbd-b067098f3ce4",
   "metadata": {},
   "outputs": [
    {
     "data": {
      "text/plain": [
       "3"
      ]
     },
     "execution_count": 79,
     "metadata": {},
     "output_type": "execute_result"
    }
   ],
   "source": [
    "num_list_count = [1, 1, 1, 2, 3, 4, 5]\n",
    "num_list_count.count(1)"
   ]
  },
  {
   "cell_type": "markdown",
   "id": "6f901e76-7abf-42e8-9620-1ec708680797",
   "metadata": {},
   "source": [
    "如果要访问一系列的数据，则可以使用切片符号来进行操作："
   ]
  },
  {
   "cell_type": "code",
   "execution_count": 80,
   "id": "a01a8de7-3f72-4a7b-9362-a272856dc485",
   "metadata": {},
   "outputs": [],
   "source": [
    "num_list_slice = [0, 1, 2, 3, 4, 5, 6, 7, 8, 9, 10]"
   ]
  },
  {
   "cell_type": "code",
   "execution_count": 81,
   "id": "24e59ae0-16e8-44df-975c-11da039315c4",
   "metadata": {},
   "outputs": [
    {
     "data": {
      "text/plain": [
       "[0, 1, 2]"
      ]
     },
     "execution_count": 81,
     "metadata": {},
     "output_type": "execute_result"
    }
   ],
   "source": [
    "num_list_slice[0:3]"
   ]
  },
  {
   "cell_type": "code",
   "execution_count": 82,
   "id": "a7b73e92-49c7-4c8a-b3aa-f9de4fca978f",
   "metadata": {},
   "outputs": [
    {
     "data": {
      "text/plain": [
       "[0, 2, 4]"
      ]
     },
     "execution_count": 82,
     "metadata": {},
     "output_type": "execute_result"
    }
   ],
   "source": [
    "num_list_slice[0:6:2]"
   ]
  },
  {
   "cell_type": "code",
   "execution_count": 83,
   "id": "71a522e0-b988-47fe-8354-0dacd0e4a292",
   "metadata": {},
   "outputs": [
    {
     "data": {
      "text/plain": [
       "[0, 1, 2, 3, 4, 5, 6, 7, 8, 9, 10]"
      ]
     },
     "execution_count": 83,
     "metadata": {},
     "output_type": "execute_result"
    }
   ],
   "source": [
    "# 使用 : 可以打印所有的元素\n",
    "num_list_slice[:]"
   ]
  },
  {
   "cell_type": "code",
   "execution_count": 84,
   "id": "bae775d2-f387-4a49-b0ed-1c95f8b819f3",
   "metadata": {},
   "outputs": [
    {
     "data": {
      "text/plain": [
       "[10, 9, 8, 7, 6, 5, 4, 3, 2, 1, 0]"
      ]
     },
     "execution_count": 84,
     "metadata": {},
     "output_type": "execute_result"
    }
   ],
   "source": [
    "# 在使用 : 的同时可以使用 -1 来指定步长，从而实现列表的翻转\n",
    "num_list_slice[::-1]"
   ]
  },
  {
   "cell_type": "markdown",
   "id": "8d9d7c9e-c410-412b-8c98-69065f96e7c7",
   "metadata": {},
   "source": [
    "len()可以返回列表的长度："
   ]
  },
  {
   "cell_type": "code",
   "execution_count": 85,
   "id": "b9256fa1-ac95-40ad-8ba2-86d9ce22f45d",
   "metadata": {},
   "outputs": [
    {
     "data": {
      "text/plain": [
       "11"
      ]
     },
     "execution_count": 85,
     "metadata": {},
     "output_type": "execute_result"
    }
   ],
   "source": [
    "len(num_list_slice)"
   ]
  },
  {
   "cell_type": "markdown",
   "id": "923c1ede-5b53-4b54-9db1-c3c703a219c8",
   "metadata": {},
   "source": [
    "可以使用del和切片相结合来删除一部分元素："
   ]
  },
  {
   "cell_type": "code",
   "execution_count": 86,
   "id": "bb8a2772-d23d-4827-ae7c-760c597b2c10",
   "metadata": {},
   "outputs": [],
   "source": [
    "del num_list_slice[10:]"
   ]
  },
  {
   "cell_type": "code",
   "execution_count": 87,
   "id": "51dd5b8b-39cf-4d6c-bdfb-2df83135b9b5",
   "metadata": {},
   "outputs": [
    {
     "data": {
      "text/plain": [
       "[0, 1, 2, 3, 4, 5, 6, 7, 8, 9]"
      ]
     },
     "execution_count": 87,
     "metadata": {},
     "output_type": "execute_result"
    }
   ],
   "source": [
    "num_list_slice"
   ]
  },
  {
   "cell_type": "markdown",
   "id": "6eaf9735-5957-4401-a370-313c80193ff6",
   "metadata": {},
   "source": [
    "Python遵守的是左闭右开的原则，即括号的左边的数字是被包括的，但是括号的右边的数字是不被包括的。"
   ]
  },
  {
   "cell_type": "markdown",
   "id": "1eded5bb-d46a-4da6-b0c1-323dde9891f8",
   "metadata": {},
   "source": [
    "## 列表实现队列和栈"
   ]
  },
  {
   "cell_type": "markdown",
   "id": "fe461fe3-3d96-4744-a2ea-9149d2407875",
   "metadata": {},
   "source": [
    "**队列**"
   ]
  },
  {
   "attachments": {
    "09618a08-08ae-427c-a744-a0c4e8eb687f.png": {
     "image/png": "[encoded data removed]"
    }
   },
   "cell_type": "markdown",
   "id": "924e7981-b9f5-481b-a467-c810de489b13",
   "metadata": {},
   "source": [
    "队列是一种数据结构类型：\n",
    "\n",
    "![image.png](attachment:09618a08-08ae-427c-a744-a0c4e8eb687f.png)"
   ]
  },
  {
   "cell_type": "markdown",
   "id": "9ce7adf1-d68d-4350-926f-b0d14be5508d",
   "metadata": {},
   "source": [
    "遵守的原则是：先入先出，后入后出。"
   ]
  },
  {
   "cell_type": "markdown",
   "id": "b80e075d-0efb-4cec-8fa3-3ef1c0c62f72",
   "metadata": {},
   "source": [
    "Python提供了一个标准库：deque，也就是double-ended queue。通过这个标准库可以将对象变成队列。"
   ]
  },
  {
   "cell_type": "code",
   "execution_count": 88,
   "id": "bf5243b9-d825-4e56-abb9-56180aa92bdd",
   "metadata": {},
   "outputs": [],
   "source": [
    "from collections import deque\n",
    "my_list = ['last in', 'mid in', 'first in']\n",
    "queue = deque(my_list)"
   ]
  },
  {
   "cell_type": "code",
   "execution_count": 89,
   "id": "d9e50dde-aa9d-489e-b061-5dc5f8e15537",
   "metadata": {},
   "outputs": [
    {
     "data": {
      "text/plain": [
       "collections.deque"
      ]
     },
     "execution_count": 89,
     "metadata": {},
     "output_type": "execute_result"
    }
   ],
   "source": [
    "# 查看类型\n",
    "type(queue)"
   ]
  },
  {
   "cell_type": "code",
   "execution_count": 90,
   "id": "0da42c07-0804-4225-914b-e8a6e27fe2e4",
   "metadata": {},
   "outputs": [
    {
     "name": "stdout",
     "output_type": "stream",
     "text": [
      "deque(['mid in', 'first in', 'append in'])\n"
     ]
    }
   ],
   "source": [
    "# 开始从右边弹出一个元素，用来模拟 入队\n",
    "queue.append('append in')\n",
    "# 然后从左边弹出一个元素，用来模拟 出队\n",
    "queue.popleft()\n",
    "# 打印以下queue\n",
    "print(queue)"
   ]
  },
  {
   "cell_type": "markdown",
   "id": "2de3f10a-fdfb-457d-ade0-cf5ac2309864",
   "metadata": {},
   "source": [
    "**栈**"
   ]
  },
  {
   "attachments": {
    "fdd0e727-4fa1-4830-9250-214f9578027d.png": {
     "image/png": "[encoded data removed]"
    }
   },
   "cell_type": "markdown",
   "id": "31ef03ba-f41e-4084-8637-02aec4a2db9c",
   "metadata": {},
   "source": [
    "栈的逻辑如下所示：\n",
    "\n",
    "![image.png](attachment:fdd0e727-4fa1-4830-9250-214f9578027d.png)\n",
    "\n",
    "遵守的原则是：先入后出，后入先出。"
   ]
  },
  {
   "cell_type": "markdown",
   "id": "ec90f483-13be-48be-a36a-4cd68e597273",
   "metadata": {},
   "source": [
    "与队列一样，栈也是一种抽象的数据结构，由于先入先出，所以只需要使用list的append()函数和pop()函数就可以了。"
   ]
  },
  {
   "cell_type": "code",
   "execution_count": 91,
   "id": "9bfc00ac-6d93-45f5-bc4f-188439c56ea8",
   "metadata": {},
   "outputs": [
    {
     "name": "stdout",
     "output_type": "stream",
     "text": [
      "first name  ~ Done!\n",
      "middle name  ~ Done!\n",
      "last name  ~ Done!\n",
      "\n",
      " That task is empty\n"
     ]
    }
   ],
   "source": [
    "my_list = ['last name', 'middle name', 'first name']\n",
    "\n",
    "stack = []\n",
    "\n",
    "for task in my_list:\n",
    "    stack.append(task)\n",
    "while stack:\n",
    "    print(stack.pop(), ' ~ Done!')\n",
    "\n",
    "print(\"\\n That task is empty\")"
   ]
  },
  {
   "cell_type": "markdown",
   "id": "e42b196c-aa0c-4d91-8b8a-4e67334ad040",
   "metadata": {},
   "source": [
    "## 使用列表和栈来进行自然语言处理"
   ]
  },
  {
   "cell_type": "markdown",
   "id": "b3c6d836-ce8f-492a-ab2f-5264b7cb7da0",
   "metadata": {},
   "source": [
    "**一个例子**"
   ]
  },
  {
   "cell_type": "code",
   "execution_count": 92,
   "id": "8f81de96-93fd-47c7-9f63-767488372d86",
   "metadata": {},
   "outputs": [
    {
     "name": "stdout",
     "output_type": "stream",
     "text": [
      "List\n",
      "a ubiquitous data structure\n",
      "the Python programming language\n"
     ]
    }
   ],
   "source": [
    "import spacy\n",
    "\n",
    "txt = 'List is a ubiquitous data structure in the Python programming language.'\n",
    "\n",
    "nlp = spacy.load('en_core_web_sm')\n",
    "doc = nlp(txt)\n",
    "stk = []\n",
    "\n",
    "for w in doc:\n",
    "    if w.pos_ == \"NOUN\" or w.pos_ == \"PROPN\":\n",
    "        stk.append(w.text)\n",
    "    elif (w.head.pos_ == \"NOUN\" or w.head.pos_ == \"PROPN\") and (w in w.head.lefts):\n",
    "        stk.append(w.text)\n",
    "    elif stk:\n",
    "        chunk = \"\"\n",
    "        while stk:\n",
    "            chunk = stk.pop() + ' ' + chunk\n",
    "        print(chunk.strip())"
   ]
  },
  {
   "cell_type": "markdown",
   "id": "a0b6e3e1-a58b-4716-abfc-e315ecd6bc36",
   "metadata": {},
   "source": [
    "这段代码是使用Python的spaCy库来对一段文本进行处理。spaCy是一个用于自然语言处理的开源库，提供了很多方便的功能，包括词性标注、命名实体识别等。\n",
    "\n",
    "下面是对这段代码的逐行解释：\n",
    "\n",
    "1. import spacy：导入spaCy库。\n",
    "2. txt = 'List is a ubiquitous data structure in the Python programming language.'：定义一个字符串txt，这是我们要处理的文本。\n",
    "3. nlp = spacy.load('en_core_web_sm')：加载spaCy的英文模型，用于对英文文本进行处理。\n",
    "4. doc = nlp(txt)：使用上面加载的模型来处理txt字符串，得到一个spaCy文档对象。\n",
    "5. stk = []：初始化一个空列表stk，用于存储某些特定类型的词。\n",
    "6. for w in doc:：遍历文档中的每一个词。\n",
    "7. if w.pos_ == \"NOUN\" or w.pos_ == \"PROPN\":：如果词的词性是名词（NOUN）或专有名词（PROPN），则将其加入到stk列表中。\n",
    "8. elif (w.head.pos_ == \"NOUN\" or w.head.pos_ == \"PROPN\") and (w in w.head.lefts):：如果当前词的父节点的词性是名词或专有名词，并且当前词是其父节点的左子节点，则也将其加入到stk列表中。\n",
    "9. elif stk:：如果stk列表不为空，则执行下面的代码。\n",
    "10. chunk = \"\"：初始化一个空字符串chunk，用于存储连续的名词或专有名词。\n",
    "11. while stk:：当stk列表还有词时，执行下面的代码。\n",
    "12. chunk = stk.pop() + ' ' + chunk：从stk列表中弹出一个词，将其与当前的chunk拼接，并将结果重新赋值给chunk。\n",
    "13. print(chunk.strip())：打印处理后的连续名词或专有名词。\n",
    "\n",
    "总的来说，这段代码的目的是从给定的文本中提取出连续的名词和专有名词，并将它们打印出来。例如，对于给定的文本\"List is a ubiquitous data structure in the Python programming language.\"，输出的结果应该是\"List Python\"。"
   ]
  },
  {
   "cell_type": "markdown",
   "id": "58a57168-ab5b-4b42-8aad-07c43b80ca2f",
   "metadata": {},
   "source": [
    "**改写成推导式**"
   ]
  },
  {
   "cell_type": "code",
   "execution_count": 93,
   "id": "66b45829-d1ee-4d47-9a2a-a627223d81c8",
   "metadata": {},
   "outputs": [
    {
     "name": "stdout",
     "output_type": "stream",
     "text": [
      "List is\n",
      "is is\n",
      "a structure\n",
      "ubiquitous structure\n",
      "data structure\n",
      "structure is\n",
      "in structure\n",
      "the language\n",
      "Python language\n",
      "programming language\n",
      "language in\n",
      ". is\n"
     ]
    }
   ],
   "source": [
    "txt = 'List is a ubiquitous data structure in the Python programming language.'\n",
    "\n",
    "import spacy\n",
    "nlp = spacy.load('en_core_web_sm')\n",
    "doc = nlp(txt)\n",
    "\n",
    "for t in doc:\n",
    "    print(t.text, t.head.text)"
   ]
  },
  {
   "cell_type": "markdown",
   "id": "73a51d45-2add-4e02-8b1d-74f1f29739d1",
   "metadata": {},
   "source": [
    "修改成推导式："
   ]
  },
  {
   "cell_type": "code",
   "execution_count": 94,
   "id": "76d3f12e-9d1f-462b-896e-d7dbc74035ac",
   "metadata": {},
   "outputs": [
    {
     "name": "stdout",
     "output_type": "stream",
     "text": [
      "['List', 0, 'a', 'ubiquitous', 'data', 0, 0, 'the', 'Python', 'programming', 0, 0]\n"
     ]
    }
   ],
   "source": [
    "txt = 'List is a ubiquitous data structure in the Python programming language.'\n",
    "\n",
    "import spacy\n",
    "\n",
    "nlp = spacy.load('en_core_web_sm')\n",
    "doc = nlp(txt)\n",
    "head_lefts = [t.text if t in t.head.lefts else 0 for t in doc]\n",
    "\n",
    "print(head_lefts)"
   ]
  },
  {
   "cell_type": "code",
   "execution_count": 95,
   "id": "83e83150-ca66-4cba-ae2f-09cb0d575bbf",
   "metadata": {},
   "outputs": [
    {
     "name": "stdout",
     "output_type": "stream",
     "text": [
      "['List', 0, 'a', 'ubiquitous', 'data', 0, 0, 'the', 'Python', 'programming', 0, 0]\n",
      "[0, 'a', 'ubiquitous', 'data', 0, 0, 'the', 'Python', 'programming', 0, 0]\n",
      "['a', 'ubiquitous', 'data', 0, 0, 'the', 'Python', 'programming', 0, 0]\n",
      "['ubiquitous', 'data', 0, 0, 'the', 'Python', 'programming', 0, 0]\n",
      "['data', 0, 0, 'the', 'Python', 'programming', 0, 0]\n",
      "[0, 0, 'the', 'Python', 'programming', 0, 0]\n",
      "[0, 'the', 'Python', 'programming', 0, 0]\n",
      "['the', 'Python', 'programming', 0, 0]\n",
      "['Python', 'programming', 0, 0]\n",
      "['programming', 0, 0]\n",
      "[0, 0]\n",
      "[0]\n"
     ]
    }
   ],
   "source": [
    "for w in doc:\n",
    "    head_lefts = [t.text if t in t.head.lefts else 0 for t in doc[w.i:]]\n",
    "    print(head_lefts)"
   ]
  },
  {
   "cell_type": "markdown",
   "id": "a3556a1e-4283-435c-a5a8-5d123eed2ce5",
   "metadata": {},
   "source": [
    "# 元组"
   ]
  },
  {
   "cell_type": "markdown",
   "id": "289c404c-4cc7-4d49-bd37-83b08c4a93ed",
   "metadata": {},
   "source": [
    "## 元组与列表"
   ]
  },
  {
   "cell_type": "markdown",
   "id": "acb5973f-b860-443c-9515-40a078ac0105",
   "metadata": {},
   "source": [
    "元组与列表一样是有序集合，但是元组一旦被生成就不可以发生改变了。"
   ]
  },
  {
   "cell_type": "code",
   "execution_count": 96,
   "id": "07f47a81-4341-4e2c-944a-43f590e7ed4c",
   "metadata": {},
   "outputs": [],
   "source": [
    "tuple_01 = (0, \"1\", 2, \"3\")"
   ]
  },
  {
   "cell_type": "code",
   "execution_count": 97,
   "id": "00aa76b3-8317-49ca-8aff-82d56505ce73",
   "metadata": {},
   "outputs": [
    {
     "data": {
      "text/plain": [
       "0"
      ]
     },
     "execution_count": 97,
     "metadata": {},
     "output_type": "execute_result"
    }
   ],
   "source": [
    "tuple_01[0]"
   ]
  },
  {
   "cell_type": "code",
   "execution_count": 98,
   "id": "54dfaffb-15dd-48c5-95cb-a74a9128a5d2",
   "metadata": {},
   "outputs": [
    {
     "name": "stdout",
     "output_type": "stream",
     "text": [
      "发生错误：'tuple' object does not support item assignment\n"
     ]
    }
   ],
   "source": [
    "# 修改会发生报错\n",
    "try:\n",
    "    tuple_01[0] = 'change'\n",
    "except TypeError as e:\n",
    "    print(f\"发生错误：{e}\")"
   ]
  },
  {
   "cell_type": "markdown",
   "id": "67fa97d1-88d8-4a5c-b0a5-62cad88cfec0",
   "metadata": {},
   "source": [
    "或者我们可以尝试一个稍微复杂一点儿的嵌套数据："
   ]
  },
  {
   "cell_type": "code",
   "execution_count": 99,
   "id": "881abb53-3f4b-4dfa-b6d9-cf56db15cbfd",
   "metadata": {},
   "outputs": [
    {
     "data": {
      "text/plain": [
       "[('8:00', 'Peter Bill'),\n",
       " ('8:30', 'Tidy Smith'),\n",
       " ('9:00', 'Walk the dog'),\n",
       " ('9:30', 'Go to the bed')]"
      ]
     },
     "execution_count": 99,
     "metadata": {},
     "output_type": "execute_result"
    }
   ],
   "source": [
    "# 一个 to-do list\n",
    "task_list = ['Peter Bill', \"Tidy Smith\", \"Walk the dog\", \"Go to the bed\"]\n",
    "task_time = ['8:00', '8:30', '9:00', '9:30']\n",
    "\n",
    "# 使用列表推导式和zip函数\n",
    "shed_list = [(tm, task) for tm, task in zip(task_time, task_list)]\n",
    "\n",
    "# 输入一下看一下\n",
    "shed_list"
   ]
  },
  {
   "cell_type": "markdown",
   "id": "5825a189-8862-4c57-86b0-163340ff5739",
   "metadata": {},
   "source": [
    "由于元组是不变的，所以如果任务的时间可能被修改，则不应该采用元组作为数据结构。"
   ]
  },
  {
   "cell_type": "markdown",
   "id": "3e3c7932-c7f1-4359-a77d-c1861273e34b",
   "metadata": {},
   "source": [
    "# 字典"
   ]
  },
  {
   "cell_type": "markdown",
   "id": "ef4e2227-0a4c-4cba-bb40-7e39d63544e9",
   "metadata": {},
   "source": [
    "**字典的属性**"
   ]
  },
  {
   "cell_type": "markdown",
   "id": "1b5bbc94-74e0-467a-a43d-6c37b98d6193",
   "metadata": {},
   "source": [
    "字典是Python中的另一种广泛使用的内置数据结构。字典是键值对的可变无序集合，其中键的名称是不可以重复的，每个键对应一个值。"
   ]
  },
  {
   "cell_type": "code",
   "execution_count": 100,
   "id": "a94daac2-3489-499f-ab25-77d490964c1b",
   "metadata": {},
   "outputs": [],
   "source": [
    "dic_01 = {\"key_01\":\"value_01\", \"key_02\":\"value_02\"}"
   ]
  },
  {
   "cell_type": "code",
   "execution_count": 101,
   "id": "a24c9ca0-ed71-4516-ad8f-0d5e791df9f6",
   "metadata": {},
   "outputs": [
    {
     "data": {
      "text/plain": [
       "'value_01'"
      ]
     },
     "execution_count": 101,
     "metadata": {},
     "output_type": "execute_result"
    }
   ],
   "source": [
    "dic_01[\"key_01\"]"
   ]
  },
  {
   "cell_type": "markdown",
   "id": "79751eec-f635-4042-a26b-4c65d1dfc04f",
   "metadata": {},
   "source": [
    "我们可以将字典嵌套在别的数据结构中，比如说列表："
   ]
  },
  {
   "cell_type": "code",
   "execution_count": 102,
   "id": "12511901-bcbb-41dc-a799-3ba20adf2f9a",
   "metadata": {},
   "outputs": [],
   "source": [
    "dict_list = [\n",
    "    {'time':'8:00', 'name':'Pay Bills'},\n",
    "    {'time':'8:30', 'name':'Go to school'},\n",
    "    {'time':'9:00', 'name':'Walk the dog'},\n",
    "    {'time':'9:30', 'name':'Go to the Mountain'},\n",
    "    {'time':'10:00', 'name':'Cook Lunch'}\n",
    "]"
   ]
  },
  {
   "cell_type": "code",
   "execution_count": 103,
   "id": "ca1b3a71-d490-4113-a99f-82418e3842b0",
   "metadata": {},
   "outputs": [
    {
     "data": {
      "text/plain": [
       "'8:30'"
      ]
     },
     "execution_count": 103,
     "metadata": {},
     "output_type": "execute_result"
    }
   ],
   "source": [
    "dict_list[1]['time']  # 先指出来是第几个列表，然后再使用键来访问值"
   ]
  },
  {
   "cell_type": "markdown",
   "id": "e2c0102d-5d7b-449f-a487-23f7f34bacf8",
   "metadata": {},
   "source": [
    "**setdefault()函数**"
   ]
  },
  {
   "cell_type": "code",
   "execution_count": 104,
   "id": "c22d5bd0-268e-4534-a213-46bc985c1592",
   "metadata": {},
   "outputs": [],
   "source": [
    "# 首先是一个car字典\n",
    "car = {\n",
    "    'brand' : 'Volkswagen',\n",
    "    'style' : 'Sedan',\n",
    "    'model' : 'Jetta'\n",
    "}"
   ]
  },
  {
   "cell_type": "markdown",
   "id": "1f401839-c128-488b-8aba-9d16f9b15019",
   "metadata": {},
   "source": [
    "接着尝试使用setdefault()函数再字典中添加一个新的键model，值为Passat："
   ]
  },
  {
   "cell_type": "code",
   "execution_count": 105,
   "id": "8a7dcd36-f54e-4d94-9b96-17df01aa5486",
   "metadata": {},
   "outputs": [
    {
     "name": "stdout",
     "output_type": "stream",
     "text": [
      "Jetta\n"
     ]
    }
   ],
   "source": [
    "print(car.setdefault('model', 'Passat'))"
   ]
  },
  {
   "cell_type": "markdown",
   "id": "ccda4254-8629-400e-a8c0-ae342ee37dd6",
   "metadata": {},
   "source": [
    "可以发现model的键保持了不变，这是因为如果setdefault()函数再为字典添加新的元素的时候，如果指定的键已经存在了，则只会返回已有的值。"
   ]
  },
  {
   "cell_type": "markdown",
   "id": "23ee6660-daf6-44e5-b4f8-166142a88be0",
   "metadata": {},
   "source": [
    "可以尝试插入一个不存在的键和对应的值："
   ]
  },
  {
   "cell_type": "code",
   "execution_count": 106,
   "id": "cc8478f8-5709-4280-8021-d94fde790f16",
   "metadata": {},
   "outputs": [
    {
     "data": {
      "text/plain": [
       "'2022'"
      ]
     },
     "execution_count": 106,
     "metadata": {},
     "output_type": "execute_result"
    }
   ],
   "source": [
    "car.setdefault('year', '2022')"
   ]
  },
  {
   "cell_type": "code",
   "execution_count": 107,
   "id": "5a367729-3bfa-408d-9a92-5598d702d717",
   "metadata": {},
   "outputs": [
    {
     "data": {
      "text/plain": [
       "{'brand': 'Volkswagen', 'style': 'Sedan', 'model': 'Jetta', 'year': '2022'}"
      ]
     },
     "execution_count": 107,
     "metadata": {},
     "output_type": "execute_result"
    }
   ],
   "source": [
    "car"
   ]
  },
  {
   "cell_type": "markdown",
   "id": "d890f97f-d83c-40c4-b3a4-235438703d92",
   "metadata": {},
   "source": [
    "如果不使用setdefault()函数，那么可能需要自己先进行查看键是否已经存在在字典中："
   ]
  },
  {
   "cell_type": "code",
   "execution_count": 108,
   "id": "7324b256-6fac-4c71-ad63-54136f9eb0bb",
   "metadata": {},
   "outputs": [
    {
     "name": "stdout",
     "output_type": "stream",
     "text": [
      "brand键已经存在\n"
     ]
    }
   ],
   "source": [
    "if \"brand\" in car:\n",
    "    print(\"brand键已经存在\")\n",
    "else:\n",
    "    print(\"brand键并不存在\")"
   ]
  },
  {
   "cell_type": "markdown",
   "id": "824a936a-59e7-454a-8377-8ee9edde5758",
   "metadata": {},
   "source": [
    "我们可以尝试一下查看值是否已经存在："
   ]
  },
  {
   "cell_type": "code",
   "execution_count": 109,
   "id": "0a7b279b-19c3-4db8-9a2a-23858f544b4b",
   "metadata": {},
   "outputs": [
    {
     "name": "stdout",
     "output_type": "stream",
     "text": [
      "Jetta值并不存在\n"
     ]
    }
   ],
   "source": [
    "if \"Jetta\" in car:\n",
    "    print(\"Jetta值已经存在\")\n",
    "else:\n",
    "    print(\"Jetta值并不存在\")"
   ]
  },
  {
   "cell_type": "markdown",
   "id": "5c9a18a8-fd01-485d-8a09-7dff0c0e8517",
   "metadata": {},
   "source": [
    "可以发现这样并不能够查看出是否已经存在Jetta，正确的做法如下所示："
   ]
  },
  {
   "cell_type": "code",
   "execution_count": 110,
   "id": "c936f861-9ac6-46d5-b0e0-0ce1b0a5de01",
   "metadata": {},
   "outputs": [
    {
     "name": "stdout",
     "output_type": "stream",
     "text": [
      "Jetta值已经存在\n"
     ]
    }
   ],
   "source": [
    "if \"Jetta\" in car.values():\n",
    "    print(\"Jetta值已经存在\")\n",
    "else:\n",
    "    print(\"Jetta值并不存在\")"
   ]
  },
  {
   "cell_type": "markdown",
   "id": "0455b9f3-56ac-4342-847d-80d29eaab68d",
   "metadata": {},
   "source": [
    "遍历字典中的键值对："
   ]
  },
  {
   "cell_type": "code",
   "execution_count": 111,
   "id": "236ea55b-3ea9-4131-ab99-612a2ab97bb8",
   "metadata": {},
   "outputs": [
    {
     "name": "stdout",
     "output_type": "stream",
     "text": [
      "brand， 对应的是， Volkswagen\n",
      "style， 对应的是， Sedan\n",
      "model， 对应的是， Jetta\n",
      "year， 对应的是， 2022\n"
     ]
    }
   ],
   "source": [
    "for key, value in car.items():\n",
    "    print(f\"{key}， 对应的是， {value}\")"
   ]
  },
  {
   "cell_type": "markdown",
   "id": "b9c99f4c-4152-4696-8a9e-0234860f0b69",
   "metadata": {},
   "source": [
    "**使用字典来完成NLP处理**"
   ]
  },
  {
   "cell_type": "markdown",
   "id": "31ab57f4-4cf9-4cef-8dcb-c149e9201354",
   "metadata": {},
   "source": [
    "NLP的一项常见的任务是计算文本中的每个单词出现的次数，实例如下所示："
   ]
  },
  {
   "cell_type": "code",
   "execution_count": 112,
   "id": "946f094e-c30a-4833-9655-8ae8ef5faa5b",
   "metadata": {},
   "outputs": [],
   "source": [
    "txt = \"\"\" Python is one of the most promising programming languages today. Due to the simplicity of Python syntax, many researchers ad scientists perfer Python over many other languages \"\"\""
   ]
  },
  {
   "cell_type": "code",
   "execution_count": 113,
   "id": "ee73e4a0-3e3b-43bf-91a7-69d5b408783c",
   "metadata": {},
   "outputs": [],
   "source": [
    "# 第一步：从文本中删除标点符号，否则会将'languages'和'languages.'视为是两个不同的单词\n",
    "txt = txt.replace('.', '').replace(',', '')"
   ]
  },
  {
   "cell_type": "code",
   "execution_count": 114,
   "id": "23ab0df4-a726-4337-893e-3593a611d357",
   "metadata": {},
   "outputs": [
    {
     "name": "stdout",
     "output_type": "stream",
     "text": [
      "['Python', 'is', 'one', 'of', 'the', 'most', 'promising', 'programming', 'languages', 'today', 'Due', 'to', 'the', 'simplicity', 'of', 'Python', 'syntax', 'many', 'researchers', 'ad', 'scientists', 'perfer', 'Python', 'over', 'many', 'other', 'languages']\n"
     ]
    }
   ],
   "source": [
    "# 第二步：将文本拆分为单词，并且放入到列表中\n",
    "word_list = txt.split()\n",
    "print(word_list)"
   ]
  },
  {
   "cell_type": "code",
   "execution_count": 115,
   "id": "291004ef-f104-43cd-84d8-46e263f756d2",
   "metadata": {},
   "outputs": [],
   "source": [
    "# 第三步：使用字典机器setdefault方法来计算每个单词出现的次数\n",
    "word_dict = {}                           # 首先创建一个空字典\n",
    "for w in word_list:                      # 开始遍历单词列表中的每一个单词\n",
    "    c = word_dict.setdefault(w, 0)       # 将这个单词的对应频率首先设为0，基于setdefault()函数的性质，如果已经有这个键了，则只会返回当前对应的值\n",
    "    word_dict[w] += 1                    # 接着+1,如果出现一次，必然会出现一次，所以最开始就可以+1"
   ]
  },
  {
   "cell_type": "code",
   "execution_count": 116,
   "id": "afcb6c2a-cf6e-4772-b2c2-05c1f84d92a5",
   "metadata": {},
   "outputs": [
    {
     "name": "stdout",
     "output_type": "stream",
     "text": [
      "{'Python': 3, 'of': 2, 'the': 2, 'languages': 2, 'many': 2, 'is': 1, 'one': 1, 'most': 1, 'promising': 1, 'programming': 1, 'today': 1, 'Due': 1, 'to': 1, 'simplicity': 1, 'syntax': 1, 'researchers': 1, 'ad': 1, 'scientists': 1, 'perfer': 1, 'over': 1, 'other': 1}\n"
     ]
    }
   ],
   "source": [
    "# 第四步：打印出来，但是在这之前可以先进行排序\n",
    "dict_sorted = dict(sorted(word_dict.items(), key = lambda x: x[1], reverse = True))\n",
    "print(dict_sorted)"
   ]
  },
  {
   "cell_type": "markdown",
   "id": "1d0a21e3-1ba3-4095-9ebd-9d91539497bb",
   "metadata": {},
   "source": [
    "**将Json文件加载到字典中**"
   ]
  },
  {
   "cell_type": "code",
   "execution_count": 118,
   "id": "2062431a-41c8-4fb0-94eb-2643f03a50c3",
   "metadata": {},
   "outputs": [],
   "source": [
    "# 假设现在有一个字典如下所示\n",
    "\n",
    "d = {\n",
    "    \"POnumber\" : 2608,\n",
    "    \"ShippingInstructions\" : {\n",
    "        \"name\" : \"John Smith\",\n",
    "        \"Address\" : {\n",
    "            \"street\" : \"426 Light Street\",\n",
    "            \"city\" : \"South San Francisco\",\n",
    "            \"state\" : \"CA\",\n",
    "            \"zipCode\" : 99237,\n",
    "            \"country\" : \"United States of America\"\n",
    "        },\n",
    "        \"Phone\" : \n",
    "        [\n",
    "            {\"type\" : \"Office\", \"number\" : \"809-123-9309\"},\n",
    "            {\"type\" : \"Mobile\", \"number\" : \"417-123-4567\" }\n",
    "        ]\n",
    "    }\n",
    "}"
   ]
  },
  {
   "cell_type": "markdown",
   "id": "1c60b464-921c-45a3-897e-376bca1eebfe",
   "metadata": {},
   "source": [
    "上面的这个字典结构是复杂的，因为有着嵌套和列表。"
   ]
  },
  {
   "cell_type": "code",
   "execution_count": 119,
   "id": "d4c64d06-d8ee-47a0-8eee-a612e2b94e2f",
   "metadata": {},
   "outputs": [],
   "source": [
    "import json\n",
    "with open('po.json', \"w\") as outfile:\n",
    "    json.dump(d, outfile)"
   ]
  },
  {
   "cell_type": "markdown",
   "id": "9c35aee1-cb60-40dc-bd9b-0f82b723b084",
   "metadata": {},
   "source": [
    "接着可以将po.json加载到Python字典中："
   ]
  },
  {
   "cell_type": "code",
   "execution_count": 120,
   "id": "c5fbb165-5e0c-40cc-87e9-6808d1664487",
   "metadata": {},
   "outputs": [],
   "source": [
    "with open(\"po.json\", ) as fp:\n",
    "    d = json.load(fp)"
   ]
  },
  {
   "cell_type": "code",
   "execution_count": 121,
   "id": "a3cb7118-f6e9-4286-9af4-7ebf4f21ca40",
   "metadata": {},
   "outputs": [
    {
     "data": {
      "text/plain": [
       "{'POnumber': 2608,\n",
       " 'ShippingInstructions': {'name': 'John Smith',\n",
       "  'Address': {'street': '426 Light Street',\n",
       "   'city': 'South San Francisco',\n",
       "   'state': 'CA',\n",
       "   'zipCode': 99237,\n",
       "   'country': 'United States of America'},\n",
       "  'Phone': [{'type': 'Office', 'number': '809-123-9309'},\n",
       "   {'type': 'Mobile', 'number': '417-123-4567'}]}}"
      ]
     },
     "execution_count": 121,
     "metadata": {},
     "output_type": "execute_result"
    }
   ],
   "source": [
    "d"
   ]
  },
  {
   "cell_type": "markdown",
   "id": "beecf32f-2c95-4653-b9d6-510ebf9689c2",
   "metadata": {},
   "source": [
    "得到如开头所示的结果。"
   ]
  },
  {
   "cell_type": "markdown",
   "id": "85fc2779-afb9-4a4d-805c-cc98cabed20a",
   "metadata": {},
   "source": [
    "# 集合"
   ]
  },
  {
   "cell_type": "markdown",
   "id": "2e709165-7c80-471b-977f-a0fcc6752604",
   "metadata": {},
   "source": [
    "集合是无需的不重复元素的集合。"
   ]
  },
  {
   "cell_type": "code",
   "execution_count": 122,
   "id": "c447f340-0ea4-439d-89ee-9543bc678024",
   "metadata": {},
   "outputs": [],
   "source": [
    "set_01 = {1, 2, 3, 4, 5}"
   ]
  },
  {
   "cell_type": "code",
   "execution_count": 124,
   "id": "02dfdefe-44d7-4712-9d9a-90ccd1b1a62d",
   "metadata": {},
   "outputs": [
    {
     "name": "stdout",
     "output_type": "stream",
     "text": [
      "发生错误：'set' object is not subscriptable\n"
     ]
    }
   ],
   "source": [
    "try:\n",
    "    set_01[1]\n",
    "except TypeError as e:\n",
    "    print(f\"发生错误：{e}\")"
   ]
  },
  {
   "cell_type": "markdown",
   "id": "b4d958b9-ff05-431f-a5d5-dd8b5b8d9c60",
   "metadata": {},
   "source": [
    "集合有一个功能就是可以自动将重复的元素去除："
   ]
  },
  {
   "cell_type": "code",
   "execution_count": 125,
   "id": "24d60728-cf13-436a-bfaf-ee5c7445bf73",
   "metadata": {},
   "outputs": [
    {
     "data": {
      "text/plain": [
       "{1, 2, 3, 4, 5}"
      ]
     },
     "execution_count": 125,
     "metadata": {},
     "output_type": "execute_result"
    }
   ],
   "source": [
    "set_delete_same_element = {1, 1, 1, 2, 3, 4, 5}\n",
    "set_delete_same_element"
   ]
  },
  {
   "cell_type": "markdown",
   "id": "d66853e1-036d-42df-9515-430c31afe769",
   "metadata": {},
   "source": [
    "利用这个功能，我们可以假想有这样的一个场景：\n",
    "\n",
    "公司收到了大量的订单，公司想要知道都有那些人下了订单，由于一个人可能下了多个订单，所以需要使用集合的查重功能来去除重复的名字，但是需要保留至少一次。"
   ]
  }
 ],
 "metadata": {
  "kernelspec": {
   "display_name": "Python 3 (ipykernel)",
   "language": "python",
   "name": "python3"
  },
  "language_info": {
   "codemirror_mode": {
    "name": "ipython",
    "version": 3
   },
   "file_extension": ".py",
   "mimetype": "text/x-python",
   "name": "python",
   "nbconvert_exporter": "python",
   "pygments_lexer": "ipython3",
   "version": "3.10.11"
  }
 },
 "nbformat": 4,
 "nbformat_minor": 5
}
