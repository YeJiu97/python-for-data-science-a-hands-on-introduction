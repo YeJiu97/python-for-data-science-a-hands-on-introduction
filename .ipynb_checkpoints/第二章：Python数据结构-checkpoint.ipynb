{
 "cells": [
  {
   "cell_type": "markdown",
   "id": "a955ec30-865e-4529-962d-b12d013aa0a9",
   "metadata": {},
   "source": [
    "# 列表"
   ]
  },
  {
   "cell_type": "markdown",
   "id": "cb8dd557-fd87-410c-b3da-d4b8003fd22a",
   "metadata": {},
   "source": [
    "Python列表是对象的有序集合。列表的元素用逗号分隔开来，整个列表则使用方括号括起来："
   ]
  },
  {
   "cell_type": "code",
   "execution_count": 1,
   "id": "2530732f-1a5f-4cb9-af93-7a4b8629e439",
   "metadata": {},
   "outputs": [
    {
     "data": {
      "text/plain": [
       "list"
      ]
     },
     "execution_count": 1,
     "metadata": {},
     "output_type": "execute_result"
    }
   ],
   "source": [
    "num_list = [1, 2, 3, 4]\n",
    "type(num_list)"
   ]
  },
  {
   "cell_type": "markdown",
   "id": "06ff2afd-6d84-4234-8d40-ce8dd3a0f366",
   "metadata": {},
   "source": [
    "列表是可变的，并且也可以有重复的元素。"
   ]
  }
 ],
 "metadata": {
  "kernelspec": {
   "display_name": "Python 3 (ipykernel)",
   "language": "python",
   "name": "python3"
  },
  "language_info": {
   "codemirror_mode": {
    "name": "ipython",
    "version": 3
   },
   "file_extension": ".py",
   "mimetype": "text/x-python",
   "name": "python",
   "nbconvert_exporter": "python",
   "pygments_lexer": "ipython3",
   "version": "3.10.11"
  }
 },
 "nbformat": 4,
 "nbformat_minor": 5
}
