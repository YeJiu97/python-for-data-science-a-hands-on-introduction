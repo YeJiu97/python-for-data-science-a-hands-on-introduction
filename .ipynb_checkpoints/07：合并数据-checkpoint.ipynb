{
 "cells": [
  {
   "cell_type": "markdown",
   "id": "4d2941f9-f881-4936-b826-c1e090c57813",
   "metadata": {},
   "source": [
    "# 合并Python数据结构"
   ]
  },
  {
   "cell_type": "markdown",
   "id": "06da9839-c30e-4f58-a060-64f219dd0d47",
   "metadata": {},
   "source": [
    "在某些情况下，合并数据集可能知识将一个数据集添加到另一个数据集的末尾。"
   ]
  },
  {
   "cell_type": "markdown",
   "id": "f72faab3-6817-418c-8469-150ac6c9023b",
   "metadata": {},
   "source": [
    "## 使用 + 符号合并列表和元组"
   ]
  },
  {
   "cell_type": "code",
   "execution_count": 43,
   "id": "6355aca9-cfce-4cc2-8198-d6836ff84ac6",
   "metadata": {},
   "outputs": [],
   "source": [
    "orders_2022_02_04 = [\n",
    "    (9423517, '2022-02-04', 9001),\n",
    "    (4626232, '2022-02-04', 9003),\n",
    "    (9423534, '2022-02-04', 9001),\n",
    "]\n",
    "\n",
    "orders_2022_02_05 = [\n",
    "    (9423679, '2022-02-05', 9002),\n",
    "    (4626377, '2022-02-05', 9003),\n",
    "    (4626412, '2022-02-05', 9004)\n",
    "]\n",
    "\n",
    "order_2022_02_06 = [\n",
    "    (9423783, '2022-02-06', 9002),\n",
    "    (4626490, '2022-02-06', 9004)\n",
    "]"
   ]
  },
  {
   "cell_type": "markdown",
   "id": "f6492f73-29cb-4b98-bf6e-fd0fa1e4c36a",
   "metadata": {},
   "source": [
    "我们可以使用 + 号将两者联合在一起："
   ]
  },
  {
   "cell_type": "code",
   "execution_count": 44,
   "id": "22c30cb9-2dac-46fb-b4ab-bc8b47de4fa3",
   "metadata": {},
   "outputs": [],
   "source": [
    "orders_total = orders_2022_02_04 + orders_2022_02_05 + order_2022_02_06"
   ]
  },
  {
   "cell_type": "code",
   "execution_count": 45,
   "id": "9d8d8f08-3beb-4946-9a13-a283eb349fc1",
   "metadata": {},
   "outputs": [
    {
     "data": {
      "text/plain": [
       "[(9423517, '2022-02-04', 9001),\n",
       " (4626232, '2022-02-04', 9003),\n",
       " (9423534, '2022-02-04', 9001),\n",
       " (9423679, '2022-02-05', 9002),\n",
       " (4626377, '2022-02-05', 9003),\n",
       " (4626412, '2022-02-05', 9004),\n",
       " (9423783, '2022-02-06', 9002),\n",
       " (4626490, '2022-02-06', 9004)]"
      ]
     },
     "execution_count": 45,
     "metadata": {},
     "output_type": "execute_result"
    }
   ],
   "source": [
    "orders_total"
   ]
  },
  {
   "cell_type": "markdown",
   "id": "951102af-e0fb-485b-b9d0-b399782be288",
   "metadata": {},
   "source": [
    "如果使用 + 号来合并字典，则会发生报错："
   ]
  },
  {
   "cell_type": "code",
   "execution_count": 46,
   "id": "b3ee1581-6663-41c0-9e52-5496ff550bf9",
   "metadata": {},
   "outputs": [],
   "source": [
    "dict_01 = {'key_01':'value_01', 'key_02':'value_02'}\n",
    "dict_02 = {'key_03':'value_03', 'key_04':'value_04'}"
   ]
  },
  {
   "cell_type": "code",
   "execution_count": 47,
   "id": "b0285ed7-bf30-4f02-a247-f09848874f05",
   "metadata": {},
   "outputs": [
    {
     "name": "stdout",
     "output_type": "stream",
     "text": [
      "字典不能够使用+号来进行合并，会发生报错：unsupported operand type(s) for +: 'dict' and 'dict'\n"
     ]
    }
   ],
   "source": [
    "try:\n",
    "    dict_01 + dict_02\n",
    "except TypeError as te:\n",
    "    print(\"字典不能够使用+号来进行合并，会发生报错：{}\".format(te))"
   ]
  },
  {
   "cell_type": "markdown",
   "id": "e6b301be-0c50-4432-bd9d-eea9466a8af8",
   "metadata": {},
   "source": [
    "字典的合并需要使用 \"**\"："
   ]
  },
  {
   "cell_type": "code",
   "execution_count": 48,
   "id": "a0c62df8-38db-4e07-bb9b-2130ea7b9ba1",
   "metadata": {},
   "outputs": [],
   "source": [
    "dict_combine = {**dict_01, **dict_02}"
   ]
  },
  {
   "cell_type": "code",
   "execution_count": 49,
   "id": "fb608346-9ee1-4959-9583-1dd003b653af",
   "metadata": {},
   "outputs": [
    {
     "data": {
      "text/plain": [
       "{'key_01': 'value_01',\n",
       " 'key_02': 'value_02',\n",
       " 'key_03': 'value_03',\n",
       " 'key_04': 'value_04'}"
      ]
     },
     "execution_count": 49,
     "metadata": {},
     "output_type": "execute_result"
    }
   ],
   "source": [
    "dict_combine"
   ]
  },
  {
   "cell_type": "markdown",
   "id": "a0b2c3ed-99c4-4223-9e40-d9810d925518",
   "metadata": {},
   "source": [
    "用户常常需要将共享同意列表的一个或者多个数据结构链接为一个结构："
   ]
  },
  {
   "cell_type": "code",
   "execution_count": 50,
   "id": "432dba0a-2b18-4e40-bbab-b6974a8d5d72",
   "metadata": {},
   "outputs": [],
   "source": [
    "details = [\n",
    "    (9423517, 'Jeans', 'Rip Curl', 87.0, 1),\n",
    "    (9423517, 'Jacknet', 'The North Face', 112.0, 1),\n",
    "    (4626232, 'Socks', 'Vans', 15.0, 1),\n",
    "    (4626232, 'Jeans', 'Quiksilver', 82.0, 1),\n",
    "    (9423534, 'Socks', 'Dc', 10.0, 2),\n",
    "    (9423534, 'Socks', 'Quiksilver', 12.0, 2),\n",
    "    (9423679, 'T-shirt', 'Patagonia', 35.0, 1),\n",
    "    (4626377, 'Hoody', 'Animal', 44.0, 1),\n",
    "    (4626377, 'Cargo Shorts','Animal', 38.0, 1),\n",
    "    (4626412, 'Shirt', 'Volcom', 78.0, 1),\n",
    "    (9423783, 'Boxer Shorts', 'Superdry', 30.0, 2),\n",
    "    (9423783, 'Shorts', 'Globe', 26.0, 1),\n",
    "    (4626490, 'Cargo Shorts', 'Billabong', 54.0, 1),\n",
    "    (4626490, 'Sweater', 'Dickies', 56.0, 1)\n",
    "]"
   ]
  },
  {
   "cell_type": "markdown",
   "id": "3448dde1-32f5-445b-9170-48166eddce59",
   "metadata": {},
   "source": [
    "两个列表都包含元组，元组的第一个元素是订单号。\n",
    "\n",
    "我们需要找到具有匹配订单号的元组，将它们合并为单个元组，并将所有元组存储在列表中："
   ]
  },
  {
   "cell_type": "code",
   "execution_count": 51,
   "id": "20e3a6b1-c28b-4260-81f8-a6cff2fd8e9b",
   "metadata": {},
   "outputs": [],
   "source": [
    "orders_details = []\n",
    "for o in orders_total:\n",
    "    for d in details:\n",
    "        if d[0] == o[0]:\n",
    "            orders_details.append(o + d[1:])"
   ]
  },
  {
   "cell_type": "code",
   "execution_count": 52,
   "id": "547187a6-a584-4f24-a914-10e505e2cb3d",
   "metadata": {},
   "outputs": [
    {
     "data": {
      "text/plain": [
       "[(9423517, '2022-02-04', 9001, 'Jeans', 'Rip Curl', 87.0, 1),\n",
       " (9423517, '2022-02-04', 9001, 'Jacknet', 'The North Face', 112.0, 1),\n",
       " (4626232, '2022-02-04', 9003, 'Socks', 'Vans', 15.0, 1),\n",
       " (4626232, '2022-02-04', 9003, 'Jeans', 'Quiksilver', 82.0, 1),\n",
       " (9423534, '2022-02-04', 9001, 'Socks', 'Dc', 10.0, 2),\n",
       " (9423534, '2022-02-04', 9001, 'Socks', 'Quiksilver', 12.0, 2),\n",
       " (9423679, '2022-02-05', 9002, 'T-shirt', 'Patagonia', 35.0, 1),\n",
       " (4626377, '2022-02-05', 9003, 'Hoody', 'Animal', 44.0, 1),\n",
       " (4626377, '2022-02-05', 9003, 'Cargo Shorts', 'Animal', 38.0, 1),\n",
       " (4626412, '2022-02-05', 9004, 'Shirt', 'Volcom', 78.0, 1),\n",
       " (9423783, '2022-02-06', 9002, 'Boxer Shorts', 'Superdry', 30.0, 2),\n",
       " (9423783, '2022-02-06', 9002, 'Shorts', 'Globe', 26.0, 1),\n",
       " (4626490, '2022-02-06', 9004, 'Cargo Shorts', 'Billabong', 54.0, 1),\n",
       " (4626490, '2022-02-06', 9004, 'Sweater', 'Dickies', 56.0, 1)]"
      ]
     },
     "execution_count": 52,
     "metadata": {},
     "output_type": "execute_result"
    }
   ],
   "source": [
    "orders_details"
   ]
  },
  {
   "cell_type": "markdown",
   "id": "830357f1-c172-484d-8fc0-5eb51453a9d8",
   "metadata": {},
   "source": [
    "使用推导式："
   ]
  },
  {
   "cell_type": "code",
   "execution_count": 53,
   "id": "1382f89b-fecc-47e1-802e-ca3e7949edac",
   "metadata": {},
   "outputs": [],
   "source": [
    "orders_details = [[o for o in orders_total if d[0] == o[0]][0] + d[1:] for d in details]"
   ]
  },
  {
   "cell_type": "code",
   "execution_count": 54,
   "id": "c077331d-dff0-42a7-b5e8-28e847eebc79",
   "metadata": {},
   "outputs": [
    {
     "data": {
      "text/plain": [
       "[(9423517, '2022-02-04', 9001, 'Jeans', 'Rip Curl', 87.0, 1),\n",
       " (9423517, '2022-02-04', 9001, 'Jacknet', 'The North Face', 112.0, 1),\n",
       " (4626232, '2022-02-04', 9003, 'Socks', 'Vans', 15.0, 1),\n",
       " (4626232, '2022-02-04', 9003, 'Jeans', 'Quiksilver', 82.0, 1),\n",
       " (9423534, '2022-02-04', 9001, 'Socks', 'Dc', 10.0, 2),\n",
       " (9423534, '2022-02-04', 9001, 'Socks', 'Quiksilver', 12.0, 2),\n",
       " (9423679, '2022-02-05', 9002, 'T-shirt', 'Patagonia', 35.0, 1),\n",
       " (4626377, '2022-02-05', 9003, 'Hoody', 'Animal', 44.0, 1),\n",
       " (4626377, '2022-02-05', 9003, 'Cargo Shorts', 'Animal', 38.0, 1),\n",
       " (4626412, '2022-02-05', 9004, 'Shirt', 'Volcom', 78.0, 1),\n",
       " (9423783, '2022-02-06', 9002, 'Boxer Shorts', 'Superdry', 30.0, 2),\n",
       " (9423783, '2022-02-06', 9002, 'Shorts', 'Globe', 26.0, 1),\n",
       " (4626490, '2022-02-06', 9004, 'Cargo Shorts', 'Billabong', 54.0, 1),\n",
       " (4626490, '2022-02-06', 9004, 'Sweater', 'Dickies', 56.0, 1)]"
      ]
     },
     "execution_count": 54,
     "metadata": {},
     "output_type": "execute_result"
    }
   ],
   "source": [
    "orders_details"
   ]
  },
  {
   "cell_type": "markdown",
   "id": "84df87c4-5e94-43bd-aa77-12277c133d50",
   "metadata": {},
   "source": []
  }
 ],
 "metadata": {
  "kernelspec": {
   "display_name": "Python 3 (ipykernel)",
   "language": "python",
   "name": "python3"
  },
  "language_info": {
   "codemirror_mode": {
    "name": "ipython",
    "version": 3
   },
   "file_extension": ".py",
   "mimetype": "text/x-python",
   "name": "python",
   "nbconvert_exporter": "python",
   "pygments_lexer": "ipython3",
   "version": "3.10.11"
  }
 },
 "nbformat": 4,
 "nbformat_minor": 5
}
