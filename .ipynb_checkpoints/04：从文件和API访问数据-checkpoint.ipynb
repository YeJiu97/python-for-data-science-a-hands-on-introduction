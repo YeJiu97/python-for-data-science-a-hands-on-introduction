{
 "cells": [
  {
   "cell_type": "markdown",
   "id": "0ed26b22-2f49-4b4c-bc5e-bf5fdd86ab26",
   "metadata": {},
   "source": [
    "# 使用Python函数open()导入数据"
   ]
  },
  {
   "cell_type": "markdown",
   "id": "7df831e1-3076-463e-9c31-6327153cc956",
   "metadata": {},
   "source": [
    "## 文本文件"
   ]
  },
  {
   "cell_type": "code",
   "execution_count": 9,
   "id": "5af24a42-aebd-48e3-8e13-2c0b3f2bdc80",
   "metadata": {},
   "outputs": [
    {
     "name": "stdout",
     "output_type": "stream",
     "text": [
      "Today, robots can talk to humans using natural language, and they're getting smarter. Even so, very few people understand how these robots work or how they might use these technologies in their own orojects.\n",
      "\n",
      "Natural language processing (NLP) - a branch of artificial intelligence that helps machines understand and respond to human language - is the key technology that lies at the heart of any digital assistant product.\n"
     ]
    }
   ],
   "source": [
    "path = 'excerpt.txt'\n",
    "\n",
    "with open(path, 'r') as f:\n",
    "    content = f.read()\n",
    "\n",
    "print(content)"
   ]
  },
  {
   "cell_type": "markdown",
   "id": "bcd9f634-01c7-4f09-9146-4b68b7897a41",
   "metadata": {},
   "source": [
    "open()函数的第一个参数是txt文件的路径，这里在同一个文件夹中，所以是使用先对路径就可以了；open()函数的第二个参数是权限参数，使用的是'r'，所以是只读；as f则是open()函数返回指定模式的文件对象；然后，使用file对象的read()方法读取文件的全部内容。"
   ]
  },
  {
   "cell_type": "markdown",
   "id": "7cfa8145-f1da-44a3-8fbe-3a2a6ae4d900",
   "metadata": {},
   "source": [
    "使用with关键字可以确保open()函数打开的文件在文件处理之后，即使引发了异常，file对象也能够正确的关闭。否则需要调用f.close()关闭文件对象并且释放所消耗的系统资源。"
   ]
  },
  {
   "cell_type": "markdown",
   "id": "f83663d8-1a4b-492f-8fec-bc158f7c24d2",
   "metadata": {},
   "source": [
    "with open() 是 Python 中用于打开文件的一种推荐方式。其中的 with 关键字起到了确保文件在操作完成后正确关闭的作用。\n",
    "\n",
    "具体来说，当使用 with open() 打开一个文件时，Python 会在进入代码块之前自动调用文件对象的 `__enter__()` 方法，将文件对象赋值给指定的变量（通常是 file）。然后，在代码块执行完毕后，无论是否发生异常，Python 都会自动调用文件对象的  `__exit__()` 方法来关闭文件。\n",
    "\n",
    "这种方式的好处是：\n",
    "\n",
    "1. 代码更加简洁和易读。不需要显式地调用 close() 方法来关闭文件。\n",
    "2. 可以确保文件始终被关闭，即使在处理文件过程中发生了异常。\n",
    "3. 支持上下文管理器的更多功能，例如在 with 语句中指定特定的文件模式、编码等。"
   ]
  },
  {
   "cell_type": "code",
   "execution_count": 10,
   "id": "91f028c0-50ad-4c51-ae62-06eed2e69da0",
   "metadata": {},
   "outputs": [
    {
     "name": "stdout",
     "output_type": "stream",
     "text": [
      "Line 0:  Today, robots can talk to humans using natural language, and they're getting smarter. Even so, very few people understand how these robots work or how they might use these technologies in their own orojects.\n",
      "Line 2:  Natural language processing (NLP) - a branch of artificial intelligence that helps machines understand and respond to human language - is the key technology that lies at the heart of any digital assistant product.\n"
     ]
    }
   ],
   "source": [
    "with open(path, 'r') as f:\n",
    "    for i, line in enumerate(f):\n",
    "        if line.strip():\n",
    "            print(f\"Line {i}: \", line.strip())"
   ]
  },
  {
   "cell_type": "markdown",
   "id": "9e87b637-1797-4f21-b473-e65a2a483a5d",
   "metadata": {},
   "source": [
    "enumerate()函数是Python的内置函数，用于将一个可遍历的数据对象（如列表、元组或字符串）组合为一个索引序列，同时列出数据和数据下标。使用方法如下：\r\n"
   ]
  },
  {
   "cell_type": "code",
   "execution_count": 11,
   "id": "a318b9cc-ae48-4a91-acb8-df280ec0ee70",
   "metadata": {},
   "outputs": [
    {
     "name": "stdout",
     "output_type": "stream",
     "text": [
      "0 苹果\n",
      "1 香蕉\n",
      "2 橙子\n"
     ]
    }
   ],
   "source": [
    "fruits = ['苹果', '香蕉', '橙子']\n",
    "for index, fruit in enumerate(fruits):\n",
    "    print(index, fruit)"
   ]
  },
  {
   "cell_type": "markdown",
   "id": "8c00e078-2940-41ed-94e6-3322957cf5c7",
   "metadata": {},
   "source": [
    "## 表格数据文件"
   ]
  },
  {
   "cell_type": "markdown",
   "id": "eabe874f-f694-4165-8c8f-3e54c4046621",
   "metadata": {},
   "source": [
    "CSV文件，全称为逗号分隔值文件（Comma-Separated Values），是一种存储表格和电子表格信息的纯文本文件格式。这种文件由任意数目的记录组成，记录间以某种换行符分隔；每条记录由字段组成，字段间的分隔符常见的是逗号或者制表符。由于其可以用任何文本编辑器或专用软件打开，并且可以存储、传输和编辑数据，因此CSV文件被广泛应用在各种场景中。\n",
    "\n",
    "你可以使用如记事本、Excel等工具来创建和编辑CSV文件。同时，如果需要处理大量的CSV数据，可以使用Python的pandas库来操作。总的来说，CSV文件因其格式简单、使用方便的特点，成为了数据交换和存储的重要方式。"
   ]
  },
  {
   "cell_type": "code",
   "execution_count": 12,
   "id": "b80d15f6-6ecc-434c-b0af-d6ec247abb6c",
   "metadata": {},
   "outputs": [
    {
     "name": "stdout",
     "output_type": "stream",
     "text": [
      "[{'Year': '1997', 'Make': 'Ford', 'Model': 'E350', 'Price': '3200.00'}, {'Year': '1999', 'Make': 'Chevy', 'Model': 'Venture', 'Price': '4800.00'}, {'Year': '1996', 'Make': 'Jeep', 'Model': 'Grand Cherokee', 'Price': '4900.00'}]\n"
     ]
    }
   ],
   "source": [
    "import csv\n",
    "\n",
    "path = 'cars.csv'\n",
    "\n",
    "with open(path, 'r') as csv_file:\n",
    "    csv_reader = csv.DictReader(csv_file)\n",
    "    cars = []\n",
    "    for row in csv_reader:\n",
    "        cars.append(dict(row))\n",
    "print(cars)"
   ]
  },
  {
   "cell_type": "markdown",
   "id": "7fc0a735-ceef-4cb1-8c2a-04310bec4891",
   "metadata": {},
   "source": [
    "DictReader()方法将每行数据映射到字典中，然后将字典的每一个元素添加到列表中。"
   ]
  },
  {
   "cell_type": "markdown",
   "id": "4449962b-bf23-4a7a-a36c-58c7ae2a037c",
   "metadata": {},
   "source": [
    "或者也可以使用csv模块的reader()方法将.csv文件转换为嵌套列表，其中每个内部列表代表文件的一行："
   ]
  },
  {
   "cell_type": "code",
   "execution_count": 13,
   "id": "5bd0d439-eb7b-478c-8371-3234d35ea34a",
   "metadata": {},
   "outputs": [
    {
     "name": "stdout",
     "output_type": "stream",
     "text": [
      "[['Year', 'Make', 'Model', 'Price'], ['1997', 'Ford', 'E350', '3200.00'], ['1999', 'Chevy', 'Venture', '4800.00'], ['1996', 'Jeep', 'Grand Cherokee', '4900.00']]\n"
     ]
    }
   ],
   "source": [
    "import csv\n",
    "\n",
    "path = 'cars.csv'\n",
    "with open(path, 'r') as csv_file:\n",
    "    csv_reader = csv.reader(csv_file)\n",
    "    cars = []\n",
    "    for row in csv_reader:\n",
    "        cars.append(row)\n",
    "print(cars)"
   ]
  },
  {
   "cell_type": "markdown",
   "id": "ceb66d41-814b-4b99-ae9d-ee22588bd35c",
   "metadata": {},
   "source": [
    "csv.DictReader()和csv.reader()都有一个可以选择的分隔符参数，用于设置表格数据文件中的分隔符。"
   ]
  },
  {
   "cell_type": "markdown",
   "id": "a46e82b5-5e42-4915-b6ee-09c30a487744",
   "metadata": {},
   "source": [
    "# 将数据导出到文件"
   ]
  },
  {
   "cell_type": "markdown",
   "id": "1f16472c-cc11-4eca-b49f-8ca83d01b3ac",
   "metadata": {},
   "source": [
    "修改cars.csv文件的一行，从而修改某一辆车的价格。"
   ]
  },
  {
   "cell_type": "code",
   "execution_count": 18,
   "id": "b42d9665-4181-4106-896d-dfe35b435671",
   "metadata": {},
   "outputs": [
    {
     "name": "stdout",
     "output_type": "stream",
     "text": [
      "['1997', 'Ford', 'E350', '3200.00']\n",
      "['1999', 'Chevy', 'Venture', '4800.00']\n",
      "['1996', 'Jeep', 'Grand Cherokee', '4900.00']\n"
     ]
    }
   ],
   "source": [
    "import csv\n",
    "\n",
    "path = 'cars.csv'\n",
    "\n",
    "with open(path, 'r') as csv_file:\n",
    "    csv_reader = csv.DictReader(csv_file)\n",
    "    cars = []\n",
    "    for row in csv_reader:\n",
    "        cars.append(dict(row))\n",
    "\n",
    "for row in cars:\n",
    "    print(list(row.values()))"
   ]
  },
  {
   "cell_type": "markdown",
   "id": "b8f4a7af-3e52-418a-8043-8ab072cc3eb8",
   "metadata": {},
   "source": [
    "假设我们需要修改第二行的Price字段，即更改Chevy Venture的价格，那么可以采用如下所示的方法："
   ]
  },
  {
   "cell_type": "code",
   "execution_count": 22,
   "id": "9a56012e-b725-4f7e-b1e9-5f29f816deca",
   "metadata": {},
   "outputs": [],
   "source": [
    "to_update = ['1999', 'Chevy', 'Venture']\n",
    "new_price = '4500.00'\n",
    "\n",
    "with open(path, 'w') as csvfile:\n",
    "    fieldnames = cars[0].keys()\n",
    "    writer = csv.DictWriter(csvfile, fieldnames = fieldnames)\n",
    "    writer.writeheader()\n",
    "    for row in cars:\n",
    "        if set(to_update).issubset(set(row.values())):\n",
    "            row['Price'] = new_price\n",
    "        writer.writerow(row)"
   ]
  },
  {
   "cell_type": "markdown",
   "id": "11e7c463-0dcc-45a9-97eb-c61ee79eb13b",
   "metadata": {},
   "source": [
    "在上述代码中，首先要一种方法来标识需要被更新的第2行，这里创建了一个名为 to_update 的列表，其中包含足够多的字段来唯一标识改行。将需要修改的字段的新值指定为new_price，接下来打开cars.csv文件，将open()函数的第二个参数设置为w，w表示覆盖文件的现有内容。"
   ]
  },
  {
   "cell_type": "markdown",
   "id": "0fd17b5e-33c3-4aab-81cf-168ca0004fee",
   "metadata": {},
   "source": [
    "car.csv文件中的内容现在如下所示：\n",
    "```txt\n",
    "Year,Make,Model,Price\r\n",
    "\r\n",
    "1997,Ford,E350,3200.00\r\n",
    "\r\n",
    "1999,Chevy,Venture,4500.00\r\n",
    "\r\n",
    "1996,Jeep,Grand Cherokee,49```00.00\r\n"
   ]
  },
  {
   "cell_type": "markdown",
   "id": "20f0a956-63da-4525-aceb-bb828b084b28",
   "metadata": {},
   "source": [
    "# 访问远程文件和API"
   ]
  },
  {
   "cell_type": "markdown",
   "id": "ae31e6aa-4d26-469e-9883-6f8ecc102bb3",
   "metadata": {},
   "source": [
    "HTTP，全称为超文本传输协议，是一种客户端和服务器之间的通信规范。这种规范详细定义了请求和响应报文的格式，以及相关的控制和错误处理方式。在实际应用中，HTTP协议通常用于浏览器和Web服务器之间的通信，以发布和接收HTML页面。"
   ]
  },
  {
   "cell_type": "markdown",
   "id": "39ba8ae8-470d-4054-97bc-3140f5cc8df5",
   "metadata": {},
   "source": [
    "HTTP请求是一种客户端向服务器发送的请求，包含了请求行、请求头和请求体三个部分。其中，请求行主要包含了请求方法、URL字段和HTTP协议版本等信息。常见的请求方法有GET、POST、HEAD、PUT、DELETE、OPTIONS等。例如，GET请求主要用于从服务器获取数据。而根据 HTTP 标准，HTTP1.1相较于HTTP1.0还新增了六种请求方法：OPTIONS、PUT、PATCH、DELETE、TRACE 和 CONNECT 方法。这些请求方法都实现了不同的语义，以表明要对给定资源执行的操作。"
   ]
  },
  {
   "cell_type": "markdown",
   "id": "ee632522-b31a-42ff-be17-0946c5ed45eb",
   "metadata": {},
   "source": [
    "Urllib3是一个功能强大且易于使用的Python HTTP库，用于发送HTTP请求和处理HTTP响应。它提供了许多高级功能和选项，使得在Python中进行HTTP通信变得更加简单和灵活。一些主要的功能和特点包括：支持HTTP和HTTPS协议，自动管理连接池以提高性能和效率，支持连接重用和连接超时设置，支持代理和证书的配置，提供灵活的请求头和请求体定制，自动处理重定向和重试，以及支持SSL/TLS请求的处理。\r\n",
    "\r\n",
    "Urllib3也具有优秀的线程安全性和并发性，这使其在处理大量并发请求时表现出色。此外，Urllib3还为文件上传提供了使用multipart编码的支持，并为重传请求并处理HTTP重定向提供了辅助功能。尽管名字叫做 Urllib3，但它并不是 Python自带的 urllib2 的后继版本。\r\n",
    "\r\n",
    "如果你喜欢爬虫或者需要进行大量的网络请求操作，那么Urllib3会是一个很好的选择。要使用Urllib3库，首先需要安装。你可以使用pip命令进行安装：`pip install urllib3`。"
   ]
  },
  {
   "cell_type": "code",
   "execution_count": 25,
   "id": "06104c94-8ff7-4be6-98b2-80bdb1a7f82d",
   "metadata": {},
   "outputs": [
    {
     "name": "stdout",
     "output_type": "stream",
     "text": [
      "Line 0:  {\"payload\":{\"allShortcutsEnabled\":false,\"fileTree\":{\"\":{\"items\":[{\"name\":\".ipynb_checkpoints\",\"path\":\".ipynb_checkpoints\",\"contentType\":\"directory\"},{\"name\":\"__MACOSX\",\"path\":\"__MACOSX\",\"contentType\":\"directory\"},{\"name\":\"sentiment labelled sentences\",\"path\":\"sentiment labelled sentences\",\"contentType\":\"directory\"},{\"name\":\"01：数据的基础知识.ipynb\",\"path\":\"01：数据的基础知识.ipynb\",\"contentType\":\"file\"},{\"name\":\"02：Python数据结构.ipynb\",\"path\":\"02：Python数据结构.ipynb\",\"contentType\":\"file\"},{\"name\":\"03：Python第三方库.ipynb\",\"path\":\"03：Python第三方库.ipynb\",\"contentType\":\"file\"},{\"name\":\"04：从文件和API访问数据.ipynb\",\"path\":\"04：从文件和API访问数据.ipynb\",\"contentType\":\"file\"},{\"name\":\"README.md\",\"path\":\"README.md\",\"contentType\":\"file\"},{\"name\":\"cars.csv\",\"path\":\"cars.csv\",\"contentType\":\"file\"},{\"name\":\"en_core_web_sm-3.7.1-py3-none-any.whl\",\"path\":\"en_core_web_sm-3.7.1-py3-none-any.whl\",\"contentType\":\"file\"},{\"name\":\"excerpt.txt\",\"path\":\"excerpt.txt\",\"contentType\":\"file\"},{\"name\":\"po.json\",\"path\":\"po.json\",\"contentType\":\"file\"},{\"name\":\"sentiment+labelled+sentences.zip\",\"path\":\"sentiment+labelled+sentences.zip\",\"contentType\":\"file\"}],\"totalCount\":13}},\"fileTreeProcessingTime\":3.375999,\"foldersToFetch\":[],\"reducedMotionEnabled\":null,\"repo\":{\"id\":736873569,\"defaultBranch\":\"main\",\"name\":\"python-for-data-science-a-hands-on-introduction\",\"ownerLogin\":\"YeJiu97\",\"currentUserCanPush\":false,\"isFork\":false,\"isEmpty\":false,\"createdAt\":\"2023-12-29T06:00:21.000Z\",\"ownerAvatar\":\"https://avatars.githubusercontent.com/u/94936537?v=4\",\"public\":true,\"private\":false,\"isOrgOwned\":false},\"symbolsExpanded\":false,\"treeExpanded\":true,\"refInfo\":{\"name\":\"main\",\"listCacheKey\":\"v0:1703829622.407238\",\"canEdit\":false,\"refType\":\"branch\",\"currentOid\":\"4663d242bd0c614ae97004d361c9e95c4140251e\"},\"path\":\"excerpt.txt\",\"currentUser\":null,\"blob\":{\"rawLines\":[\"Today, robots can talk to humans using natural language, and they're getting smarter. Even so, very few people understand how these robots work or how they might use these technologies in their own orojects.\",\"\",\"Natural language processing (NLP) - a branch of artificial intelligence that helps machines understand and respond to human language - is the key technology that lies at the heart of any digital assistant product.\"],\"stylingDirectives\":[[],[],[]],\"csv\":null,\"csvError\":null,\"dependabotInfo\":{\"showConfigurationBanner\":false,\"configFilePath\":null,\"networkDependabotPath\":\"/YeJiu97/python-for-data-science-a-hands-on-introduction/network/updates\",\"dismissConfigurationNoticePath\":\"/settings/dismiss-notice/dependabot_configuration_notice\",\"configurationNoticeDismissed\":null,\"repoAlertsPath\":\"/YeJiu97/python-for-data-science-a-hands-on-introduction/security/dependabot\",\"repoSecurityAndAnalysisPath\":\"/YeJiu97/python-for-data-science-a-hands-on-introduction/settings/security_analysis\",\"repoOwnerIsOrg\":false,\"currentUserCanAdminRepo\":false},\"displayName\":\"excerpt.txt\",\"displayUrl\":\"https://github.com/YeJiu97/python-for-data-science-a-hands-on-introduction/blob/main/excerpt.txt?raw=true\",\"headerInfo\":{\"blobSize\":\"422 Bytes\",\"deleteInfo\":{\"deleteTooltip\":\"You must be signed in to make or propose changes\"},\"editInfo\":{\"editTooltip\":\"You must be signed in to make or propose changes\"},\"ghDesktopPath\":\"https://desktop.github.com\",\"gitLfsPath\":null,\"onBranch\":true,\"shortPath\":\"2a26c5c\",\"siteNavLoginPath\":\"/login?return_to=https%3A%2F%2Fgithub.com%2FYeJiu97%2Fpython-for-data-science-a-hands-on-introduction%2Fblob%2Fmain%2Fexcerpt.txt\",\"isCSV\":false,\"isRichtext\":false,\"toc\":null,\"lineInfo\":{\"truncatedLoc\":\"3\",\"truncatedSloc\":\"2\"},\"mode\":\"file\"},\"image\":false,\"isCodeownersFile\":null,\"isPlain\":false,\"isValidLegacyIssueTemplate\":false,\"issueTemplateHelpUrl\":\"https://docs.github.com/articles/about-issue-and-pull-request-templates\",\"issueTemplate\":null,\"discussionTemplate\":null,\"language\":\"Text\",\"languageID\":372,\"large\":false,\"loggedIn\":false,\"newDiscussionPath\":\"/YeJiu97/python-for-data-science-a-hands-on-introduction/discussions/new\",\"newIssuePath\":\"/YeJiu97/python-for-data-science-a-hands-on-introduction/issues/new\",\"planSupportInfo\":{\"repoIsFork\":null,\"repoOwnedByCurrentUser\":null,\"requestFullPath\":\"/YeJiu97/python-for-data-science-a-hands-on-introduction/blob/main/excerpt.txt\",\"showFreeOrgGatedFeatureMessage\":null,\"showPlanSupportBanner\":null,\"upgradeDataAttributes\":null,\"upgradePath\":null},\"publishBannersInfo\":{\"dismissActionNoticePath\":\"/settings/dismiss-notice/publish_action_from_dockerfile\",\"dismissStackNoticePath\":\"/settings/dismiss-notice/publish_stack_from_file\",\"releasePath\":\"/YeJiu97/python-for-data-science-a-hands-on-introduction/releases/new?marketplace=true\",\"showPublishActionBanner\":false,\"showPublishStackBanner\":false},\"rawBlobUrl\":\"https://github.com/YeJiu97/python-for-data-science-a-hands-on-introduction/raw/main/excerpt.txt\",\"renderImageOrRaw\":false,\"richText\":null,\"renderedFileInfo\":null,\"shortPath\":null,\"tabSize\":8,\"topBannersInfo\":{\"overridingGlobalFundingFile\":false,\"globalPreferredFundingPath\":null,\"repoOwner\":\"YeJiu97\",\"repoName\":\"python-for-data-science-a-hands-on-introduction\",\"showInvalidCitationWarning\":false,\"citationHelpUrl\":\"https://docs.github.com/en/github/creating-cloning-and-archiving-repositories/creating-a-repository-on-github/about-citation-files\",\"showDependabotConfigurationBanner\":false,\"actionsOnboardingTip\":null},\"truncated\":false,\"viewable\":true,\"workflowRedirectUrl\":null,\"symbols\":{\"timed_out\":false,\"not_analyzed\":true,\"symbols\":[]}},\"copilotInfo\":null,\"copilotAccessAllowed\":false,\"csrf_tokens\":{\"/YeJiu97/python-for-data-science-a-hands-on-introduction/branches\":{\"post\":\"AkXMFCf1Hr2wrNTe6DlVWtE8jc5fuhZZElQZ7gWqJLyvnbb1AlYclwOeOYBBfH0_oaU4SqCM1dQkPwmcTRgQgQ\"},\"/repos/preferences\":{\"post\":\"WHTLoKUEqE9d_zVqwhnzNQNkc0GEr0lHgNx_G28pVkNg5OQ7UgIDAQdc9WAFmyyyLUkbY-UL9Qm5FNX-mo6ILA\"}}},\"title\":\"python-for-data-science-a-hands-on-introduction/excerpt.txt at main · YeJiu97/python-for-data-science-a-hands-on-introduction\"}\n"
     ]
    }
   ],
   "source": [
    "import requests\n",
    "\n",
    "r = requests.get('https://github.com/YeJiu97/python-for-data-science-a-hands-on-introduction/blob/main/excerpt.txt')\n",
    "for i, line in enumerate(r.text.split('\\n')):\n",
    "    if line.strip():\n",
    "        print('Line %i: ' %(i), line.strip())"
   ]
  },
  {
   "cell_type": "markdown",
   "id": "75c2be3b-7a36-4452-b7dd-52f83d171d1d",
   "metadata": {},
   "source": [
    "# 将数据移入或者移除数据框"
   ]
  },
  {
   "cell_type": "markdown",
   "id": "46c72136-fa6c-4167-8ae9-91d2bcb64809",
   "metadata": {},
   "source": [
    "## 导入嵌套的JSON结构"
   ]
  },
  {
   "cell_type": "markdown",
   "id": "695bb599-e067-4362-a6b9-7adddeeae7bb",
   "metadata": {},
   "source": [
    "现在有一个JSON文档，如下所示："
   ]
  },
  {
   "cell_type": "code",
   "execution_count": 26,
   "id": "cfd70e8e-831d-4120-911f-1cec43d4b1c6",
   "metadata": {},
   "outputs": [],
   "source": [
    "data = [{'Emp':'Jeff Russell',\n",
    "        'POs':[{'Pono':2608,'Total':35},\n",
    "              {'Pono':2617, 'Total':35},\n",
    "              {'Pono':2620,'Total':139}\n",
    "              ]},\n",
    "       {'Emp':'Jane Boorman',\n",
    "       \"POs\":[{'Pono':2621, 'Total':95},\n",
    "             {'Pono': 2626, 'Total': 218}\n",
    "             ]\n",
    "       }]"
   ]
  },
  {
   "cell_type": "markdown",
   "id": "fcd9d6d9-ec5f-4e80-b8ca-ed809a3dca62",
   "metadata": {},
   "source": [
    "使用pandas库的reader方法将JSON_normalize()将这个具有层级结构的JSON文档转换为pandas库的一个表状数据框。"
   ]
  },
  {
   "cell_type": "code",
   "execution_count": 27,
   "id": "67aeaf48-ce6b-4f9f-aa77-f8c27e7c35ed",
   "metadata": {},
   "outputs": [
    {
     "name": "stdout",
     "output_type": "stream",
     "text": [
      "                   Total\n",
      "Emp          Pono       \n",
      "Jeff Russell 2608     35\n",
      "             2617     35\n",
      "             2620    139\n",
      "Jane Boorman 2621     95\n",
      "             2626    218\n"
     ]
    }
   ],
   "source": [
    "import pandas as pd\n",
    "df = pd.json_normalize(data, 'POs', 'Emp').set_index(['Emp', 'Pono'])\n",
    "print(df)"
   ]
  },
  {
   "cell_type": "markdown",
   "id": "266376cf-8e97-4497-ad10-84e711593375",
   "metadata": {},
   "source": [
    "pd.json_normalize()是Pandas库中的一个函数，用于将嵌套的JSON数据转换为扁平化的表格形式。\n",
    "\n",
    "具体来说，pd.json_normalize()函数接受一个包含嵌套JSON数据的列表作为输入，并将其转换为一个或多个DataFrame对象。它通过递归地遍历嵌套的JSON结构，并将每个嵌套的键值对展开为新的行和列来实现这一目标。\n",
    "\n",
    "该函数的主要参数包括：\n",
    "\n",
    "1. records：包含嵌套JSON数据的列表。\n",
    "2. meta：可选参数，用于指定元数据字段的名称。默认情况下，它将使用\"metadata\"作为元数据字段的名称。\n",
    "3. record_path：可选参数，用于指定记录路径，即JSON中表示单个记录的路径。默认情况下，它将使用列表的第一个元素作为记录路径。\n",
    "4. fields：可选参数，用于指定要展开的字段列表。默认情况下，它将展开所有字段。\n",
    "5. errors：可选参数，用于指定如何处理解析错误。默认情况下，它将引发异常。"
   ]
  },
  {
   "cell_type": "markdown",
   "id": "d9373205-6218-47b8-9b54-97737de619cb",
   "metadata": {},
   "source": [
    "## 使用pandas-datareader库将在线数据加载到数据框中"
   ]
  },
  {
   "cell_type": "markdown",
   "id": "2fe37df0-d6be-4478-b967-4edb34c9c811",
   "metadata": {},
   "source": [
    "可以使用Python的dir()函数来输出方法的列表："
   ]
  },
  {
   "cell_type": "code",
   "execution_count": 28,
   "id": "38f7a44f-2511-419c-a4f5-c5bf5ac75170",
   "metadata": {},
   "outputs": [
    {
     "name": "stdout",
     "output_type": "stream",
     "text": [
      "['AVForexReader', 'AVQuotesReader', 'AVSectorPerformanceReader', 'AVTimeSeriesReader', 'BankOfCanadaReader', 'DEP_ERROR_MSG', 'DataReader', 'EcondbReader', 'EnigmaReader', 'EurostatReader', 'FamaFrenchReader', 'FredReader', 'IEXDailyReader', 'IEXDeep', 'IEXLasts', 'IEXTops', 'ImmediateDeprecationError', 'MoexReader', 'NaverDailyReader', 'OECDReader', 'Options', 'QuandlReader', 'StooqDailyReader', 'TiingoDailyReader', 'TiingoIEXHistoricalReader', 'TiingoQuoteReader', 'YahooActionReader', 'YahooDailyReader', 'YahooDivReader', 'YahooOptions', 'YahooQuotesReader', '__all__', '__builtins__', '__cached__', '__doc__', '__file__', '__loader__', '__name__', '__package__', '__spec__', 'deprecate_kwarg', 'get_components_yahoo', 'get_dailysummary_iex', 'get_data_alphavantage', 'get_data_enigma', 'get_data_famafrench', 'get_data_fred', 'get_data_moex', 'get_data_quandl', 'get_data_stooq', 'get_data_tiingo', 'get_data_yahoo', 'get_data_yahoo_actions', 'get_exchange_rate_av', 'get_iex_book', 'get_iex_data_tiingo', 'get_iex_symbols', 'get_last_iex', 'get_markets_iex', 'get_nasdaq_symbols', 'get_quote_av', 'get_quote_yahoo', 'get_quotes_tiingo', 'get_recent_iex', 'get_records_iex', 'get_sector_performance_av', 'get_summary_iex', 'get_tops_iex', 'warnings']\n"
     ]
    }
   ],
   "source": [
    "import pandas_datareader.data as pdr\n",
    "print(dir(pdr))"
   ]
  },
  {
   "cell_type": "markdown",
   "id": "33d71f34-8661-46f7-9009-ae382fef156c",
   "metadata": {},
   "source": [
    "使用 get_data_stooq()方法来从Stooq网站获取数据。"
   ]
  },
  {
   "cell_type": "code",
   "execution_count": 30,
   "id": "c19615ec-00a2-4454-87bf-84c7b78dbd32",
   "metadata": {},
   "outputs": [
    {
     "name": "stdout",
     "output_type": "stream",
     "text": [
      "                Open      High       Low     Close        Volume\n",
      "Date                                                            \n",
      "2020-12-31  132.4860  133.1340  130.1530  131.1200  1.003064e+08\n",
      "2020-12-30  133.9320  134.3800  131.8180  132.1370  9.760997e+07\n",
      "2020-12-29  136.4140  137.1420  132.7450  133.2640  1.225004e+08\n",
      "2020-12-28  132.3960  135.7260  131.9270  135.0780  1.259806e+08\n",
      "2020-12-24  129.7540  131.8780  129.5350  130.4030  5.558946e+07\n",
      "...              ...       ...       ...       ...           ...\n",
      "2020-01-08   72.7810   74.5626   72.7790   74.2575  1.351095e+08\n",
      "2020-01-07   73.4350   73.6972   72.8607   73.0831  1.138238e+08\n",
      "2020-01-06   71.9515   73.4649   71.7023   73.4250  1.210384e+08\n",
      "2020-01-03   72.7790   73.6185   72.6185   72.8488  1.495753e+08\n",
      "2020-01-02   72.5537   73.6225   72.2955   73.5616  1.384613e+08\n",
      "\n",
      "[253 rows x 5 columns]\n"
     ]
    }
   ],
   "source": [
    "import pandas_datareader as pdr\n",
    "\n",
    "# 设置起始和结束日期\n",
    "start_date = '2020-01-01'\n",
    "end_date = '2020-12-31'\n",
    "\n",
    "# 使用get_data_stooq()方法获取数据\n",
    "data = pdr.get_data_stooq('AAPL', start=start_date, end=end_date)\n",
    "\n",
    "# 打印数据\n",
    "print(data)"
   ]
  }
 ],
 "metadata": {
  "kernelspec": {
   "display_name": "Python 3 (ipykernel)",
   "language": "python",
   "name": "python3"
  },
  "language_info": {
   "codemirror_mode": {
    "name": "ipython",
    "version": 3
   },
   "file_extension": ".py",
   "mimetype": "text/x-python",
   "name": "python",
   "nbconvert_exporter": "python",
   "pygments_lexer": "ipython3",
   "version": "3.10.11"
  }
 },
 "nbformat": 4,
 "nbformat_minor": 5
}
