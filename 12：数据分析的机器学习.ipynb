{
 "cells": [
  {
   "cell_type": "markdown",
   "id": "811cd20b-4797-47a4-887d-42dbc8a0bca2",
   "metadata": {},
   "source": [
    "# 为什么选择机器学习"
   ]
  },
  {
   "cell_type": "markdown",
   "id": "f136974f-1004-4702-97e3-05604077bbad",
   "metadata": {},
   "source": [
    "机器学习是计算机科学更广泛领域中人工智能的一个子集，它使用特定的算法和计算能力从大量数据中提取有用的信息或模式。更具体地说，机器学习让计算机系统能够从历史经验中学习并获取规律或模型，进而将这些模型应用到新的类似场景中。\r\n",
    "\r\n",
    "选择机器学习的原因有很多：\r\n",
    "\r\n",
    "1. **适应性**：与传统的编程方法不同，机器学习可以使计算机系统自动适应新的数据和环境。\r\n",
    "2. **高效性**：通过自动化数据分析和决策过程，机器学习可以大大提高处理大量数据的效率。\r\n",
    "3. **多领域的应用**：机器学习被广泛应用于金融风控、量化分析、推荐系统、广告预测等领域，因为它可以提供较好的可解释性。\r\n",
    "4. **技术的发展**：随着算力和新算法的快速发展，机器学习逐渐成为实现人工智能（AI）的关键方法之一。\r\n",
    "5. **跨学科的特点**：机器学习是一门多领域交叉学科，涉及到概率统计、函数逼近论、最优化理论等多个学科。"
   ]
  },
  {
   "cell_type": "markdown",
   "id": "3c5a7f84-ca38-4a53-8928-b44dee43998e",
   "metadata": {},
   "source": [
    "# 机器学习类型"
   ]
  },
  {
   "cell_type": "markdown",
   "id": "58947a3f-fce8-479a-a0d8-9b5a373e63fc",
   "metadata": {},
   "source": [
    "**有监督学习**"
   ]
  },
  {
   "cell_type": "markdown",
   "id": "221cc651-a476-4210-863a-af1529226a69",
   "metadata": {},
   "source": [
    "有监督学习是机器学习的一种类型，其中模型通过使用标记的训练数据来学习。在有监督学习中，每个训练样本都有一个相关的标签或输出值。模型的目标是学习输入和输出之间的映射关系，以便在给定新的、未标记的输入时，能够预测出相应的输出。\r\n",
    "\r\n",
    "有监督学习的主要任务包括：\r\n",
    "\r\n",
    "1. 分类（Classification）：将输入分为两个或多个类别。例如，手写数字识别（将手写数字图像分为0到9的类别）就是一个典型的分类问题。\r\n",
    "\r\n",
    "2. 回归（Regression）：预测一个连续的输出值。例如，根据房屋的特征（如面积、卧室数量等）预测房价就是一个回归问题。\r\n",
    "\r\n",
    "有监督学习的训练过程通常包括以下步骤：\r\n",
    "\r\n",
    "1. 收集和准备数据集：从现实世界中收集带有标签的训练数据，并将其划分为特征（输入）和标签（输出）。\r\n",
    "\r\n",
    "2. 选择模型：根据问题的性质（如分类或回归）选择合适的机器学习算法。\r\n",
    "\r\n",
    "3. 训练模型：使用训练数据集来调整模型的参数，使其能够更好地拟合数据。这个过程通常涉及到优化算法（如梯度下降法）来最小化模型预测与实际标签之间的误差。\r\n",
    "\r\n",
    "4. 评估模型：使用验证数据集或测试数据集来评估模型的性能。这可以通过计算准确率、召回率、F1分数等指标来实现。\r\n",
    "\r\n",
    "5. 应用模型：将训练好的模型应用于新的、未标记的数据，以进行预测或分类。"
   ]
  },
  {
   "cell_type": "markdown",
   "id": "7941d293-b106-49b0-a2aa-d706426487e9",
   "metadata": {},
   "source": [
    "**无监督学习**"
   ]
  },
  {
   "cell_type": "markdown",
   "id": "25530a4b-9146-4f12-aabd-c9029eeb064b",
   "metadata": {},
   "source": [
    "无监督学习是机器学习的一种方法，它使用未标记的数据进行训练，目标是发现数据中的隐藏模式和结构。这种方法通常用于聚类和降维。\r\n",
    "\r\n",
    "在无监督学习中，常见的应用场景包括：\r\n",
    "\r\n",
    "1. 聚类（Clustering）：将输入划分为若干个类别，使得同一类别内的样本相似度较高，而不同类别的样本相似度较低。例如，根据用户购买商品的特征将其划分为不同的群体。\r\n",
    "\r\n",
    "2. 降维（Dimensionality Reduction）：减少数据的维度，同时保留尽可能多的信息。例如，使用主成分分析（PCA）方法对高维数据进行降维处理。\r\n",
    "\r\n",
    "无监督学习的主要算法包括：\r\n",
    "\r\n",
    "1. 聚类算法：如K-means、层次聚类等，用于将数据集划分为多个组或“簇”，每个组内的数据点彼此相似，而不同组之间的数据点则有所不同。\r\n",
    "\r\n",
    "2. 降维算法：如主成分分析（PCA）、自编码器等，用于减少数据的维数，同时保留最重要的信息。这有助于提高数据处理速度和效率，以及降低存储需求。"
   ]
  },
  {
   "cell_type": "markdown",
   "id": "cd8194d8-a623-432e-aeb2-29882d239cdd",
   "metadata": {},
   "source": [
    "# 一个模型"
   ]
  },
  {
   "cell_type": "code",
   "execution_count": 1,
   "id": "85976b18-ca25-4495-8fb6-d34ea2d56c96",
   "metadata": {},
   "outputs": [
    {
     "name": "stdout",
     "output_type": "stream",
     "text": [
      "均方误差： 0.01106104422095266\n"
     ]
    }
   ],
   "source": [
    "import numpy as np\n",
    "from sklearn.model_selection import train_test_split\n",
    "from sklearn.linear_model import LinearRegression\n",
    "from sklearn.metrics import mean_squared_error\n",
    "\n",
    "# 生成模拟数据\n",
    "X = np.random.rand(100, 1)\n",
    "y = 2 * X + 1 + 0.1 * np.random.randn(100, 1)\n",
    "\n",
    "# 划分训练集和测试集\n",
    "X_train, X_test, y_train, y_test = train_test_split(X, y, test_size=0.2, random_state=42)\n",
    "\n",
    "# 创建线性回归模型\n",
    "model = LinearRegression()\n",
    "\n",
    "# 训练模型\n",
    "model.fit(X_train, y_train)\n",
    "\n",
    "# 预测\n",
    "y_pred = model.predict(X_test)\n",
    "\n",
    "# 评估模型\n",
    "mse = mean_squared_error(y_test, y_pred)\n",
    "print(\"均方误差：\", mse)"
   ]
  }
 ],
 "metadata": {
  "kernelspec": {
   "display_name": "Python 3 (ipykernel)",
   "language": "python",
   "name": "python3"
  },
  "language_info": {
   "codemirror_mode": {
    "name": "ipython",
    "version": 3
   },
   "file_extension": ".py",
   "mimetype": "text/x-python",
   "name": "python",
   "nbconvert_exporter": "python",
   "pygments_lexer": "ipython3",
   "version": "3.10.11"
  }
 },
 "nbformat": 4,
 "nbformat_minor": 5
}
