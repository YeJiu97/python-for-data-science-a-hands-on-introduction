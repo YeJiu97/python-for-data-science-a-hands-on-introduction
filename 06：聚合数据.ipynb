{
 "cells": [
  {
   "cell_type": "markdown",
   "id": "594fe251-0cb8-4c85-8e6e-390328a1a400",
   "metadata": {},
   "source": [
    "# 要聚合的数据"
   ]
  },
  {
   "cell_type": "markdown",
   "id": "50400676-c06d-4871-82b2-c86a69da4c89",
   "metadata": {},
   "source": [
    "我们首先创建一个数据框："
   ]
  },
  {
   "cell_type": "code",
   "execution_count": 187,
   "id": "81c01016-8f2a-41f6-98bd-51303c46d953",
   "metadata": {},
   "outputs": [],
   "source": [
    "orders = [\n",
    "    (9423517, '2022-02-04', 9001),\n",
    "    (4626232, '2022-02-04', 9003),\n",
    "    (9423534, '2022-02-04', 9001),\n",
    "    (9423679, '2022-02-05', 9002),\n",
    "    (4626377, '2022-02-05', 9003),\n",
    "    (4626412, '2022-02-05', 9004),\n",
    "    (9423783, '2022-02-06', 9002),\n",
    "    (4626490, '2022-02-06', 9004)\n",
    "]"
   ]
  },
  {
   "cell_type": "markdown",
   "id": "3c739c97-8b40-4239-931d-251a016f8bd6",
   "metadata": {},
   "source": [
    "导入pandas库，并且将列表转换为数据框："
   ]
  },
  {
   "cell_type": "code",
   "execution_count": 188,
   "id": "844c2c00-b553-430f-8d20-ced87a1a4f1a",
   "metadata": {},
   "outputs": [],
   "source": [
    "import pandas as pd\n",
    "df_orders = pd.DataFrame(orders, columns = ['OrderNo', 'Date', 'Empno'])"
   ]
  },
  {
   "cell_type": "markdown",
   "id": "13b97fb9-b8a8-4452-a18c-29be2c1405a6",
   "metadata": {},
   "source": [
    "订单详细信息可以存储在另一个数据容器中。"
   ]
  },
  {
   "cell_type": "code",
   "execution_count": null,
   "id": "fc1ab8ac-75c9-4050-b064-e688f96146ef",
   "metadata": {},
   "outputs": [],
   "source": []
  },
  {
   "cell_type": "code",
   "execution_count": 189,
   "id": "6b107952-761a-4701-950f-7ee73d571e5d",
   "metadata": {},
   "outputs": [],
   "source": [
    "details = [\n",
    "    (9423517, 'Jeans', 'Rip Curl', 87.0, 1),\n",
    "    (9423517, 'Jacknet', 'The North Face', 112.0, 1),\n",
    "    (4626232, 'Socks', 'Vans', 15.0, 1),\n",
    "    (4626232, 'Jeans', 'Quiksilver', 82.0, 1),\n",
    "    (9423534, 'Socks', 'Dc', 10.0, 2),\n",
    "    (9423534, 'Socks', 'Quiksilver', 12.0, 2),\n",
    "    (9423679, 'T-shirt', 'Patagonia', 35.0, 1),\n",
    "    (4626377, 'Hoody', 'Animal', 44.0, 1),\n",
    "    (4626377, 'Cargo Shorts','Animal', 38.0, 1),\n",
    "    (4626412, 'Shirt', 'Volcom', 78.0, 1),\n",
    "    (9423783, 'Boxer Shorts', 'Superdry', 30.0, 2),\n",
    "    (9423783, 'Shorts', 'Globe', 26.0, 1),\n",
    "    (4626490, 'Cargo Shorts', 'Billabong', 54.0, 1),\n",
    "    (4626490, 'Sweater', 'Dickies', 56.0, 1)\n",
    "]\n",
    "\n",
    "# converting the list into a DataFrame\n",
    "df_details = pd.DataFrame(details, columns = ['OrderNo', 'Item', 'Brand', 'Price', 'Quantity'])"
   ]
  },
  {
   "cell_type": "markdown",
   "id": "159adc9f-580e-4f10-aeab-b1b0719c7711",
   "metadata": {},
   "source": [
    "从另外一个名为emps的元组列表创建第3个数据框，存储有关公司员工的信息，其中包含员工编号，姓名和位置："
   ]
  },
  {
   "cell_type": "code",
   "execution_count": 190,
   "id": "7bbbfb07-f984-410d-b216-44fa68d004cb",
   "metadata": {},
   "outputs": [],
   "source": [
    "emps = [\n",
    "    (9001, 'Jeff Russell', 'LA'),\n",
    "    (9002, 'Jane Boorman', 'San Francisco'),\n",
    "    (9003, 'Tom Heints', 'NYC'),\n",
    "    (9004, 'Maya Silver', 'Philadelphia')\n",
    "]\n",
    "\n",
    "df_emps = pd.DataFrame(emps, columns = ['Empno', 'Empname', 'Location'])"
   ]
  },
  {
   "cell_type": "markdown",
   "id": "8f9a0c0b-0d66-43fd-b560-48fe4bd0c68d",
   "metadata": {},
   "source": [
    "最后，在一个名为locations的元组列表中列出每个仓库所在的城市和地区："
   ]
  },
  {
   "cell_type": "code",
   "execution_count": 191,
   "id": "54a2c804-02a0-489d-ad0c-c76e5fb217cd",
   "metadata": {},
   "outputs": [],
   "source": [
    "locations = [\n",
    "    ('LA', 'West'),\n",
    "    ('San Francisco', 'West'),\n",
    "    ('NYC', 'East'),\n",
    "    ('Philadelphia', 'East')\n",
    "]\n",
    "\n",
    "df_locations = pd.DataFrame(locations, columns = ['Location', 'Region'])"
   ]
  },
  {
   "cell_type": "markdown",
   "id": "4a8902ae-9b2d-4d47-b498-536e26c1f810",
   "metadata": {},
   "source": [
    "# 合并数据框"
   ]
  },
  {
   "cell_type": "markdown",
   "id": "cf16fa70-96e9-432b-b067-88bd0d7d420c",
   "metadata": {},
   "source": [
    "通常来讲，我们需要从不同的容器中收集数据，然后聚合数据。"
   ]
  },
  {
   "cell_type": "code",
   "execution_count": 192,
   "id": "129bb4c7-74dc-4075-a5ca-5750bfc834ff",
   "metadata": {},
   "outputs": [],
   "source": [
    "df_sales = df_orders.merge(df_details)"
   ]
  },
  {
   "cell_type": "code",
   "execution_count": 193,
   "id": "77eab91c-f16b-442b-812d-323aff9cd084",
   "metadata": {},
   "outputs": [
    {
     "name": "stdout",
     "output_type": "stream",
     "text": [
      "    OrderNo        Date  Empno          Item           Brand  Price  Quantity\n",
      "0   9423517  2022-02-04   9001         Jeans        Rip Curl   87.0         1\n",
      "1   9423517  2022-02-04   9001       Jacknet  The North Face  112.0         1\n",
      "2   4626232  2022-02-04   9003         Socks            Vans   15.0         1\n",
      "3   4626232  2022-02-04   9003         Jeans      Quiksilver   82.0         1\n",
      "4   9423534  2022-02-04   9001         Socks              Dc   10.0         2\n",
      "5   9423534  2022-02-04   9001         Socks      Quiksilver   12.0         2\n",
      "6   9423679  2022-02-05   9002       T-shirt       Patagonia   35.0         1\n",
      "7   4626377  2022-02-05   9003         Hoody          Animal   44.0         1\n",
      "8   4626377  2022-02-05   9003  Cargo Shorts          Animal   38.0         1\n",
      "9   4626412  2022-02-05   9004         Shirt          Volcom   78.0         1\n",
      "10  9423783  2022-02-06   9002  Boxer Shorts        Superdry   30.0         2\n",
      "11  9423783  2022-02-06   9002        Shorts           Globe   26.0         1\n",
      "12  4626490  2022-02-06   9004  Cargo Shorts       Billabong   54.0         1\n",
      "13  4626490  2022-02-06   9004       Sweater         Dickies   56.0         1\n"
     ]
    }
   ],
   "source": [
    "print(df_sales)"
   ]
  },
  {
   "cell_type": "markdown",
   "id": "fe7d8cee-0691-41be-aa83-b2b0f801d406",
   "metadata": {},
   "source": [
    "从Quantity列可以看到，单笔订单中的商品销售量可能大于1。因此，需要将价格和销售量相乘以计算每笔订单的销售额。将价格和销售量相乘的结果存储在数据框的新字段Total中："
   ]
  },
  {
   "cell_type": "code",
   "execution_count": 194,
   "id": "c1afadeb-4dd6-41df-bfff-d098a408b04a",
   "metadata": {},
   "outputs": [],
   "source": [
    "df_sales['Total'] = df_sales['Price'] * df_sales['Quantity']"
   ]
  },
  {
   "cell_type": "markdown",
   "id": "cb796c2f-ebbe-464c-9f3f-6c8d7052ec20",
   "metadata": {},
   "source": [
    "这将为数据框添加Total列，现在，删除按地区和日期计算销售额时不需要的列。也就是说，在此阶段，只需要保留Date列，Total列和Empno列。"
   ]
  },
  {
   "cell_type": "markdown",
   "id": "fcb5e474-e911-4a17-a9f7-b61946e5bdd2",
   "metadata": {},
   "source": [
    "将列名列表传递给数据框，使用操作符[]可以保留仅需的数据框："
   ]
  },
  {
   "cell_type": "code",
   "execution_count": 195,
   "id": "e967988e-c362-43ad-bd94-a25898aaf639",
   "metadata": {},
   "outputs": [],
   "source": [
    "df_sales = df_sales[['Date', 'Empno','Total']]"
   ]
  },
  {
   "cell_type": "code",
   "execution_count": 196,
   "id": "218d097f-995e-4550-a176-81b8d8d4fe4d",
   "metadata": {},
   "outputs": [
    {
     "name": "stdout",
     "output_type": "stream",
     "text": [
      "          Date  Empno  Total\n",
      "0   2022-02-04   9001   87.0\n",
      "1   2022-02-04   9001  112.0\n",
      "2   2022-02-04   9003   15.0\n",
      "3   2022-02-04   9003   82.0\n",
      "4   2022-02-04   9001   20.0\n",
      "5   2022-02-04   9001   24.0\n",
      "6   2022-02-05   9002   35.0\n",
      "7   2022-02-05   9003   44.0\n",
      "8   2022-02-05   9003   38.0\n",
      "9   2022-02-05   9004   78.0\n",
      "10  2022-02-06   9002   60.0\n",
      "11  2022-02-06   9002   26.0\n",
      "12  2022-02-06   9004   54.0\n",
      "13  2022-02-06   9004   56.0\n"
     ]
    }
   ],
   "source": [
    "print(df_sales)"
   ]
  },
  {
   "cell_type": "code",
   "execution_count": 197,
   "id": "563df2f0-1e8c-4a29-89d4-75ba4aceaab7",
   "metadata": {},
   "outputs": [],
   "source": [
    "df_sales_emps = df_sales.merge(df_emps)\n",
    "df_result = df_sales_emps.merge(df_locations)"
   ]
  },
  {
   "cell_type": "code",
   "execution_count": 198,
   "id": "6dc29fd4-63b6-45a1-a0e2-94b3398d40dd",
   "metadata": {},
   "outputs": [
    {
     "name": "stdout",
     "output_type": "stream",
     "text": [
      "          Date  Empno  Total       Empname       Location\n",
      "0   2022-02-04   9001   87.0  Jeff Russell             LA\n",
      "1   2022-02-04   9001  112.0  Jeff Russell             LA\n",
      "2   2022-02-04   9001   20.0  Jeff Russell             LA\n",
      "3   2022-02-04   9001   24.0  Jeff Russell             LA\n",
      "4   2022-02-04   9003   15.0    Tom Heints            NYC\n",
      "5   2022-02-04   9003   82.0    Tom Heints            NYC\n",
      "6   2022-02-05   9003   44.0    Tom Heints            NYC\n",
      "7   2022-02-05   9003   38.0    Tom Heints            NYC\n",
      "8   2022-02-05   9002   35.0  Jane Boorman  San Francisco\n",
      "9   2022-02-06   9002   60.0  Jane Boorman  San Francisco\n",
      "10  2022-02-06   9002   26.0  Jane Boorman  San Francisco\n",
      "11  2022-02-05   9004   78.0   Maya Silver   Philadelphia\n",
      "12  2022-02-06   9004   54.0   Maya Silver   Philadelphia\n",
      "13  2022-02-06   9004   56.0   Maya Silver   Philadelphia\n"
     ]
    }
   ],
   "source": [
    "print(df_sales_emps)"
   ]
  },
  {
   "cell_type": "code",
   "execution_count": 199,
   "id": "9b570553-b1a2-4dcd-9a91-1e83ef95b38f",
   "metadata": {},
   "outputs": [
    {
     "name": "stdout",
     "output_type": "stream",
     "text": [
      "          Date  Empno  Total       Empname       Location Region\n",
      "0   2022-02-04   9001   87.0  Jeff Russell             LA   West\n",
      "1   2022-02-04   9001  112.0  Jeff Russell             LA   West\n",
      "2   2022-02-04   9001   20.0  Jeff Russell             LA   West\n",
      "3   2022-02-04   9001   24.0  Jeff Russell             LA   West\n",
      "4   2022-02-04   9003   15.0    Tom Heints            NYC   East\n",
      "5   2022-02-04   9003   82.0    Tom Heints            NYC   East\n",
      "6   2022-02-05   9003   44.0    Tom Heints            NYC   East\n",
      "7   2022-02-05   9003   38.0    Tom Heints            NYC   East\n",
      "8   2022-02-05   9002   35.0  Jane Boorman  San Francisco   West\n",
      "9   2022-02-06   9002   60.0  Jane Boorman  San Francisco   West\n",
      "10  2022-02-06   9002   26.0  Jane Boorman  San Francisco   West\n",
      "11  2022-02-05   9004   78.0   Maya Silver   Philadelphia   East\n",
      "12  2022-02-06   9004   54.0   Maya Silver   Philadelphia   East\n",
      "13  2022-02-06   9004   56.0   Maya Silver   Philadelphia   East\n"
     ]
    }
   ],
   "source": [
    "print(df_result)"
   ]
  },
  {
   "cell_type": "markdown",
   "id": "00fc5521-f745-475e-bf53-fe2050d5686b",
   "metadata": {},
   "source": [
    "用户可能想要删除不需要的列，而只保留实际需要的列："
   ]
  },
  {
   "cell_type": "code",
   "execution_count": 200,
   "id": "ad564f02-9e50-432a-9a26-11c8854e2fd1",
   "metadata": {},
   "outputs": [],
   "source": [
    "df_result = df_result[['Date', 'Region', 'Total']]"
   ]
  },
  {
   "cell_type": "code",
   "execution_count": 201,
   "id": "acd5f854-8383-485b-bfd0-e4dc0f22dc31",
   "metadata": {},
   "outputs": [
    {
     "data": {
      "text/html": [
       "<div>\n",
       "<style scoped>\n",
       "    .dataframe tbody tr th:only-of-type {\n",
       "        vertical-align: middle;\n",
       "    }\n",
       "\n",
       "    .dataframe tbody tr th {\n",
       "        vertical-align: top;\n",
       "    }\n",
       "\n",
       "    .dataframe thead th {\n",
       "        text-align: right;\n",
       "    }\n",
       "</style>\n",
       "<table border=\"1\" class=\"dataframe\">\n",
       "  <thead>\n",
       "    <tr style=\"text-align: right;\">\n",
       "      <th></th>\n",
       "      <th>Date</th>\n",
       "      <th>Region</th>\n",
       "      <th>Total</th>\n",
       "    </tr>\n",
       "  </thead>\n",
       "  <tbody>\n",
       "    <tr>\n",
       "      <th>0</th>\n",
       "      <td>2022-02-04</td>\n",
       "      <td>West</td>\n",
       "      <td>87.0</td>\n",
       "    </tr>\n",
       "    <tr>\n",
       "      <th>1</th>\n",
       "      <td>2022-02-04</td>\n",
       "      <td>West</td>\n",
       "      <td>112.0</td>\n",
       "    </tr>\n",
       "    <tr>\n",
       "      <th>2</th>\n",
       "      <td>2022-02-04</td>\n",
       "      <td>West</td>\n",
       "      <td>20.0</td>\n",
       "    </tr>\n",
       "    <tr>\n",
       "      <th>3</th>\n",
       "      <td>2022-02-04</td>\n",
       "      <td>West</td>\n",
       "      <td>24.0</td>\n",
       "    </tr>\n",
       "    <tr>\n",
       "      <th>4</th>\n",
       "      <td>2022-02-04</td>\n",
       "      <td>East</td>\n",
       "      <td>15.0</td>\n",
       "    </tr>\n",
       "    <tr>\n",
       "      <th>5</th>\n",
       "      <td>2022-02-04</td>\n",
       "      <td>East</td>\n",
       "      <td>82.0</td>\n",
       "    </tr>\n",
       "    <tr>\n",
       "      <th>6</th>\n",
       "      <td>2022-02-05</td>\n",
       "      <td>East</td>\n",
       "      <td>44.0</td>\n",
       "    </tr>\n",
       "    <tr>\n",
       "      <th>7</th>\n",
       "      <td>2022-02-05</td>\n",
       "      <td>East</td>\n",
       "      <td>38.0</td>\n",
       "    </tr>\n",
       "    <tr>\n",
       "      <th>8</th>\n",
       "      <td>2022-02-05</td>\n",
       "      <td>West</td>\n",
       "      <td>35.0</td>\n",
       "    </tr>\n",
       "    <tr>\n",
       "      <th>9</th>\n",
       "      <td>2022-02-06</td>\n",
       "      <td>West</td>\n",
       "      <td>60.0</td>\n",
       "    </tr>\n",
       "    <tr>\n",
       "      <th>10</th>\n",
       "      <td>2022-02-06</td>\n",
       "      <td>West</td>\n",
       "      <td>26.0</td>\n",
       "    </tr>\n",
       "    <tr>\n",
       "      <th>11</th>\n",
       "      <td>2022-02-05</td>\n",
       "      <td>East</td>\n",
       "      <td>78.0</td>\n",
       "    </tr>\n",
       "    <tr>\n",
       "      <th>12</th>\n",
       "      <td>2022-02-06</td>\n",
       "      <td>East</td>\n",
       "      <td>54.0</td>\n",
       "    </tr>\n",
       "    <tr>\n",
       "      <th>13</th>\n",
       "      <td>2022-02-06</td>\n",
       "      <td>East</td>\n",
       "      <td>56.0</td>\n",
       "    </tr>\n",
       "  </tbody>\n",
       "</table>\n",
       "</div>"
      ],
      "text/plain": [
       "          Date Region  Total\n",
       "0   2022-02-04   West   87.0\n",
       "1   2022-02-04   West  112.0\n",
       "2   2022-02-04   West   20.0\n",
       "3   2022-02-04   West   24.0\n",
       "4   2022-02-04   East   15.0\n",
       "5   2022-02-04   East   82.0\n",
       "6   2022-02-05   East   44.0\n",
       "7   2022-02-05   East   38.0\n",
       "8   2022-02-05   West   35.0\n",
       "9   2022-02-06   West   60.0\n",
       "10  2022-02-06   West   26.0\n",
       "11  2022-02-05   East   78.0\n",
       "12  2022-02-06   East   54.0\n",
       "13  2022-02-06   East   56.0"
      ]
     },
     "execution_count": 201,
     "metadata": {},
     "output_type": "execute_result"
    }
   ],
   "source": [
    "df_result"
   ]
  },
  {
   "cell_type": "markdown",
   "id": "dd979fe6-1cbb-4fc7-a4d5-264c7c96db58",
   "metadata": {},
   "source": [
    "# 分组和聚合数据"
   ]
  },
  {
   "cell_type": "markdown",
   "id": "d2220673-ff6b-48b2-9f44-76009d56fe5f",
   "metadata": {},
   "source": [
    "要对数据执行聚合计算，可以使用pandas的grouby()函数。"
   ]
  },
  {
   "cell_type": "code",
   "execution_count": 202,
   "id": "aa8a6336-5d07-4b91-931b-50cf7a953341",
   "metadata": {},
   "outputs": [],
   "source": [
    "df_data_region = df_result.groupby(['Date', 'Region']).sum()"
   ]
  },
  {
   "cell_type": "markdown",
   "id": "5c957a61-28aa-44a9-af3c-b9beb2d1b96d",
   "metadata": {},
   "source": [
    "这段代码是使用Python的pandas库对数据进行分组和求和操作。具体解释如下：\r\n",
    "\r\n",
    "1. `df_result`是一个pandas DataFrame对象，它包含了需要进行分组和求和的数据。\r\n",
    "2. `groupby(['Date', 'Region'])`表示按照'Date'和'Region'两列进行分组。这意味着相同的'Date'和'Region'值将被视为同一组。\r\n",
    "3. `sum()`函数用于对每个分组中的数据进行求和操作。默认情况下，它会对所有数值类型的列进行求和。如果某个分组中没有数值类型的列，那么该分组的结果将为NaN。\r\n",
    "4. 最后，`df_data_region`将包含按'Date'和'Region'分组后的求和结果。"
   ]
  },
  {
   "cell_type": "code",
   "execution_count": 203,
   "id": "33690478-b1cf-4a39-ab52-8aea2ed9cc6b",
   "metadata": {},
   "outputs": [
    {
     "data": {
      "text/html": [
       "<div>\n",
       "<style scoped>\n",
       "    .dataframe tbody tr th:only-of-type {\n",
       "        vertical-align: middle;\n",
       "    }\n",
       "\n",
       "    .dataframe tbody tr th {\n",
       "        vertical-align: top;\n",
       "    }\n",
       "\n",
       "    .dataframe thead th {\n",
       "        text-align: right;\n",
       "    }\n",
       "</style>\n",
       "<table border=\"1\" class=\"dataframe\">\n",
       "  <thead>\n",
       "    <tr style=\"text-align: right;\">\n",
       "      <th></th>\n",
       "      <th></th>\n",
       "      <th>Total</th>\n",
       "    </tr>\n",
       "    <tr>\n",
       "      <th>Date</th>\n",
       "      <th>Region</th>\n",
       "      <th></th>\n",
       "    </tr>\n",
       "  </thead>\n",
       "  <tbody>\n",
       "    <tr>\n",
       "      <th rowspan=\"2\" valign=\"top\">2022-02-04</th>\n",
       "      <th>East</th>\n",
       "      <td>97.0</td>\n",
       "    </tr>\n",
       "    <tr>\n",
       "      <th>West</th>\n",
       "      <td>243.0</td>\n",
       "    </tr>\n",
       "    <tr>\n",
       "      <th rowspan=\"2\" valign=\"top\">2022-02-05</th>\n",
       "      <th>East</th>\n",
       "      <td>160.0</td>\n",
       "    </tr>\n",
       "    <tr>\n",
       "      <th>West</th>\n",
       "      <td>35.0</td>\n",
       "    </tr>\n",
       "    <tr>\n",
       "      <th rowspan=\"2\" valign=\"top\">2022-02-06</th>\n",
       "      <th>East</th>\n",
       "      <td>110.0</td>\n",
       "    </tr>\n",
       "    <tr>\n",
       "      <th>West</th>\n",
       "      <td>86.0</td>\n",
       "    </tr>\n",
       "  </tbody>\n",
       "</table>\n",
       "</div>"
      ],
      "text/plain": [
       "                   Total\n",
       "Date       Region       \n",
       "2022-02-04 East     97.0\n",
       "           West    243.0\n",
       "2022-02-05 East    160.0\n",
       "           West     35.0\n",
       "2022-02-06 East    110.0\n",
       "           West     86.0"
      ]
     },
     "execution_count": 203,
     "metadata": {},
     "output_type": "execute_result"
    }
   ],
   "source": [
    "df_data_region"
   ]
  },
  {
   "cell_type": "markdown",
   "id": "32d31c9e-5d16-41b6-98e3-587b84342066",
   "metadata": {},
   "source": [
    "Date列和Region列都是新数据框的索引列。"
   ]
  },
  {
   "cell_type": "code",
   "execution_count": 204,
   "id": "fbe81c6a-b82a-499d-88ca-dcca3b09c99d",
   "metadata": {},
   "outputs": [
    {
     "name": "stdout",
     "output_type": "stream",
     "text": [
      "MultiIndex([('2022-02-04', 'East'),\n",
      "            ('2022-02-04', 'West'),\n",
      "            ('2022-02-05', 'East'),\n",
      "            ('2022-02-05', 'West'),\n",
      "            ('2022-02-06', 'East'),\n",
      "            ('2022-02-06', 'West')],\n",
      "           names=['Date', 'Region'])\n"
     ]
    }
   ],
   "source": [
    "# 查看索引\n",
    "print(df_data_region.index)"
   ]
  },
  {
   "cell_type": "markdown",
   "id": "8053e957-8a67-4de6-902b-d0beb7f91666",
   "metadata": {},
   "source": [
    "接着我们可以来尝试访问："
   ]
  },
  {
   "cell_type": "code",
   "execution_count": 205,
   "id": "6c796e64-03c7-4fd4-a5c6-408112274dbd",
   "metadata": {},
   "outputs": [
    {
     "data": {
      "text/plain": [
       "Total    97.0\n",
       "Name: (2022-02-04, East), dtype: float64"
      ]
     },
     "execution_count": 205,
     "metadata": {},
     "output_type": "execute_result"
    }
   ],
   "source": [
    "df_data_region.loc[('2022-02-04', 'East')]"
   ]
  },
  {
   "cell_type": "markdown",
   "id": "097b16d8-1006-42a1-a6f5-7502a1f316d7",
   "metadata": {},
   "source": [
    "我们还可以这么做："
   ]
  },
  {
   "cell_type": "code",
   "execution_count": 206,
   "id": "c1f2cedc-f3b5-47c4-96ca-c0cd1fc31f13",
   "metadata": {},
   "outputs": [
    {
     "data": {
      "text/html": [
       "<div>\n",
       "<style scoped>\n",
       "    .dataframe tbody tr th:only-of-type {\n",
       "        vertical-align: middle;\n",
       "    }\n",
       "\n",
       "    .dataframe tbody tr th {\n",
       "        vertical-align: top;\n",
       "    }\n",
       "\n",
       "    .dataframe thead th {\n",
       "        text-align: right;\n",
       "    }\n",
       "</style>\n",
       "<table border=\"1\" class=\"dataframe\">\n",
       "  <thead>\n",
       "    <tr style=\"text-align: right;\">\n",
       "      <th></th>\n",
       "      <th></th>\n",
       "      <th>Total</th>\n",
       "    </tr>\n",
       "    <tr>\n",
       "      <th>Date</th>\n",
       "      <th>Region</th>\n",
       "      <th></th>\n",
       "    </tr>\n",
       "  </thead>\n",
       "  <tbody>\n",
       "    <tr>\n",
       "      <th>2022-02-05</th>\n",
       "      <th>West</th>\n",
       "      <td>35.0</td>\n",
       "    </tr>\n",
       "  </tbody>\n",
       "</table>\n",
       "</div>"
      ],
      "text/plain": [
       "                   Total\n",
       "Date       Region       \n",
       "2022-02-05 West     35.0"
      ]
     },
     "execution_count": 206,
     "metadata": {},
     "output_type": "execute_result"
    }
   ],
   "source": [
    "df_data_region[df_data_region.index.isin([('2022-02-05', 'West')])]"
   ]
  },
  {
   "cell_type": "markdown",
   "id": "0ebe3b61-b908-477e-91ee-65721a35a31c",
   "metadata": {},
   "source": [
    "这段代码是使用Pandas库中的DataFrame对象进行数据筛选的操作。\r\n",
    "\r\n",
    "首先，`df_data_region`是一个DataFrame对象，它包含了一些数据。\r\n",
    "\r\n",
    "接下来，`df_data_region.index.isin([('2022-02-05', 'West')])`这部分代码的作用是判断DataFrame对象的索引是否包含在给定的列表中。这里的列表只包含一个元素：`('2022-02-05', 'West')`。\r\n",
    "\r\n",
    "最后，`df_data_region[df_data_region.index.isin([('2022-02-05', 'West')])]`这部分代码的作用是根据前面得到的布尔值（True或False）来筛选出DataFrame对象中满足条件的行。如果某个行的索引与给定的列表中的任何一个元素匹配，那么该行就会被选中；否则，该行将被忽略。\r\n",
    "\r\n",
    "综上所述，这段代码的作用是从`df_data_region`中筛选出索引为`('2022-02-05', 'West')`的行，并将结果存储在一个新的DataFrame对象中。"
   ]
  },
  {
   "cell_type": "markdown",
   "id": "6b070cb6-0043-451f-bb63-0612c1831043",
   "metadata": {},
   "source": [
    "`df_data_region.index.isin([('2022-02-05', 'West')])` 的返回结果是一个布尔值Series，表示DataFrame对象的索引是否包含在给定的列表中。\r\n"
   ]
  },
  {
   "cell_type": "code",
   "execution_count": 207,
   "id": "5304486d-6452-42ab-a8db-52dc117e5d91",
   "metadata": {},
   "outputs": [
    {
     "data": {
      "text/plain": [
       "array([False, False, False,  True, False, False])"
      ]
     },
     "execution_count": 207,
     "metadata": {},
     "output_type": "execute_result"
    }
   ],
   "source": [
    "df_data_region.index.isin([('2022-02-05', 'West')])"
   ]
  },
  {
   "cell_type": "code",
   "execution_count": 208,
   "id": "68ee7db3-06a4-4313-b4f2-d557f5e936d7",
   "metadata": {},
   "outputs": [
    {
     "data": {
      "text/html": [
       "<div>\n",
       "<style scoped>\n",
       "    .dataframe tbody tr th:only-of-type {\n",
       "        vertical-align: middle;\n",
       "    }\n",
       "\n",
       "    .dataframe tbody tr th {\n",
       "        vertical-align: top;\n",
       "    }\n",
       "\n",
       "    .dataframe thead th {\n",
       "        text-align: right;\n",
       "    }\n",
       "</style>\n",
       "<table border=\"1\" class=\"dataframe\">\n",
       "  <thead>\n",
       "    <tr style=\"text-align: right;\">\n",
       "      <th></th>\n",
       "      <th></th>\n",
       "      <th>Total</th>\n",
       "    </tr>\n",
       "    <tr>\n",
       "      <th>Date</th>\n",
       "      <th>Region</th>\n",
       "      <th></th>\n",
       "    </tr>\n",
       "  </thead>\n",
       "  <tbody>\n",
       "    <tr>\n",
       "      <th>2022-02-05</th>\n",
       "      <th>West</th>\n",
       "      <td>35.0</td>\n",
       "    </tr>\n",
       "  </tbody>\n",
       "</table>\n",
       "</div>"
      ],
      "text/plain": [
       "                   Total\n",
       "Date       Region       \n",
       "2022-02-05 West     35.0"
      ]
     },
     "execution_count": 208,
     "metadata": {},
     "output_type": "execute_result"
    }
   ],
   "source": [
    "df_data_region[([False, False, False,  True, False, False])]"
   ]
  },
  {
   "cell_type": "markdown",
   "id": "5ed6834e-ea88-4359-84d2-739645065b3b",
   "metadata": {},
   "source": [
    "可以传递多个值来进行查询："
   ]
  },
  {
   "cell_type": "code",
   "execution_count": 209,
   "id": "d07ea45d-733e-4d67-b5bb-1e1f240322c3",
   "metadata": {},
   "outputs": [
    {
     "data": {
      "text/html": [
       "<div>\n",
       "<style scoped>\n",
       "    .dataframe tbody tr th:only-of-type {\n",
       "        vertical-align: middle;\n",
       "    }\n",
       "\n",
       "    .dataframe tbody tr th {\n",
       "        vertical-align: top;\n",
       "    }\n",
       "\n",
       "    .dataframe thead th {\n",
       "        text-align: right;\n",
       "    }\n",
       "</style>\n",
       "<table border=\"1\" class=\"dataframe\">\n",
       "  <thead>\n",
       "    <tr style=\"text-align: right;\">\n",
       "      <th></th>\n",
       "      <th></th>\n",
       "      <th>Total</th>\n",
       "    </tr>\n",
       "    <tr>\n",
       "      <th>Date</th>\n",
       "      <th>Region</th>\n",
       "      <th></th>\n",
       "    </tr>\n",
       "  </thead>\n",
       "  <tbody>\n",
       "    <tr>\n",
       "      <th>2022-02-05</th>\n",
       "      <th>West</th>\n",
       "      <td>35.0</td>\n",
       "    </tr>\n",
       "    <tr>\n",
       "      <th>2022-02-06</th>\n",
       "      <th>East</th>\n",
       "      <td>110.0</td>\n",
       "    </tr>\n",
       "  </tbody>\n",
       "</table>\n",
       "</div>"
      ],
      "text/plain": [
       "                   Total\n",
       "Date       Region       \n",
       "2022-02-05 West     35.0\n",
       "2022-02-06 East    110.0"
      ]
     },
     "execution_count": 209,
     "metadata": {},
     "output_type": "execute_result"
    }
   ],
   "source": [
    "df_data_region[df_data_region.index.isin([('2022-02-05', 'West'), ('2022-02-06', 'East')])]"
   ]
  },
  {
   "cell_type": "markdown",
   "id": "8a132f24-0b9c-4881-9bfb-c790167fd5d0",
   "metadata": {},
   "source": [
    "通过切片来获得一些列的值："
   ]
  },
  {
   "cell_type": "code",
   "execution_count": 210,
   "id": "199f5273-0597-4cee-9ead-162c98493580",
   "metadata": {},
   "outputs": [
    {
     "data": {
      "text/html": [
       "<div>\n",
       "<style scoped>\n",
       "    .dataframe tbody tr th:only-of-type {\n",
       "        vertical-align: middle;\n",
       "    }\n",
       "\n",
       "    .dataframe tbody tr th {\n",
       "        vertical-align: top;\n",
       "    }\n",
       "\n",
       "    .dataframe thead th {\n",
       "        text-align: right;\n",
       "    }\n",
       "</style>\n",
       "<table border=\"1\" class=\"dataframe\">\n",
       "  <thead>\n",
       "    <tr style=\"text-align: right;\">\n",
       "      <th></th>\n",
       "      <th></th>\n",
       "      <th>Total</th>\n",
       "    </tr>\n",
       "    <tr>\n",
       "      <th>Date</th>\n",
       "      <th>Region</th>\n",
       "      <th></th>\n",
       "    </tr>\n",
       "  </thead>\n",
       "  <tbody>\n",
       "    <tr>\n",
       "      <th rowspan=\"2\" valign=\"top\">2022-02-04</th>\n",
       "      <th>East</th>\n",
       "      <td>97.0</td>\n",
       "    </tr>\n",
       "    <tr>\n",
       "      <th>West</th>\n",
       "      <td>243.0</td>\n",
       "    </tr>\n",
       "    <tr>\n",
       "      <th rowspan=\"2\" valign=\"top\">2022-02-05</th>\n",
       "      <th>East</th>\n",
       "      <td>160.0</td>\n",
       "    </tr>\n",
       "    <tr>\n",
       "      <th>West</th>\n",
       "      <td>35.0</td>\n",
       "    </tr>\n",
       "  </tbody>\n",
       "</table>\n",
       "</div>"
      ],
      "text/plain": [
       "                   Total\n",
       "Date       Region       \n",
       "2022-02-04 East     97.0\n",
       "           West    243.0\n",
       "2022-02-05 East    160.0\n",
       "           West     35.0"
      ]
     },
     "execution_count": 210,
     "metadata": {},
     "output_type": "execute_result"
    }
   ],
   "source": [
    "df_data_region[('2022-02-04', 'East'):('2022-02-05', 'West')]"
   ]
  },
  {
   "cell_type": "markdown",
   "id": "e5cde2fd-6468-4cce-8e1f-d19b77e48018",
   "metadata": {},
   "source": [
    "或者可以这么做："
   ]
  },
  {
   "cell_type": "code",
   "execution_count": 211,
   "id": "2eac845e-a694-422b-96ad-a38fe9dfbf8d",
   "metadata": {},
   "outputs": [
    {
     "data": {
      "text/html": [
       "<div>\n",
       "<style scoped>\n",
       "    .dataframe tbody tr th:only-of-type {\n",
       "        vertical-align: middle;\n",
       "    }\n",
       "\n",
       "    .dataframe tbody tr th {\n",
       "        vertical-align: top;\n",
       "    }\n",
       "\n",
       "    .dataframe thead th {\n",
       "        text-align: right;\n",
       "    }\n",
       "</style>\n",
       "<table border=\"1\" class=\"dataframe\">\n",
       "  <thead>\n",
       "    <tr style=\"text-align: right;\">\n",
       "      <th></th>\n",
       "      <th></th>\n",
       "      <th>Total</th>\n",
       "    </tr>\n",
       "    <tr>\n",
       "      <th>Date</th>\n",
       "      <th>Region</th>\n",
       "      <th></th>\n",
       "    </tr>\n",
       "  </thead>\n",
       "  <tbody>\n",
       "    <tr>\n",
       "      <th rowspan=\"2\" valign=\"top\">2022-02-04</th>\n",
       "      <th>East</th>\n",
       "      <td>97.0</td>\n",
       "    </tr>\n",
       "    <tr>\n",
       "      <th>West</th>\n",
       "      <td>243.0</td>\n",
       "    </tr>\n",
       "    <tr>\n",
       "      <th rowspan=\"2\" valign=\"top\">2022-02-05</th>\n",
       "      <th>East</th>\n",
       "      <td>160.0</td>\n",
       "    </tr>\n",
       "    <tr>\n",
       "      <th>West</th>\n",
       "      <td>35.0</td>\n",
       "    </tr>\n",
       "  </tbody>\n",
       "</table>\n",
       "</div>"
      ],
      "text/plain": [
       "                   Total\n",
       "Date       Region       \n",
       "2022-02-04 East     97.0\n",
       "           West    243.0\n",
       "2022-02-05 East    160.0\n",
       "           West     35.0"
      ]
     },
     "execution_count": 211,
     "metadata": {},
     "output_type": "execute_result"
    }
   ],
   "source": [
    "df_data_region['2022-02-04':'2022-02-05']"
   ]
  },
  {
   "cell_type": "markdown",
   "id": "a0242dc3-4c56-4f69-b556-bd60a40cb2d9",
   "metadata": {},
   "source": [
    "添加统计："
   ]
  },
  {
   "cell_type": "code",
   "execution_count": 212,
   "id": "d6ef487b-a3c7-48c6-b552-5d367aa4a83d",
   "metadata": {},
   "outputs": [],
   "source": [
    "ps = df_data_region.sum(axis=0)"
   ]
  },
  {
   "cell_type": "code",
   "execution_count": 213,
   "id": "7e377589-a424-4932-924c-fae574c18a0c",
   "metadata": {},
   "outputs": [
    {
     "data": {
      "text/plain": [
       "Total    731.0\n",
       "dtype: float64"
      ]
     },
     "execution_count": 213,
     "metadata": {},
     "output_type": "execute_result"
    }
   ],
   "source": [
    "ps"
   ]
  },
  {
   "cell_type": "code",
   "execution_count": 214,
   "id": "0bf5ac3d-d96d-495f-867a-8985a48da6e1",
   "metadata": {},
   "outputs": [],
   "source": [
    "ps.name = ('All', 'All')"
   ]
  },
  {
   "cell_type": "code",
   "execution_count": 215,
   "id": "769fe98e-16d2-41c0-8384-ef1b3567b972",
   "metadata": {},
   "outputs": [
    {
     "data": {
      "text/plain": [
       "('All', 'All')"
      ]
     },
     "execution_count": 215,
     "metadata": {},
     "output_type": "execute_result"
    }
   ],
   "source": [
    "ps.name"
   ]
  },
  {
   "cell_type": "code",
   "execution_count": 216,
   "id": "6af005f0-ce2d-48a2-9ae0-76a95d87e123",
   "metadata": {},
   "outputs": [
    {
     "data": {
      "text/plain": [
       "Total    731.0\n",
       "Name: (All, All), dtype: float64"
      ]
     },
     "execution_count": 216,
     "metadata": {},
     "output_type": "execute_result"
    }
   ],
   "source": [
    "ps"
   ]
  },
  {
   "cell_type": "code",
   "execution_count": 217,
   "id": "c9fd3d27-8173-4842-be4b-beff97b0cf56",
   "metadata": {},
   "outputs": [],
   "source": [
    "df_data_region.loc[len(df_data_region)]=ps"
   ]
  },
  {
   "cell_type": "code",
   "execution_count": 218,
   "id": "ff404268-8d05-46b2-a670-1ec42c19209d",
   "metadata": {},
   "outputs": [
    {
     "data": {
      "text/html": [
       "<div>\n",
       "<style scoped>\n",
       "    .dataframe tbody tr th:only-of-type {\n",
       "        vertical-align: middle;\n",
       "    }\n",
       "\n",
       "    .dataframe tbody tr th {\n",
       "        vertical-align: top;\n",
       "    }\n",
       "\n",
       "    .dataframe thead th {\n",
       "        text-align: right;\n",
       "    }\n",
       "</style>\n",
       "<table border=\"1\" class=\"dataframe\">\n",
       "  <thead>\n",
       "    <tr style=\"text-align: right;\">\n",
       "      <th></th>\n",
       "      <th>Total</th>\n",
       "    </tr>\n",
       "  </thead>\n",
       "  <tbody>\n",
       "    <tr>\n",
       "      <th>(2022-02-04, East)</th>\n",
       "      <td>97.0</td>\n",
       "    </tr>\n",
       "    <tr>\n",
       "      <th>(2022-02-04, West)</th>\n",
       "      <td>243.0</td>\n",
       "    </tr>\n",
       "    <tr>\n",
       "      <th>(2022-02-05, East)</th>\n",
       "      <td>160.0</td>\n",
       "    </tr>\n",
       "    <tr>\n",
       "      <th>(2022-02-05, West)</th>\n",
       "      <td>35.0</td>\n",
       "    </tr>\n",
       "    <tr>\n",
       "      <th>(2022-02-06, East)</th>\n",
       "      <td>110.0</td>\n",
       "    </tr>\n",
       "    <tr>\n",
       "      <th>(2022-02-06, West)</th>\n",
       "      <td>86.0</td>\n",
       "    </tr>\n",
       "    <tr>\n",
       "      <th>6</th>\n",
       "      <td>731.0</td>\n",
       "    </tr>\n",
       "  </tbody>\n",
       "</table>\n",
       "</div>"
      ],
      "text/plain": [
       "                    Total\n",
       "(2022-02-04, East)   97.0\n",
       "(2022-02-04, West)  243.0\n",
       "(2022-02-05, East)  160.0\n",
       "(2022-02-05, West)   35.0\n",
       "(2022-02-06, East)  110.0\n",
       "(2022-02-06, West)   86.0\n",
       "6                   731.0"
      ]
     },
     "execution_count": 218,
     "metadata": {},
     "output_type": "execute_result"
    }
   ],
   "source": [
    "df_data_region"
   ]
  },
  {
   "cell_type": "markdown",
   "id": "042c1d02-c234-417d-b3c0-22fecf9ec4f7",
   "metadata": {},
   "source": [
    "# 选择组中的所有行"
   ]
  },
  {
   "cell_type": "code",
   "execution_count": 220,
   "id": "bdc9ef8d-415f-4358-849f-27531d72ded8",
   "metadata": {},
   "outputs": [
    {
     "name": "stdout",
     "output_type": "stream",
     "text": [
      "      Name Gender  Age  Salary\n",
      "1      Bob      M   30   60000\n",
      "2  Charlie      M   35   70000\n",
      "3    David      M   40   80000\n"
     ]
    }
   ],
   "source": [
    "import pandas as pd\n",
    "# 创建一个DataFrame对象\n",
    "data = {'Name': ['Alice', 'Bob', 'Charlie', 'David', 'Eva'],\n",
    "        'Gender': ['F', 'M', 'M', 'M', 'F'],\n",
    "        'Age': [25, 30, 35, 40, 45],\n",
    "        'Salary': [50000, 60000, 70000, 80000, 90000]}\n",
    "df = pd.DataFrame(data)\n",
    "# 使用groupby()函数对数据进行分组\n",
    "grouped = df.groupby('Gender')\n",
    "# 选择属于某个组的所有行\n",
    "male_group = grouped.get_group('M')\n",
    "print(male_group)"
   ]
  }
 ],
 "metadata": {
  "kernelspec": {
   "display_name": "Python 3 (ipykernel)",
   "language": "python",
   "name": "python3"
  },
  "language_info": {
   "codemirror_mode": {
    "name": "ipython",
    "version": 3
   },
   "file_extension": ".py",
   "mimetype": "text/x-python",
   "name": "python",
   "nbconvert_exporter": "python",
   "pygments_lexer": "ipython3",
   "version": "3.10.11"
  }
 },
 "nbformat": 4,
 "nbformat_minor": 5
}
