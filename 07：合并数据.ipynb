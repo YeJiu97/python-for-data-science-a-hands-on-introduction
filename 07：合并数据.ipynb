{
 "cells": [
  {
   "cell_type": "markdown",
   "id": "4d2941f9-f881-4936-b826-c1e090c57813",
   "metadata": {},
   "source": [
    "# 合并Python数据结构"
   ]
  },
  {
   "cell_type": "markdown",
   "id": "06da9839-c30e-4f58-a060-64f219dd0d47",
   "metadata": {},
   "source": [
    "在某些情况下，合并数据集可能知识将一个数据集添加到另一个数据集的末尾。"
   ]
  },
  {
   "cell_type": "code",
   "execution_count": 40,
   "id": "6355aca9-cfce-4cc2-8198-d6836ff84ac6",
   "metadata": {},
   "outputs": [],
   "source": [
    "orders_2022_02_04 = [\n",
    "    (9423517, '2022-02-04', 9001),\n",
    "    (4626232, '2022-02-04', 9003),\n",
    "    (9423534, '2022-02-04', 9001),\n",
    "]\n",
    "\n",
    "orders_2022_02_05 = [\n",
    "    (9423679, '2022-02-05', 9002),\n",
    "    (4626377, '2022-02-05', 9003),\n",
    "    (4626412, '2022-02-05', 9004)\n",
    "]\n",
    "\n",
    "order_2022_02_06 = [\n",
    "    (9423783, '2022-02-06', 9002),\n",
    "    (4626490, '2022-02-06', 9004)\n",
    "]"
   ]
  },
  {
   "cell_type": "markdown",
   "id": "f6492f73-29cb-4b98-bf6e-fd0fa1e4c36a",
   "metadata": {},
   "source": [
    "我们可以使用 + 号将两者联合在一起："
   ]
  },
  {
   "cell_type": "code",
   "execution_count": 41,
   "id": "22c30cb9-2dac-46fb-b4ab-bc8b47de4fa3",
   "metadata": {},
   "outputs": [],
   "source": [
    "orders_total = orders_2022_02_04 + orders_2022_02_05 + order_2022_02_06"
   ]
  },
  {
   "cell_type": "code",
   "execution_count": 42,
   "id": "9d8d8f08-3beb-4946-9a13-a283eb349fc1",
   "metadata": {},
   "outputs": [
    {
     "data": {
      "text/plain": [
       "[(9423517, '2022-02-04', 9001),\n",
       " (4626232, '2022-02-04', 9003),\n",
       " (9423534, '2022-02-04', 9001),\n",
       " (9423679, '2022-02-05', 9002),\n",
       " (4626377, '2022-02-05', 9003),\n",
       " (4626412, '2022-02-05', 9004),\n",
       " (9423783, '2022-02-06', 9002),\n",
       " (4626490, '2022-02-06', 9004)]"
      ]
     },
     "execution_count": 42,
     "metadata": {},
     "output_type": "execute_result"
    }
   ],
   "source": [
    "orders_total"
   ]
  },
  {
   "cell_type": "markdown",
   "id": "951102af-e0fb-485b-b9d0-b399782be288",
   "metadata": {},
   "source": [
    "如果使用 + 号来合并字典，则会发生报错："
   ]
  },
  {
   "cell_type": "code",
   "execution_count": 43,
   "id": "b3ee1581-6663-41c0-9e52-5496ff550bf9",
   "metadata": {},
   "outputs": [],
   "source": [
    "dict_01 = {'key_01':'value_01', 'key_02':'value_02'}\n",
    "dict_02 = {'key_03':'value_03', 'key_04':'value_04'}"
   ]
  },
  {
   "cell_type": "code",
   "execution_count": 44,
   "id": "b0285ed7-bf30-4f02-a247-f09848874f05",
   "metadata": {},
   "outputs": [
    {
     "name": "stdout",
     "output_type": "stream",
     "text": [
      "字典不能够使用+号来进行合并，会发生报错：unsupported operand type(s) for +: 'dict' and 'dict'\n"
     ]
    }
   ],
   "source": [
    "try:\n",
    "    dict_01 + dict_02\n",
    "except TypeError as te:\n",
    "    print(\"字典不能够使用+号来进行合并，会发生报错：{}\".format(te))"
   ]
  },
  {
   "cell_type": "markdown",
   "id": "e6b301be-0c50-4432-bd9d-eea9466a8af8",
   "metadata": {},
   "source": [
    "字典的合并需要使用 \"**\"："
   ]
  },
  {
   "cell_type": "code",
   "execution_count": 45,
   "id": "a0c62df8-38db-4e07-bb9b-2130ea7b9ba1",
   "metadata": {},
   "outputs": [],
   "source": [
    "dict_combine = {**dict_01, **dict_02}"
   ]
  },
  {
   "cell_type": "code",
   "execution_count": 46,
   "id": "fb608346-9ee1-4959-9583-1dd003b653af",
   "metadata": {},
   "outputs": [
    {
     "data": {
      "text/plain": [
       "{'key_01': 'value_01',\n",
       " 'key_02': 'value_02',\n",
       " 'key_03': 'value_03',\n",
       " 'key_04': 'value_04'}"
      ]
     },
     "execution_count": 46,
     "metadata": {},
     "output_type": "execute_result"
    }
   ],
   "source": [
    "dict_combine"
   ]
  },
  {
   "cell_type": "markdown",
   "id": "a0b2c3ed-99c4-4223-9e40-d9810d925518",
   "metadata": {},
   "source": [
    "用户常常需要将共享同意列表的一个或者多个数据结构链接为一个结构："
   ]
  },
  {
   "cell_type": "code",
   "execution_count": 47,
   "id": "432dba0a-2b18-4e40-bbab-b6974a8d5d72",
   "metadata": {},
   "outputs": [],
   "source": [
    "details = [\n",
    "    (9423517, 'Jeans', 'Rip Curl', 87.0, 1),\n",
    "    (9423517, 'Jacknet', 'The North Face', 112.0, 1),\n",
    "    (4626232, 'Socks', 'Vans', 15.0, 1),\n",
    "    (4626232, 'Jeans', 'Quiksilver', 82.0, 1),\n",
    "    (9423534, 'Socks', 'Dc', 10.0, 2),\n",
    "    (9423534, 'Socks', 'Quiksilver', 12.0, 2),\n",
    "    (9423679, 'T-shirt', 'Patagonia', 35.0, 1),\n",
    "    (4626377, 'Hoody', 'Animal', 44.0, 1),\n",
    "    (4626377, 'Cargo Shorts','Animal', 38.0, 1),\n",
    "    (4626412, 'Shirt', 'Volcom', 78.0, 1),\n",
    "    (9423783, 'Boxer Shorts', 'Superdry', 30.0, 2),\n",
    "    (9423783, 'Shorts', 'Globe', 26.0, 1),\n",
    "    (4626490, 'Cargo Shorts', 'Billabong', 54.0, 1),\n",
    "    (4626490, 'Sweater', 'Dickies', 56.0, 1)\n",
    "]"
   ]
  },
  {
   "cell_type": "markdown",
   "id": "3448dde1-32f5-445b-9170-48166eddce59",
   "metadata": {},
   "source": [
    "两个列表都包含元组，元组的第一个元素是订单号。\n",
    "\n",
    "我们需要找到具有匹配订单号的元组，将它们合并为单个元组，并将所有元组存储在列表中："
   ]
  },
  {
   "cell_type": "code",
   "execution_count": 48,
   "id": "20e3a6b1-c28b-4260-81f8-a6cff2fd8e9b",
   "metadata": {},
   "outputs": [],
   "source": [
    "orders_details = []\n",
    "for o in orders_total:\n",
    "    for d in details:\n",
    "        if d[0] == o[0]:\n",
    "            orders_details.append(o + d[1:])"
   ]
  },
  {
   "cell_type": "code",
   "execution_count": 49,
   "id": "547187a6-a584-4f24-a914-10e505e2cb3d",
   "metadata": {},
   "outputs": [
    {
     "data": {
      "text/plain": [
       "[(9423517, '2022-02-04', 9001, 'Jeans', 'Rip Curl', 87.0, 1),\n",
       " (9423517, '2022-02-04', 9001, 'Jacknet', 'The North Face', 112.0, 1),\n",
       " (4626232, '2022-02-04', 9003, 'Socks', 'Vans', 15.0, 1),\n",
       " (4626232, '2022-02-04', 9003, 'Jeans', 'Quiksilver', 82.0, 1),\n",
       " (9423534, '2022-02-04', 9001, 'Socks', 'Dc', 10.0, 2),\n",
       " (9423534, '2022-02-04', 9001, 'Socks', 'Quiksilver', 12.0, 2),\n",
       " (9423679, '2022-02-05', 9002, 'T-shirt', 'Patagonia', 35.0, 1),\n",
       " (4626377, '2022-02-05', 9003, 'Hoody', 'Animal', 44.0, 1),\n",
       " (4626377, '2022-02-05', 9003, 'Cargo Shorts', 'Animal', 38.0, 1),\n",
       " (4626412, '2022-02-05', 9004, 'Shirt', 'Volcom', 78.0, 1),\n",
       " (9423783, '2022-02-06', 9002, 'Boxer Shorts', 'Superdry', 30.0, 2),\n",
       " (9423783, '2022-02-06', 9002, 'Shorts', 'Globe', 26.0, 1),\n",
       " (4626490, '2022-02-06', 9004, 'Cargo Shorts', 'Billabong', 54.0, 1),\n",
       " (4626490, '2022-02-06', 9004, 'Sweater', 'Dickies', 56.0, 1)]"
      ]
     },
     "execution_count": 49,
     "metadata": {},
     "output_type": "execute_result"
    }
   ],
   "source": [
    "orders_details"
   ]
  },
  {
   "cell_type": "markdown",
   "id": "830357f1-c172-484d-8fc0-5eb51453a9d8",
   "metadata": {},
   "source": [
    "使用推导式："
   ]
  },
  {
   "cell_type": "code",
   "execution_count": 50,
   "id": "1382f89b-fecc-47e1-802e-ca3e7949edac",
   "metadata": {},
   "outputs": [],
   "source": [
    "orders_details = [[o for o in orders_total if d[0] == o[0]][0] + d[1:] for d in details]"
   ]
  },
  {
   "cell_type": "code",
   "execution_count": 51,
   "id": "c077331d-dff0-42a7-b5e8-28e847eebc79",
   "metadata": {},
   "outputs": [
    {
     "data": {
      "text/plain": [
       "[(9423517, '2022-02-04', 9001, 'Jeans', 'Rip Curl', 87.0, 1),\n",
       " (9423517, '2022-02-04', 9001, 'Jacknet', 'The North Face', 112.0, 1),\n",
       " (4626232, '2022-02-04', 9003, 'Socks', 'Vans', 15.0, 1),\n",
       " (4626232, '2022-02-04', 9003, 'Jeans', 'Quiksilver', 82.0, 1),\n",
       " (9423534, '2022-02-04', 9001, 'Socks', 'Dc', 10.0, 2),\n",
       " (9423534, '2022-02-04', 9001, 'Socks', 'Quiksilver', 12.0, 2),\n",
       " (9423679, '2022-02-05', 9002, 'T-shirt', 'Patagonia', 35.0, 1),\n",
       " (4626377, '2022-02-05', 9003, 'Hoody', 'Animal', 44.0, 1),\n",
       " (4626377, '2022-02-05', 9003, 'Cargo Shorts', 'Animal', 38.0, 1),\n",
       " (4626412, '2022-02-05', 9004, 'Shirt', 'Volcom', 78.0, 1),\n",
       " (9423783, '2022-02-06', 9002, 'Boxer Shorts', 'Superdry', 30.0, 2),\n",
       " (9423783, '2022-02-06', 9002, 'Shorts', 'Globe', 26.0, 1),\n",
       " (4626490, '2022-02-06', 9004, 'Cargo Shorts', 'Billabong', 54.0, 1),\n",
       " (4626490, '2022-02-06', 9004, 'Sweater', 'Dickies', 56.0, 1)]"
      ]
     },
     "execution_count": 51,
     "metadata": {},
     "output_type": "execute_result"
    }
   ],
   "source": [
    "orders_details"
   ]
  },
  {
   "cell_type": "markdown",
   "id": "84df87c4-5e94-43bd-aa77-12277c133d50",
   "metadata": {},
   "source": [
    "这个列表包含了所有details列表的所有元组，每个元组还包含了orders列表所对应的元组的其他信息。"
   ]
  },
  {
   "cell_type": "markdown",
   "id": "36adee63-af15-4ce4-8f29-96fc19f0affc",
   "metadata": {},
   "source": [
    "# 合并NumPy数组"
   ]
  },
  {
   "cell_type": "markdown",
   "id": "5ea47141-57dd-42c2-b06a-f1b9bfda90e1",
   "metadata": {},
   "source": [
    "numpy数组不能够使用 + 来进行合并，因为NumPy保留了运算符 + 来对多个数组上执行元素相加的操作，如果要进行合并，则需要使用 numpy.concatenate() 函数。"
   ]
  },
  {
   "cell_type": "code",
   "execution_count": 52,
   "id": "a247cd91-8ef5-4cde-abf1-ecec768f78bd",
   "metadata": {},
   "outputs": [],
   "source": [
    "import numpy as np\n",
    "jeff_salary = [2700, 3000, 3000]\n",
    "nick_salary = [2600, 2800, 2800]\n",
    "tom_salary = [2300, 2500, 2500]\n",
    "\n",
    "base_salary_1 = np.array([jeff_salary, nick_salary, tom_salary])"
   ]
  },
  {
   "cell_type": "code",
   "execution_count": 53,
   "id": "1e752d54-645f-4868-9be1-e9bb56db74e4",
   "metadata": {},
   "outputs": [
    {
     "data": {
      "text/plain": [
       "array([[2700, 3000, 3000],\n",
       "       [2600, 2800, 2800],\n",
       "       [2300, 2500, 2500]])"
      ]
     },
     "execution_count": 53,
     "metadata": {},
     "output_type": "execute_result"
    }
   ],
   "source": [
    "base_salary_1"
   ]
  },
  {
   "cell_type": "code",
   "execution_count": 54,
   "id": "74815cb8-706d-49c2-903a-fedebb5c64d6",
   "metadata": {},
   "outputs": [
    {
     "data": {
      "text/plain": [
       "array([2700, 3000, 3000])"
      ]
     },
     "execution_count": 54,
     "metadata": {},
     "output_type": "execute_result"
    }
   ],
   "source": [
    "base_salary_1[0]"
   ]
  },
  {
   "cell_type": "markdown",
   "id": "5293489b-9c4b-4cb2-9ea4-5930a728a392",
   "metadata": {},
   "source": [
    "新的numpy数组："
   ]
  },
  {
   "cell_type": "code",
   "execution_count": 55,
   "id": "73ba9af0-e3b6-483d-a3b6-311cefd51b68",
   "metadata": {},
   "outputs": [],
   "source": [
    "maya_salary = [2200, 2400, 2400]\n",
    "john_salary = [2500, 2700, 2700]\n",
    "base_salary_2 = np.array([maya_salary, john_salary])"
   ]
  },
  {
   "cell_type": "code",
   "execution_count": 56,
   "id": "10d12a9c-986a-4b5d-b158-17e92e5a4a78",
   "metadata": {},
   "outputs": [
    {
     "data": {
      "text/plain": [
       "array([[2200, 2400, 2400],\n",
       "       [2500, 2700, 2700]])"
      ]
     },
     "execution_count": 56,
     "metadata": {},
     "output_type": "execute_result"
    }
   ],
   "source": [
    "base_salary_2"
   ]
  },
  {
   "cell_type": "markdown",
   "id": "eecf679e-8603-42a3-8ded-060a455e64e7",
   "metadata": {},
   "source": [
    "接着开始进行合并："
   ]
  },
  {
   "cell_type": "code",
   "execution_count": 57,
   "id": "0ac40a85-be00-42a6-a7ac-87f84ef841f4",
   "metadata": {},
   "outputs": [
    {
     "data": {
      "text/plain": [
       "array([[2700, 3000, 3000],\n",
       "       [2600, 2800, 2800],\n",
       "       [2300, 2500, 2500],\n",
       "       [2200, 2400, 2400],\n",
       "       [2500, 2700, 2700]])"
      ]
     },
     "execution_count": 57,
     "metadata": {},
     "output_type": "execute_result"
    }
   ],
   "source": [
    "base_salary = np.concatenate((base_salary_1, base_salary_2), axis = 0)\n",
    "base_salary"
   ]
  },
  {
   "cell_type": "markdown",
   "id": "bab678fc-94ba-4437-92a5-f045130f57a9",
   "metadata": {},
   "source": [
    "假设已经收到了下一个月的工资，我们可以将工资存储到另一个NumPy数组中："
   ]
  },
  {
   "cell_type": "code",
   "execution_count": 58,
   "id": "f0de8b11-c0c9-424d-af1f-b34f45eb1e70",
   "metadata": {},
   "outputs": [
    {
     "data": {
      "text/plain": [
       "array([[3000],\n",
       "       [2900],\n",
       "       [2500],\n",
       "       [2500],\n",
       "       [2700]])"
      ]
     },
     "execution_count": 58,
     "metadata": {},
     "output_type": "execute_result"
    }
   ],
   "source": [
    "new_month_salary = np.array([[3000], [2900], [2500], [2500], [2700]])\n",
    "new_month_salary"
   ]
  },
  {
   "cell_type": "code",
   "execution_count": 59,
   "id": "6ccb3595-1ba3-4e63-8f58-259f190cbb3e",
   "metadata": {},
   "outputs": [
    {
     "data": {
      "text/plain": [
       "array([[2700, 3000, 3000, 3000],\n",
       "       [2600, 2800, 2800, 2900],\n",
       "       [2300, 2500, 2500, 2500],\n",
       "       [2200, 2400, 2400, 2500],\n",
       "       [2500, 2700, 2700, 2700]])"
      ]
     },
     "execution_count": 59,
     "metadata": {},
     "output_type": "execute_result"
    }
   ],
   "source": [
    "base_salary = np.concatenate((base_salary, new_month_salary), axis = 1)\n",
    "base_salary"
   ]
  },
  {
   "cell_type": "markdown",
   "id": "07d62542-42bb-4284-b975-2cbb2bbbf0f2",
   "metadata": {},
   "source": [
    "# 合并pandas数据结构"
   ]
  },
  {
   "cell_type": "markdown",
   "id": "5c77f3b8-fb2a-4227-842a-dbcab2d9be3e",
   "metadata": {},
   "source": [
    "首先创建数据框："
   ]
  },
  {
   "cell_type": "code",
   "execution_count": 60,
   "id": "58a7a3fa-6ccf-49dc-b712-c616f5bf879c",
   "metadata": {},
   "outputs": [],
   "source": [
    "import pandas as pd\n",
    "salary_df_1 = pd.DataFrame(\n",
    "    {'jeff' : jeff_salary,\n",
    "    'nick' : nick_salary,\n",
    "    'tom' : tom_salary}\n",
    ")"
   ]
  },
  {
   "cell_type": "code",
   "execution_count": 61,
   "id": "e24387a5-897c-4526-afff-f30ac08c303c",
   "metadata": {},
   "outputs": [
    {
     "data": {
      "text/html": [
       "<div>\n",
       "<style scoped>\n",
       "    .dataframe tbody tr th:only-of-type {\n",
       "        vertical-align: middle;\n",
       "    }\n",
       "\n",
       "    .dataframe tbody tr th {\n",
       "        vertical-align: top;\n",
       "    }\n",
       "\n",
       "    .dataframe thead th {\n",
       "        text-align: right;\n",
       "    }\n",
       "</style>\n",
       "<table border=\"1\" class=\"dataframe\">\n",
       "  <thead>\n",
       "    <tr style=\"text-align: right;\">\n",
       "      <th></th>\n",
       "      <th>jeff</th>\n",
       "      <th>nick</th>\n",
       "      <th>tom</th>\n",
       "    </tr>\n",
       "  </thead>\n",
       "  <tbody>\n",
       "    <tr>\n",
       "      <th>0</th>\n",
       "      <td>2700</td>\n",
       "      <td>2600</td>\n",
       "      <td>2300</td>\n",
       "    </tr>\n",
       "    <tr>\n",
       "      <th>1</th>\n",
       "      <td>3000</td>\n",
       "      <td>2800</td>\n",
       "      <td>2500</td>\n",
       "    </tr>\n",
       "    <tr>\n",
       "      <th>2</th>\n",
       "      <td>3000</td>\n",
       "      <td>2800</td>\n",
       "      <td>2500</td>\n",
       "    </tr>\n",
       "  </tbody>\n",
       "</table>\n",
       "</div>"
      ],
      "text/plain": [
       "   jeff  nick   tom\n",
       "0  2700  2600  2300\n",
       "1  3000  2800  2500\n",
       "2  3000  2800  2500"
      ]
     },
     "execution_count": 61,
     "metadata": {},
     "output_type": "execute_result"
    }
   ],
   "source": [
    "salary_df_1"
   ]
  },
  {
   "cell_type": "markdown",
   "id": "e1179767-046b-4888-85b5-6c9e98f139a0",
   "metadata": {},
   "source": [
    "使用月份作为索引应该更加的有意义："
   ]
  },
  {
   "cell_type": "code",
   "execution_count": 62,
   "id": "e68fca33-0e32-4860-814f-1aa0fb575afb",
   "metadata": {},
   "outputs": [
    {
     "data": {
      "text/html": [
       "<div>\n",
       "<style scoped>\n",
       "    .dataframe tbody tr th:only-of-type {\n",
       "        vertical-align: middle;\n",
       "    }\n",
       "\n",
       "    .dataframe tbody tr th {\n",
       "        vertical-align: top;\n",
       "    }\n",
       "\n",
       "    .dataframe thead th {\n",
       "        text-align: right;\n",
       "    }\n",
       "</style>\n",
       "<table border=\"1\" class=\"dataframe\">\n",
       "  <thead>\n",
       "    <tr style=\"text-align: right;\">\n",
       "      <th></th>\n",
       "      <th>jeff</th>\n",
       "      <th>nick</th>\n",
       "      <th>tom</th>\n",
       "    </tr>\n",
       "  </thead>\n",
       "  <tbody>\n",
       "    <tr>\n",
       "      <th>June</th>\n",
       "      <td>2700</td>\n",
       "      <td>2600</td>\n",
       "      <td>2300</td>\n",
       "    </tr>\n",
       "    <tr>\n",
       "      <th>July</th>\n",
       "      <td>3000</td>\n",
       "      <td>2800</td>\n",
       "      <td>2500</td>\n",
       "    </tr>\n",
       "    <tr>\n",
       "      <th>August</th>\n",
       "      <td>3000</td>\n",
       "      <td>2800</td>\n",
       "      <td>2500</td>\n",
       "    </tr>\n",
       "  </tbody>\n",
       "</table>\n",
       "</div>"
      ],
      "text/plain": [
       "        jeff  nick   tom\n",
       "June    2700  2600  2300\n",
       "July    3000  2800  2500\n",
       "August  3000  2800  2500"
      ]
     },
     "execution_count": 62,
     "metadata": {},
     "output_type": "execute_result"
    }
   ],
   "source": [
    "salary_df_1.index = ['June', 'July', 'August']\n",
    "salary_df_1"
   ]
  },
  {
   "cell_type": "markdown",
   "id": "e2f8eb2c-edaf-41f7-9106-34b21eb01ec0",
   "metadata": {},
   "source": [
    "进行转置："
   ]
  },
  {
   "cell_type": "code",
   "execution_count": 63,
   "id": "08ed0cc6-7b69-48ec-8a08-8e7099e01f1c",
   "metadata": {},
   "outputs": [
    {
     "data": {
      "text/html": [
       "<div>\n",
       "<style scoped>\n",
       "    .dataframe tbody tr th:only-of-type {\n",
       "        vertical-align: middle;\n",
       "    }\n",
       "\n",
       "    .dataframe tbody tr th {\n",
       "        vertical-align: top;\n",
       "    }\n",
       "\n",
       "    .dataframe thead th {\n",
       "        text-align: right;\n",
       "    }\n",
       "</style>\n",
       "<table border=\"1\" class=\"dataframe\">\n",
       "  <thead>\n",
       "    <tr style=\"text-align: right;\">\n",
       "      <th></th>\n",
       "      <th>June</th>\n",
       "      <th>July</th>\n",
       "      <th>August</th>\n",
       "    </tr>\n",
       "  </thead>\n",
       "  <tbody>\n",
       "    <tr>\n",
       "      <th>jeff</th>\n",
       "      <td>2700</td>\n",
       "      <td>3000</td>\n",
       "      <td>3000</td>\n",
       "    </tr>\n",
       "    <tr>\n",
       "      <th>nick</th>\n",
       "      <td>2600</td>\n",
       "      <td>2800</td>\n",
       "      <td>2800</td>\n",
       "    </tr>\n",
       "    <tr>\n",
       "      <th>tom</th>\n",
       "      <td>2300</td>\n",
       "      <td>2500</td>\n",
       "      <td>2500</td>\n",
       "    </tr>\n",
       "  </tbody>\n",
       "</table>\n",
       "</div>"
      ],
      "text/plain": [
       "      June  July  August\n",
       "jeff  2700  3000    3000\n",
       "nick  2600  2800    2800\n",
       "tom   2300  2500    2500"
      ]
     },
     "execution_count": 63,
     "metadata": {},
     "output_type": "execute_result"
    }
   ],
   "source": [
    "salary_df_1 = salary_df_1.T\n",
    "salary_df_1"
   ]
  },
  {
   "cell_type": "markdown",
   "id": "d9ea3f9a-9a9c-456f-987d-a3096bd618a8",
   "metadata": {},
   "source": [
    "接着创建一个有着相同列的数据框："
   ]
  },
  {
   "cell_type": "code",
   "execution_count": 64,
   "id": "af3f8119-20f7-44fe-ac6f-b005cf7be29b",
   "metadata": {},
   "outputs": [
    {
     "data": {
      "text/html": [
       "<div>\n",
       "<style scoped>\n",
       "    .dataframe tbody tr th:only-of-type {\n",
       "        vertical-align: middle;\n",
       "    }\n",
       "\n",
       "    .dataframe tbody tr th {\n",
       "        vertical-align: top;\n",
       "    }\n",
       "\n",
       "    .dataframe thead th {\n",
       "        text-align: right;\n",
       "    }\n",
       "</style>\n",
       "<table border=\"1\" class=\"dataframe\">\n",
       "  <thead>\n",
       "    <tr style=\"text-align: right;\">\n",
       "      <th></th>\n",
       "      <th>June</th>\n",
       "      <th>July</th>\n",
       "      <th>August</th>\n",
       "    </tr>\n",
       "  </thead>\n",
       "  <tbody>\n",
       "    <tr>\n",
       "      <th>maya</th>\n",
       "      <td>2200</td>\n",
       "      <td>2400</td>\n",
       "      <td>2400</td>\n",
       "    </tr>\n",
       "    <tr>\n",
       "      <th>john</th>\n",
       "      <td>2500</td>\n",
       "      <td>2700</td>\n",
       "      <td>2700</td>\n",
       "    </tr>\n",
       "  </tbody>\n",
       "</table>\n",
       "</div>"
      ],
      "text/plain": [
       "      June  July  August\n",
       "maya  2200  2400    2400\n",
       "john  2500  2700    2700"
      ]
     },
     "execution_count": 64,
     "metadata": {},
     "output_type": "execute_result"
    }
   ],
   "source": [
    "salary_df_2 = pd.DataFrame(\n",
    "    {'maya': maya_salary,\n",
    "    'john': john_salary\n",
    "    },\n",
    "    index = ['June', 'July', 'August']\n",
    ").T\n",
    "\n",
    "salary_df_2"
   ]
  },
  {
   "cell_type": "code",
   "execution_count": 65,
   "id": "7deb25e1-be41-4317-9c8f-1577bebab7e8",
   "metadata": {},
   "outputs": [],
   "source": [
    "# 开始进行合并\n",
    "salary_df = pd.concat([salary_df_1, salary_df_2])"
   ]
  },
  {
   "cell_type": "code",
   "execution_count": 66,
   "id": "26c131c6-41cc-45f9-ab64-b6f57808fea5",
   "metadata": {},
   "outputs": [
    {
     "data": {
      "text/html": [
       "<div>\n",
       "<style scoped>\n",
       "    .dataframe tbody tr th:only-of-type {\n",
       "        vertical-align: middle;\n",
       "    }\n",
       "\n",
       "    .dataframe tbody tr th {\n",
       "        vertical-align: top;\n",
       "    }\n",
       "\n",
       "    .dataframe thead th {\n",
       "        text-align: right;\n",
       "    }\n",
       "</style>\n",
       "<table border=\"1\" class=\"dataframe\">\n",
       "  <thead>\n",
       "    <tr style=\"text-align: right;\">\n",
       "      <th></th>\n",
       "      <th>June</th>\n",
       "      <th>July</th>\n",
       "      <th>August</th>\n",
       "    </tr>\n",
       "  </thead>\n",
       "  <tbody>\n",
       "    <tr>\n",
       "      <th>jeff</th>\n",
       "      <td>2700</td>\n",
       "      <td>3000</td>\n",
       "      <td>3000</td>\n",
       "    </tr>\n",
       "    <tr>\n",
       "      <th>nick</th>\n",
       "      <td>2600</td>\n",
       "      <td>2800</td>\n",
       "      <td>2800</td>\n",
       "    </tr>\n",
       "    <tr>\n",
       "      <th>tom</th>\n",
       "      <td>2300</td>\n",
       "      <td>2500</td>\n",
       "      <td>2500</td>\n",
       "    </tr>\n",
       "    <tr>\n",
       "      <th>maya</th>\n",
       "      <td>2200</td>\n",
       "      <td>2400</td>\n",
       "      <td>2400</td>\n",
       "    </tr>\n",
       "    <tr>\n",
       "      <th>john</th>\n",
       "      <td>2500</td>\n",
       "      <td>2700</td>\n",
       "      <td>2700</td>\n",
       "    </tr>\n",
       "  </tbody>\n",
       "</table>\n",
       "</div>"
      ],
      "text/plain": [
       "      June  July  August\n",
       "jeff  2700  3000    3000\n",
       "nick  2600  2800    2800\n",
       "tom   2300  2500    2500\n",
       "maya  2200  2400    2400\n",
       "john  2500  2700    2700"
      ]
     },
     "execution_count": 66,
     "metadata": {},
     "output_type": "execute_result"
    }
   ],
   "source": [
    "salary_df"
   ]
  },
  {
   "cell_type": "code",
   "execution_count": 67,
   "id": "1de94832-61a3-4bd4-aa8a-5ea88dc661e7",
   "metadata": {},
   "outputs": [
    {
     "data": {
      "text/html": [
       "<div>\n",
       "<style scoped>\n",
       "    .dataframe tbody tr th:only-of-type {\n",
       "        vertical-align: middle;\n",
       "    }\n",
       "\n",
       "    .dataframe tbody tr th {\n",
       "        vertical-align: top;\n",
       "    }\n",
       "\n",
       "    .dataframe thead th {\n",
       "        text-align: right;\n",
       "    }\n",
       "</style>\n",
       "<table border=\"1\" class=\"dataframe\">\n",
       "  <thead>\n",
       "    <tr style=\"text-align: right;\">\n",
       "      <th></th>\n",
       "      <th>jeff</th>\n",
       "      <th>nick</th>\n",
       "      <th>tom</th>\n",
       "      <th>maya</th>\n",
       "      <th>john</th>\n",
       "    </tr>\n",
       "  </thead>\n",
       "  <tbody>\n",
       "    <tr>\n",
       "      <th>June</th>\n",
       "      <td>2700</td>\n",
       "      <td>2600</td>\n",
       "      <td>2300</td>\n",
       "      <td>2200</td>\n",
       "      <td>2500</td>\n",
       "    </tr>\n",
       "    <tr>\n",
       "      <th>July</th>\n",
       "      <td>3000</td>\n",
       "      <td>2800</td>\n",
       "      <td>2500</td>\n",
       "      <td>2400</td>\n",
       "      <td>2700</td>\n",
       "    </tr>\n",
       "    <tr>\n",
       "      <th>August</th>\n",
       "      <td>3000</td>\n",
       "      <td>2800</td>\n",
       "      <td>2500</td>\n",
       "      <td>2400</td>\n",
       "      <td>2700</td>\n",
       "    </tr>\n",
       "  </tbody>\n",
       "</table>\n",
       "</div>"
      ],
      "text/plain": [
       "        jeff  nick   tom  maya  john\n",
       "June    2700  2600  2300  2200  2500\n",
       "July    3000  2800  2500  2400  2700\n",
       "August  3000  2800  2500  2400  2700"
      ]
     },
     "execution_count": 67,
     "metadata": {},
     "output_type": "execute_result"
    }
   ],
   "source": [
    "salary_df_axis_1 = pd.concat([salary_df_1.T, salary_df_2.T], axis = 1)\n",
    "salary_df_axis_1"
   ]
  },
  {
   "cell_type": "markdown",
   "id": "bf77e6ef-68c3-4717-a2aa-97cd61963b3b",
   "metadata": {},
   "source": [
    "可以使用DataFrame.drop()函数来删除行列："
   ]
  },
  {
   "cell_type": "code",
   "execution_count": 68,
   "id": "725700f6-937a-486f-b613-79a675c9336a",
   "metadata": {},
   "outputs": [
    {
     "data": {
      "text/html": [
       "<div>\n",
       "<style scoped>\n",
       "    .dataframe tbody tr th:only-of-type {\n",
       "        vertical-align: middle;\n",
       "    }\n",
       "\n",
       "    .dataframe tbody tr th {\n",
       "        vertical-align: top;\n",
       "    }\n",
       "\n",
       "    .dataframe thead th {\n",
       "        text-align: right;\n",
       "    }\n",
       "</style>\n",
       "<table border=\"1\" class=\"dataframe\">\n",
       "  <thead>\n",
       "    <tr style=\"text-align: right;\">\n",
       "      <th></th>\n",
       "      <th>jeff</th>\n",
       "      <th>nick</th>\n",
       "      <th>maya</th>\n",
       "      <th>john</th>\n",
       "    </tr>\n",
       "  </thead>\n",
       "  <tbody>\n",
       "    <tr>\n",
       "      <th>June</th>\n",
       "      <td>2700</td>\n",
       "      <td>2600</td>\n",
       "      <td>2200</td>\n",
       "      <td>2500</td>\n",
       "    </tr>\n",
       "    <tr>\n",
       "      <th>July</th>\n",
       "      <td>3000</td>\n",
       "      <td>2800</td>\n",
       "      <td>2400</td>\n",
       "      <td>2700</td>\n",
       "    </tr>\n",
       "    <tr>\n",
       "      <th>August</th>\n",
       "      <td>3000</td>\n",
       "      <td>2800</td>\n",
       "      <td>2400</td>\n",
       "      <td>2700</td>\n",
       "    </tr>\n",
       "  </tbody>\n",
       "</table>\n",
       "</div>"
      ],
      "text/plain": [
       "        jeff  nick  maya  john\n",
       "June    2700  2600  2200  2500\n",
       "July    3000  2800  2400  2700\n",
       "August  3000  2800  2400  2700"
      ]
     },
     "execution_count": 68,
     "metadata": {},
     "output_type": "execute_result"
    }
   ],
   "source": [
    "salary_df_axis_1 = salary_df_axis_1.drop(['tom'], axis = 1)\n",
    "salary_df_axis_1"
   ]
  },
  {
   "cell_type": "code",
   "execution_count": 69,
   "id": "826a4417-2e60-47dd-8f3c-b462ee537bab",
   "metadata": {},
   "outputs": [
    {
     "data": {
      "text/html": [
       "<div>\n",
       "<style scoped>\n",
       "    .dataframe tbody tr th:only-of-type {\n",
       "        vertical-align: middle;\n",
       "    }\n",
       "\n",
       "    .dataframe tbody tr th {\n",
       "        vertical-align: top;\n",
       "    }\n",
       "\n",
       "    .dataframe thead th {\n",
       "        text-align: right;\n",
       "    }\n",
       "</style>\n",
       "<table border=\"1\" class=\"dataframe\">\n",
       "  <thead>\n",
       "    <tr style=\"text-align: right;\">\n",
       "      <th></th>\n",
       "      <th>jeff</th>\n",
       "      <th>nick</th>\n",
       "      <th>maya</th>\n",
       "      <th>john</th>\n",
       "    </tr>\n",
       "  </thead>\n",
       "  <tbody>\n",
       "    <tr>\n",
       "      <th>June</th>\n",
       "      <td>2700</td>\n",
       "      <td>2600</td>\n",
       "      <td>2200</td>\n",
       "      <td>2500</td>\n",
       "    </tr>\n",
       "    <tr>\n",
       "      <th>July</th>\n",
       "      <td>3000</td>\n",
       "      <td>2800</td>\n",
       "      <td>2400</td>\n",
       "      <td>2700</td>\n",
       "    </tr>\n",
       "  </tbody>\n",
       "</table>\n",
       "</div>"
      ],
      "text/plain": [
       "      jeff  nick  maya  john\n",
       "June  2700  2600  2200  2500\n",
       "July  3000  2800  2400  2700"
      ]
     },
     "execution_count": 69,
     "metadata": {},
     "output_type": "execute_result"
    }
   ],
   "source": [
    "salary_df_axis_1 = salary_df_axis_1.drop(['August'], axis = 0)\n",
    "salary_df_axis_1"
   ]
  },
  {
   "cell_type": "markdown",
   "id": "ba8b758f-0ffd-4b2c-931b-29719a8157d8",
   "metadata": {},
   "source": [
    "现在，我们可以合并多索引的数据框："
   ]
  },
  {
   "cell_type": "code",
   "execution_count": 70,
   "id": "82423436-1a7b-4a07-b74f-7fa2568ce6d7",
   "metadata": {},
   "outputs": [],
   "source": [
    "df_date_region_1 = pd.DataFrame(\n",
    "    [\n",
    "        ('2022-02-04', 'East', 97.0),\n",
    "        ('2022-02-04', 'West', 243.0),\n",
    "        ('2022-02-05', 'East', 160.0),\n",
    "        ('2022-02-05', 'West', 35.0),\n",
    "        ('2022-02-06', 'East', 110.0),\n",
    "        ('2022-02-06', 'West', 86.0)\n",
    "    ],\n",
    "    columns = ['Date', 'Region', 'Total']).set_index(['Date', 'Region'])"
   ]
  },
  {
   "cell_type": "markdown",
   "id": "23ca0df8-4e24-4b7b-bd6f-f2d96ddd32ef",
   "metadata": {},
   "source": [
    "现在还需要一个数据框，这个数据框也按照Date列和Region列索引。"
   ]
  },
  {
   "cell_type": "code",
   "execution_count": 74,
   "id": "dcdffc61-b462-40ce-9439-088c21d1ffa6",
   "metadata": {},
   "outputs": [],
   "source": [
    "df_date_region_2 = pd.DataFrame(\n",
    "    [\n",
    "        ('2022-02-04', 'South', 114.0),\n",
    "        ('2022-02-05', 'South', 325.0),\n",
    "        ('2022-02-06', 'South', 212.0)\n",
    "    ],\n",
    "    columns = ['Date', 'Region', 'Total']).set_index(['Date', 'Region'])"
   ]
  },
  {
   "cell_type": "markdown",
   "id": "f91ada4c-7cba-4eb7-ac46-ebc5a5e1ee3b",
   "metadata": {},
   "source": [
    "第二个数据框的时间和第一个数据框的时间相同，但是有新的地区 South 的数据。"
   ]
  },
  {
   "cell_type": "code",
   "execution_count": 76,
   "id": "f7b0a81a-70b0-4e0d-a069-72c07b7270cf",
   "metadata": {},
   "outputs": [],
   "source": [
    "df_date_region = pd.concat([df_date_region_1,\n",
    "                           df_date_region_2]).sort_index(level=['Date', 'Region'])"
   ]
  },
  {
   "cell_type": "code",
   "execution_count": 77,
   "id": "8a94bb02-2895-4c7c-a9d0-89a2f8b3b6cf",
   "metadata": {},
   "outputs": [
    {
     "data": {
      "text/html": [
       "<div>\n",
       "<style scoped>\n",
       "    .dataframe tbody tr th:only-of-type {\n",
       "        vertical-align: middle;\n",
       "    }\n",
       "\n",
       "    .dataframe tbody tr th {\n",
       "        vertical-align: top;\n",
       "    }\n",
       "\n",
       "    .dataframe thead th {\n",
       "        text-align: right;\n",
       "    }\n",
       "</style>\n",
       "<table border=\"1\" class=\"dataframe\">\n",
       "  <thead>\n",
       "    <tr style=\"text-align: right;\">\n",
       "      <th></th>\n",
       "      <th></th>\n",
       "      <th>Total</th>\n",
       "    </tr>\n",
       "    <tr>\n",
       "      <th>Date</th>\n",
       "      <th>Region</th>\n",
       "      <th></th>\n",
       "    </tr>\n",
       "  </thead>\n",
       "  <tbody>\n",
       "    <tr>\n",
       "      <th rowspan=\"3\" valign=\"top\">2022-02-04</th>\n",
       "      <th>East</th>\n",
       "      <td>97.0</td>\n",
       "    </tr>\n",
       "    <tr>\n",
       "      <th>South</th>\n",
       "      <td>114.0</td>\n",
       "    </tr>\n",
       "    <tr>\n",
       "      <th>West</th>\n",
       "      <td>243.0</td>\n",
       "    </tr>\n",
       "    <tr>\n",
       "      <th rowspan=\"3\" valign=\"top\">2022-02-05</th>\n",
       "      <th>East</th>\n",
       "      <td>160.0</td>\n",
       "    </tr>\n",
       "    <tr>\n",
       "      <th>South</th>\n",
       "      <td>325.0</td>\n",
       "    </tr>\n",
       "    <tr>\n",
       "      <th>West</th>\n",
       "      <td>35.0</td>\n",
       "    </tr>\n",
       "    <tr>\n",
       "      <th rowspan=\"3\" valign=\"top\">2022-02-06</th>\n",
       "      <th>East</th>\n",
       "      <td>110.0</td>\n",
       "    </tr>\n",
       "    <tr>\n",
       "      <th>South</th>\n",
       "      <td>212.0</td>\n",
       "    </tr>\n",
       "    <tr>\n",
       "      <th>West</th>\n",
       "      <td>86.0</td>\n",
       "    </tr>\n",
       "  </tbody>\n",
       "</table>\n",
       "</div>"
      ],
      "text/plain": [
       "                   Total\n",
       "Date       Region       \n",
       "2022-02-04 East     97.0\n",
       "           South   114.0\n",
       "           West    243.0\n",
       "2022-02-05 East    160.0\n",
       "           South   325.0\n",
       "           West     35.0\n",
       "2022-02-06 East    110.0\n",
       "           South   212.0\n",
       "           West     86.0"
      ]
     },
     "execution_count": 77,
     "metadata": {},
     "output_type": "execute_result"
    }
   ],
   "source": [
    "df_date_region"
   ]
  },
  {
   "cell_type": "markdown",
   "id": "50761f95-0924-41a8-b7bd-0554e46b874b",
   "metadata": {},
   "source": [
    "右合并。"
   ]
  },
  {
   "cell_type": "code",
   "execution_count": 78,
   "id": "056b5997-eaa2-4e24-b7c2-07e1c4637035",
   "metadata": {},
   "outputs": [
    {
     "data": {
      "text/plain": [
       "[(9423517, '2022-02-04', 9001),\n",
       " (4626232, '2022-02-04', 9003),\n",
       " (9423534, '2022-02-04', 9001),\n",
       " (9423679, '2022-02-05', 9002),\n",
       " (4626377, '2022-02-05', 9003),\n",
       " (4626412, '2022-02-05', 9004),\n",
       " (9423783, '2022-02-06', 9002),\n",
       " (4626490, '2022-02-06', 9004)]"
      ]
     },
     "execution_count": 78,
     "metadata": {},
     "output_type": "execute_result"
    }
   ],
   "source": [
    "orders_total"
   ]
  },
  {
   "cell_type": "code",
   "execution_count": 79,
   "id": "ea1cdb4f-87ea-4423-b710-ef6bc68e8937",
   "metadata": {},
   "outputs": [
    {
     "data": {
      "text/plain": [
       "[(9423517, 'Jeans', 'Rip Curl', 87.0, 1),\n",
       " (9423517, 'Jacknet', 'The North Face', 112.0, 1),\n",
       " (4626232, 'Socks', 'Vans', 15.0, 1),\n",
       " (4626232, 'Jeans', 'Quiksilver', 82.0, 1),\n",
       " (9423534, 'Socks', 'Dc', 10.0, 2),\n",
       " (9423534, 'Socks', 'Quiksilver', 12.0, 2),\n",
       " (9423679, 'T-shirt', 'Patagonia', 35.0, 1),\n",
       " (4626377, 'Hoody', 'Animal', 44.0, 1),\n",
       " (4626377, 'Cargo Shorts', 'Animal', 38.0, 1),\n",
       " (4626412, 'Shirt', 'Volcom', 78.0, 1),\n",
       " (9423783, 'Boxer Shorts', 'Superdry', 30.0, 2),\n",
       " (9423783, 'Shorts', 'Globe', 26.0, 1),\n",
       " (4626490, 'Cargo Shorts', 'Billabong', 54.0, 1),\n",
       " (4626490, 'Sweater', 'Dickies', 56.0, 1)]"
      ]
     },
     "execution_count": 79,
     "metadata": {},
     "output_type": "execute_result"
    }
   ],
   "source": [
    "details"
   ]
  },
  {
   "cell_type": "code",
   "execution_count": 80,
   "id": "57995695-7e4f-4dd9-9b99-7e75a273c508",
   "metadata": {},
   "outputs": [],
   "source": [
    "import pandas as pd\n",
    "\n",
    "orders_total = pd.DataFrame(orders_total, columns = ['OrderNo', 'Date', 'Empno'])\n",
    "details = pd.DataFrame(details, columns = ['OrderNo', 'Item', 'Brand', 'Price', 'Quantity'])"
   ]
  },
  {
   "cell_type": "code",
   "execution_count": 81,
   "id": "b9baa538-428c-4421-b021-fc59be8681f8",
   "metadata": {},
   "outputs": [
    {
     "data": {
      "text/html": [
       "<div>\n",
       "<style scoped>\n",
       "    .dataframe tbody tr th:only-of-type {\n",
       "        vertical-align: middle;\n",
       "    }\n",
       "\n",
       "    .dataframe tbody tr th {\n",
       "        vertical-align: top;\n",
       "    }\n",
       "\n",
       "    .dataframe thead th {\n",
       "        text-align: right;\n",
       "    }\n",
       "</style>\n",
       "<table border=\"1\" class=\"dataframe\">\n",
       "  <thead>\n",
       "    <tr style=\"text-align: right;\">\n",
       "      <th></th>\n",
       "      <th>OrderNo</th>\n",
       "      <th>Date</th>\n",
       "      <th>Empno</th>\n",
       "    </tr>\n",
       "  </thead>\n",
       "  <tbody>\n",
       "    <tr>\n",
       "      <th>0</th>\n",
       "      <td>9423517</td>\n",
       "      <td>2022-02-04</td>\n",
       "      <td>9001</td>\n",
       "    </tr>\n",
       "    <tr>\n",
       "      <th>1</th>\n",
       "      <td>4626232</td>\n",
       "      <td>2022-02-04</td>\n",
       "      <td>9003</td>\n",
       "    </tr>\n",
       "    <tr>\n",
       "      <th>2</th>\n",
       "      <td>9423534</td>\n",
       "      <td>2022-02-04</td>\n",
       "      <td>9001</td>\n",
       "    </tr>\n",
       "    <tr>\n",
       "      <th>3</th>\n",
       "      <td>9423679</td>\n",
       "      <td>2022-02-05</td>\n",
       "      <td>9002</td>\n",
       "    </tr>\n",
       "    <tr>\n",
       "      <th>4</th>\n",
       "      <td>4626377</td>\n",
       "      <td>2022-02-05</td>\n",
       "      <td>9003</td>\n",
       "    </tr>\n",
       "    <tr>\n",
       "      <th>5</th>\n",
       "      <td>4626412</td>\n",
       "      <td>2022-02-05</td>\n",
       "      <td>9004</td>\n",
       "    </tr>\n",
       "    <tr>\n",
       "      <th>6</th>\n",
       "      <td>9423783</td>\n",
       "      <td>2022-02-06</td>\n",
       "      <td>9002</td>\n",
       "    </tr>\n",
       "    <tr>\n",
       "      <th>7</th>\n",
       "      <td>4626490</td>\n",
       "      <td>2022-02-06</td>\n",
       "      <td>9004</td>\n",
       "    </tr>\n",
       "  </tbody>\n",
       "</table>\n",
       "</div>"
      ],
      "text/plain": [
       "   OrderNo        Date  Empno\n",
       "0  9423517  2022-02-04   9001\n",
       "1  4626232  2022-02-04   9003\n",
       "2  9423534  2022-02-04   9001\n",
       "3  9423679  2022-02-05   9002\n",
       "4  4626377  2022-02-05   9003\n",
       "5  4626412  2022-02-05   9004\n",
       "6  9423783  2022-02-06   9002\n",
       "7  4626490  2022-02-06   9004"
      ]
     },
     "execution_count": 81,
     "metadata": {},
     "output_type": "execute_result"
    }
   ],
   "source": [
    "orders_total"
   ]
  },
  {
   "cell_type": "code",
   "execution_count": 82,
   "id": "6adf04b9-5954-405b-84b1-f1b62e555107",
   "metadata": {},
   "outputs": [
    {
     "data": {
      "text/html": [
       "<div>\n",
       "<style scoped>\n",
       "    .dataframe tbody tr th:only-of-type {\n",
       "        vertical-align: middle;\n",
       "    }\n",
       "\n",
       "    .dataframe tbody tr th {\n",
       "        vertical-align: top;\n",
       "    }\n",
       "\n",
       "    .dataframe thead th {\n",
       "        text-align: right;\n",
       "    }\n",
       "</style>\n",
       "<table border=\"1\" class=\"dataframe\">\n",
       "  <thead>\n",
       "    <tr style=\"text-align: right;\">\n",
       "      <th></th>\n",
       "      <th>OrderNo</th>\n",
       "      <th>Item</th>\n",
       "      <th>Brand</th>\n",
       "      <th>Price</th>\n",
       "      <th>Quantity</th>\n",
       "    </tr>\n",
       "  </thead>\n",
       "  <tbody>\n",
       "    <tr>\n",
       "      <th>0</th>\n",
       "      <td>9423517</td>\n",
       "      <td>Jeans</td>\n",
       "      <td>Rip Curl</td>\n",
       "      <td>87.0</td>\n",
       "      <td>1</td>\n",
       "    </tr>\n",
       "    <tr>\n",
       "      <th>1</th>\n",
       "      <td>9423517</td>\n",
       "      <td>Jacknet</td>\n",
       "      <td>The North Face</td>\n",
       "      <td>112.0</td>\n",
       "      <td>1</td>\n",
       "    </tr>\n",
       "    <tr>\n",
       "      <th>2</th>\n",
       "      <td>4626232</td>\n",
       "      <td>Socks</td>\n",
       "      <td>Vans</td>\n",
       "      <td>15.0</td>\n",
       "      <td>1</td>\n",
       "    </tr>\n",
       "    <tr>\n",
       "      <th>3</th>\n",
       "      <td>4626232</td>\n",
       "      <td>Jeans</td>\n",
       "      <td>Quiksilver</td>\n",
       "      <td>82.0</td>\n",
       "      <td>1</td>\n",
       "    </tr>\n",
       "    <tr>\n",
       "      <th>4</th>\n",
       "      <td>9423534</td>\n",
       "      <td>Socks</td>\n",
       "      <td>Dc</td>\n",
       "      <td>10.0</td>\n",
       "      <td>2</td>\n",
       "    </tr>\n",
       "    <tr>\n",
       "      <th>5</th>\n",
       "      <td>9423534</td>\n",
       "      <td>Socks</td>\n",
       "      <td>Quiksilver</td>\n",
       "      <td>12.0</td>\n",
       "      <td>2</td>\n",
       "    </tr>\n",
       "    <tr>\n",
       "      <th>6</th>\n",
       "      <td>9423679</td>\n",
       "      <td>T-shirt</td>\n",
       "      <td>Patagonia</td>\n",
       "      <td>35.0</td>\n",
       "      <td>1</td>\n",
       "    </tr>\n",
       "    <tr>\n",
       "      <th>7</th>\n",
       "      <td>4626377</td>\n",
       "      <td>Hoody</td>\n",
       "      <td>Animal</td>\n",
       "      <td>44.0</td>\n",
       "      <td>1</td>\n",
       "    </tr>\n",
       "    <tr>\n",
       "      <th>8</th>\n",
       "      <td>4626377</td>\n",
       "      <td>Cargo Shorts</td>\n",
       "      <td>Animal</td>\n",
       "      <td>38.0</td>\n",
       "      <td>1</td>\n",
       "    </tr>\n",
       "    <tr>\n",
       "      <th>9</th>\n",
       "      <td>4626412</td>\n",
       "      <td>Shirt</td>\n",
       "      <td>Volcom</td>\n",
       "      <td>78.0</td>\n",
       "      <td>1</td>\n",
       "    </tr>\n",
       "    <tr>\n",
       "      <th>10</th>\n",
       "      <td>9423783</td>\n",
       "      <td>Boxer Shorts</td>\n",
       "      <td>Superdry</td>\n",
       "      <td>30.0</td>\n",
       "      <td>2</td>\n",
       "    </tr>\n",
       "    <tr>\n",
       "      <th>11</th>\n",
       "      <td>9423783</td>\n",
       "      <td>Shorts</td>\n",
       "      <td>Globe</td>\n",
       "      <td>26.0</td>\n",
       "      <td>1</td>\n",
       "    </tr>\n",
       "    <tr>\n",
       "      <th>12</th>\n",
       "      <td>4626490</td>\n",
       "      <td>Cargo Shorts</td>\n",
       "      <td>Billabong</td>\n",
       "      <td>54.0</td>\n",
       "      <td>1</td>\n",
       "    </tr>\n",
       "    <tr>\n",
       "      <th>13</th>\n",
       "      <td>4626490</td>\n",
       "      <td>Sweater</td>\n",
       "      <td>Dickies</td>\n",
       "      <td>56.0</td>\n",
       "      <td>1</td>\n",
       "    </tr>\n",
       "  </tbody>\n",
       "</table>\n",
       "</div>"
      ],
      "text/plain": [
       "    OrderNo          Item           Brand  Price  Quantity\n",
       "0   9423517         Jeans        Rip Curl   87.0         1\n",
       "1   9423517       Jacknet  The North Face  112.0         1\n",
       "2   4626232         Socks            Vans   15.0         1\n",
       "3   4626232         Jeans      Quiksilver   82.0         1\n",
       "4   9423534         Socks              Dc   10.0         2\n",
       "5   9423534         Socks      Quiksilver   12.0         2\n",
       "6   9423679       T-shirt       Patagonia   35.0         1\n",
       "7   4626377         Hoody          Animal   44.0         1\n",
       "8   4626377  Cargo Shorts          Animal   38.0         1\n",
       "9   4626412         Shirt          Volcom   78.0         1\n",
       "10  9423783  Boxer Shorts        Superdry   30.0         2\n",
       "11  9423783        Shorts           Globe   26.0         1\n",
       "12  4626490  Cargo Shorts       Billabong   54.0         1\n",
       "13  4626490       Sweater         Dickies   56.0         1"
      ]
     },
     "execution_count": 82,
     "metadata": {},
     "output_type": "execute_result"
    }
   ],
   "source": [
    "details"
   ]
  },
  {
   "cell_type": "code",
   "execution_count": 85,
   "id": "21c8df9a-e379-4067-b61d-93db2a763d82",
   "metadata": {},
   "outputs": [
    {
     "name": "stdout",
     "output_type": "stream",
     "text": [
      "    OrderNo          Item           Brand  Price  Quantity\n",
      "0   9423517         Jeans        Rip Curl   87.0         1\n",
      "1   9423517       Jacknet  The North Face  112.0         1\n",
      "2   4626232         Socks            Vans   15.0         1\n",
      "3   4626232         Jeans      Quiksilver   82.0         1\n",
      "4   9423534         Socks              Dc   10.0         2\n",
      "5   9423534         Socks      Quiksilver   12.0         2\n",
      "6   9423679       T-shirt       Patagonia   35.0         1\n",
      "7   4626377         Hoody          Animal   44.0         1\n",
      "8   4626377  Cargo Shorts          Animal   38.0         1\n",
      "9   4626412         Shirt          Volcom   78.0         1\n",
      "10  9423783  Boxer Shorts        Superdry   30.0         2\n",
      "11  9423783        Shorts           Globe   26.0         1\n",
      "12  4626490  Cargo Shorts       Billabong   54.0         1\n",
      "13  4626490       Sweater         Dickies   56.0         1\n",
      "14  4626592        Shorts         Protest   48.0         1\n"
     ]
    }
   ],
   "source": [
    "import pandas as pd\n",
    "\n",
    "# 创建一个新的字典，包含要添加的数据\n",
    "new_data = {\n",
    "    'OrderNo': 4626592,\n",
    "    'Item': 'Shorts',\n",
    "    'Brand': 'Protest',\n",
    "    'Price': 48.0,\n",
    "    'Quantity': 1\n",
    "}\n",
    "\n",
    "# 使用pd.concat()函数将新的数据添加到原始DataFrame中\n",
    "details = pd.concat([details, pd.DataFrame([new_data])], ignore_index=True)\n",
    "\n",
    "print(details)"
   ]
  },
  {
   "cell_type": "markdown",
   "id": "844eae6a-b5ef-443b-9355-ec0ca8145d83",
   "metadata": {},
   "source": [
    "ignore_index=True 在 pandas 中用于重置索引。当你使用 append() 或 concat() 等函数将两个 DataFrame 合并时，如果设置了 ignore_index=True，那么新的 DataFrame 的索引将会从 0 开始重新生成，而不是继续使用原来的索引。这样做的好处是可以避免索引冲突和重复，使得合并后的 DataFrame 更加整洁。\r\n"
   ]
  },
  {
   "cell_type": "markdown",
   "id": "0079d024-a084-4004-8718-919c0ef99baa",
   "metadata": {},
   "source": [
    "使用 merge() 方法来合并 orders_total 和 details："
   ]
  },
  {
   "cell_type": "code",
   "execution_count": 86,
   "id": "2567fa11-2797-4d07-9fd5-bb87fa101f66",
   "metadata": {},
   "outputs": [],
   "source": [
    "orders_details_right = orders_total.merge(details, how = 'right',\n",
    "                                         left_on = 'OrderNo', right_on = 'OrderNo')"
   ]
  },
  {
   "cell_type": "code",
   "execution_count": 87,
   "id": "86ad01cd-36e1-4791-b6b5-a667aca5f32e",
   "metadata": {},
   "outputs": [
    {
     "data": {
      "text/html": [
       "<div>\n",
       "<style scoped>\n",
       "    .dataframe tbody tr th:only-of-type {\n",
       "        vertical-align: middle;\n",
       "    }\n",
       "\n",
       "    .dataframe tbody tr th {\n",
       "        vertical-align: top;\n",
       "    }\n",
       "\n",
       "    .dataframe thead th {\n",
       "        text-align: right;\n",
       "    }\n",
       "</style>\n",
       "<table border=\"1\" class=\"dataframe\">\n",
       "  <thead>\n",
       "    <tr style=\"text-align: right;\">\n",
       "      <th></th>\n",
       "      <th>OrderNo</th>\n",
       "      <th>Date</th>\n",
       "      <th>Empno</th>\n",
       "      <th>Item</th>\n",
       "      <th>Brand</th>\n",
       "      <th>Price</th>\n",
       "      <th>Quantity</th>\n",
       "    </tr>\n",
       "  </thead>\n",
       "  <tbody>\n",
       "    <tr>\n",
       "      <th>0</th>\n",
       "      <td>9423517</td>\n",
       "      <td>2022-02-04</td>\n",
       "      <td>9001.0</td>\n",
       "      <td>Jeans</td>\n",
       "      <td>Rip Curl</td>\n",
       "      <td>87.0</td>\n",
       "      <td>1</td>\n",
       "    </tr>\n",
       "    <tr>\n",
       "      <th>1</th>\n",
       "      <td>9423517</td>\n",
       "      <td>2022-02-04</td>\n",
       "      <td>9001.0</td>\n",
       "      <td>Jacknet</td>\n",
       "      <td>The North Face</td>\n",
       "      <td>112.0</td>\n",
       "      <td>1</td>\n",
       "    </tr>\n",
       "    <tr>\n",
       "      <th>2</th>\n",
       "      <td>4626232</td>\n",
       "      <td>2022-02-04</td>\n",
       "      <td>9003.0</td>\n",
       "      <td>Socks</td>\n",
       "      <td>Vans</td>\n",
       "      <td>15.0</td>\n",
       "      <td>1</td>\n",
       "    </tr>\n",
       "    <tr>\n",
       "      <th>3</th>\n",
       "      <td>4626232</td>\n",
       "      <td>2022-02-04</td>\n",
       "      <td>9003.0</td>\n",
       "      <td>Jeans</td>\n",
       "      <td>Quiksilver</td>\n",
       "      <td>82.0</td>\n",
       "      <td>1</td>\n",
       "    </tr>\n",
       "    <tr>\n",
       "      <th>4</th>\n",
       "      <td>9423534</td>\n",
       "      <td>2022-02-04</td>\n",
       "      <td>9001.0</td>\n",
       "      <td>Socks</td>\n",
       "      <td>Dc</td>\n",
       "      <td>10.0</td>\n",
       "      <td>2</td>\n",
       "    </tr>\n",
       "    <tr>\n",
       "      <th>5</th>\n",
       "      <td>9423534</td>\n",
       "      <td>2022-02-04</td>\n",
       "      <td>9001.0</td>\n",
       "      <td>Socks</td>\n",
       "      <td>Quiksilver</td>\n",
       "      <td>12.0</td>\n",
       "      <td>2</td>\n",
       "    </tr>\n",
       "    <tr>\n",
       "      <th>6</th>\n",
       "      <td>9423679</td>\n",
       "      <td>2022-02-05</td>\n",
       "      <td>9002.0</td>\n",
       "      <td>T-shirt</td>\n",
       "      <td>Patagonia</td>\n",
       "      <td>35.0</td>\n",
       "      <td>1</td>\n",
       "    </tr>\n",
       "    <tr>\n",
       "      <th>7</th>\n",
       "      <td>4626377</td>\n",
       "      <td>2022-02-05</td>\n",
       "      <td>9003.0</td>\n",
       "      <td>Hoody</td>\n",
       "      <td>Animal</td>\n",
       "      <td>44.0</td>\n",
       "      <td>1</td>\n",
       "    </tr>\n",
       "    <tr>\n",
       "      <th>8</th>\n",
       "      <td>4626377</td>\n",
       "      <td>2022-02-05</td>\n",
       "      <td>9003.0</td>\n",
       "      <td>Cargo Shorts</td>\n",
       "      <td>Animal</td>\n",
       "      <td>38.0</td>\n",
       "      <td>1</td>\n",
       "    </tr>\n",
       "    <tr>\n",
       "      <th>9</th>\n",
       "      <td>4626412</td>\n",
       "      <td>2022-02-05</td>\n",
       "      <td>9004.0</td>\n",
       "      <td>Shirt</td>\n",
       "      <td>Volcom</td>\n",
       "      <td>78.0</td>\n",
       "      <td>1</td>\n",
       "    </tr>\n",
       "    <tr>\n",
       "      <th>10</th>\n",
       "      <td>9423783</td>\n",
       "      <td>2022-02-06</td>\n",
       "      <td>9002.0</td>\n",
       "      <td>Boxer Shorts</td>\n",
       "      <td>Superdry</td>\n",
       "      <td>30.0</td>\n",
       "      <td>2</td>\n",
       "    </tr>\n",
       "    <tr>\n",
       "      <th>11</th>\n",
       "      <td>9423783</td>\n",
       "      <td>2022-02-06</td>\n",
       "      <td>9002.0</td>\n",
       "      <td>Shorts</td>\n",
       "      <td>Globe</td>\n",
       "      <td>26.0</td>\n",
       "      <td>1</td>\n",
       "    </tr>\n",
       "    <tr>\n",
       "      <th>12</th>\n",
       "      <td>4626490</td>\n",
       "      <td>2022-02-06</td>\n",
       "      <td>9004.0</td>\n",
       "      <td>Cargo Shorts</td>\n",
       "      <td>Billabong</td>\n",
       "      <td>54.0</td>\n",
       "      <td>1</td>\n",
       "    </tr>\n",
       "    <tr>\n",
       "      <th>13</th>\n",
       "      <td>4626490</td>\n",
       "      <td>2022-02-06</td>\n",
       "      <td>9004.0</td>\n",
       "      <td>Sweater</td>\n",
       "      <td>Dickies</td>\n",
       "      <td>56.0</td>\n",
       "      <td>1</td>\n",
       "    </tr>\n",
       "    <tr>\n",
       "      <th>14</th>\n",
       "      <td>4626592</td>\n",
       "      <td>NaN</td>\n",
       "      <td>NaN</td>\n",
       "      <td>Shorts</td>\n",
       "      <td>Protest</td>\n",
       "      <td>48.0</td>\n",
       "      <td>1</td>\n",
       "    </tr>\n",
       "  </tbody>\n",
       "</table>\n",
       "</div>"
      ],
      "text/plain": [
       "    OrderNo        Date   Empno          Item           Brand  Price  Quantity\n",
       "0   9423517  2022-02-04  9001.0         Jeans        Rip Curl   87.0         1\n",
       "1   9423517  2022-02-04  9001.0       Jacknet  The North Face  112.0         1\n",
       "2   4626232  2022-02-04  9003.0         Socks            Vans   15.0         1\n",
       "3   4626232  2022-02-04  9003.0         Jeans      Quiksilver   82.0         1\n",
       "4   9423534  2022-02-04  9001.0         Socks              Dc   10.0         2\n",
       "5   9423534  2022-02-04  9001.0         Socks      Quiksilver   12.0         2\n",
       "6   9423679  2022-02-05  9002.0       T-shirt       Patagonia   35.0         1\n",
       "7   4626377  2022-02-05  9003.0         Hoody          Animal   44.0         1\n",
       "8   4626377  2022-02-05  9003.0  Cargo Shorts          Animal   38.0         1\n",
       "9   4626412  2022-02-05  9004.0         Shirt          Volcom   78.0         1\n",
       "10  9423783  2022-02-06  9002.0  Boxer Shorts        Superdry   30.0         2\n",
       "11  9423783  2022-02-06  9002.0        Shorts           Globe   26.0         1\n",
       "12  4626490  2022-02-06  9004.0  Cargo Shorts       Billabong   54.0         1\n",
       "13  4626490  2022-02-06  9004.0       Sweater         Dickies   56.0         1\n",
       "14  4626592         NaN     NaN        Shorts         Protest   48.0         1"
      ]
     },
     "execution_count": 87,
     "metadata": {},
     "output_type": "execute_result"
    }
   ],
   "source": [
    "orders_details_right"
   ]
  },
  {
   "cell_type": "markdown",
   "id": "9dbf45c4-dc3a-4863-9c36-ea7b99fbda27",
   "metadata": {},
   "source": [
    "这段代码是使用 pandas 库中的 merge() 函数来合并两个 DataFrame。下面是对这段代码中参数的解释：\r\n",
    "\r\n",
    "- `orders_total`: 这是第一个要合并的 DataFrame，它包含了订单的总信息。\r\n",
    "- `details`: 这是第二个要合并的 DataFrame，它包含了订单的详细信息。\r\n",
    "- `how = 'right'`: 这是 merge() 函数的一个参数，表示合并的方式。在这里，设置为 'right' 表示以右侧的 DataFrame（即 details）作为主表进行合并。\r\n",
    "- `left_on = 'OrderNo'`: 这是 merge() 函数的另一个参数，表示左侧 DataFrame（即 orders_total）中用于匹配的列名。在这里，设置为 'OrderNo'，表示以 'OrderNo' 列作为键值进行匹配。\r\n",
    "- `right_on = 'OrderNo'`: 这是 merge() 函数的最后一个参数，表示右侧 DataFrame（即 details）中用于匹配的列名。在这里，也设置为 'OrderNo'，表示以 'OrderNo' 列作为键值进行匹配。\r\n",
    "\r\n",
    "通过设置 `how = 'right'` 和指定相同的键值列名，这段代码将根据 'OrderNo' 列的值将两个 DataFrame 进行右连接合并。结果将会包含来自两个 DataFrame 的所有行，如果某个键值在右侧 DataFrame 中不存在，则对应的值会显示为 NaN。"
   ]
  },
  {
   "cell_type": "markdown",
   "id": "f187ed47-4fcd-4cca-967e-c52d46cecabf",
   "metadata": {},
   "source": [
    "需要注意的是，数据框中NaN，这会导致一个问题，就是NaN不能够存储再整型列中，因此pandas库会再插入NaN时候自动将整型转换为浮点型列："
   ]
  },
  {
   "cell_type": "code",
   "execution_count": 89,
   "id": "d5c561de-ab89-4465-9a06-86e26ccb4de7",
   "metadata": {},
   "outputs": [
    {
     "name": "stdout",
     "output_type": "stream",
     "text": [
      "OrderNo       int64\n",
      "Date         object\n",
      "Empno       float64\n",
      "Item         object\n",
      "Brand        object\n",
      "Price       float64\n",
      "Quantity      int64\n",
      "dtype: object\n"
     ]
    }
   ],
   "source": [
    "print(orders_details_right.dtypes)"
   ]
  },
  {
   "cell_type": "markdown",
   "id": "2c4c7057-4367-4d99-b64c-9991a4c12b26",
   "metadata": {},
   "source": [
    "可以看到Empno列的类型为float64，如果我们查看最初的数据的类型："
   ]
  },
  {
   "cell_type": "code",
   "execution_count": 90,
   "id": "ffc184cb-7367-4987-afc2-8f74cb74defa",
   "metadata": {},
   "outputs": [
    {
     "data": {
      "text/plain": [
       "OrderNo     int64\n",
       "Date       object\n",
       "Empno       int64\n",
       "dtype: object"
      ]
     },
     "execution_count": 90,
     "metadata": {},
     "output_type": "execute_result"
    }
   ],
   "source": [
    "orders_total.dtypes"
   ]
  },
  {
   "cell_type": "markdown",
   "id": "cbd429c3-d5fa-4798-b329-ba94c1d25ff8",
   "metadata": {},
   "source": [
    "可以清除的看到Empno的类型为int64。"
   ]
  },
  {
   "cell_type": "markdown",
   "id": "420e9de5-de78-4c9f-8290-063c4a36cc35",
   "metadata": {},
   "source": [
    "这样的转变是不可以被接受的，因为员工的编号不应该有小数，所以一种方法是将NaN转换为0，只要员工的编号不会出现0就可以接受这样的转换："
   ]
  },
  {
   "cell_type": "code",
   "execution_count": 91,
   "id": "84d5aac5-60d9-4d37-a339-828ed943f8e5",
   "metadata": {},
   "outputs": [],
   "source": [
    "orders_details_right = orders_details_right.fillna({'Empno':0}).astype({'Empno': 'int64'})"
   ]
  },
  {
   "cell_type": "code",
   "execution_count": 92,
   "id": "b87dbd0a-a6e9-43a8-b9ff-8aa0cc87c762",
   "metadata": {},
   "outputs": [
    {
     "data": {
      "text/plain": [
       "OrderNo       int64\n",
       "Date         object\n",
       "Empno         int64\n",
       "Item         object\n",
       "Brand        object\n",
       "Price       float64\n",
       "Quantity      int64\n",
       "dtype: object"
      ]
     },
     "execution_count": 92,
     "metadata": {},
     "output_type": "execute_result"
    }
   ],
   "source": [
    "orders_details_right.dtypes"
   ]
  },
  {
   "cell_type": "markdown",
   "id": "b179e8a8-2d65-44fc-80ac-c4d9cfb0d4b5",
   "metadata": {},
   "source": [
    "这里首先使用了 fillna() 函数来将 NaN 替换为0.接着将整个 Empno 列转换为 int64。"
   ]
  }
 ],
 "metadata": {
  "kernelspec": {
   "display_name": "Python 3 (ipykernel)",
   "language": "python",
   "name": "python3"
  },
  "language_info": {
   "codemirror_mode": {
    "name": "ipython",
    "version": 3
   },
   "file_extension": ".py",
   "mimetype": "text/x-python",
   "name": "python",
   "nbconvert_exporter": "python",
   "pygments_lexer": "ipython3",
   "version": "3.10.11"
  }
 },
 "nbformat": 4,
 "nbformat_minor": 5
}
